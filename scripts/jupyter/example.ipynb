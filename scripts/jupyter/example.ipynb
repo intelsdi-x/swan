{
 "cells": [
  {
   "cell_type": "markdown",
   "metadata": {},
   "source": [
    "Before start the experiment, please fill `ip`and `port` of cassandra cluster and `EXPERIMENT_ID`"
   ]
  },
  {
   "cell_type": "code",
   "execution_count": 2,
   "metadata": {
    "collapsed": true
   },
   "outputs": [],
   "source": [
    "IP = '127.0.0.1'"
   ]
  },
  {
   "cell_type": "code",
   "execution_count": 3,
   "metadata": {
    "collapsed": true
   },
   "outputs": [],
   "source": [
    "PORT = 19042"
   ]
  },
  {
   "cell_type": "code",
   "execution_count": 4,
   "metadata": {
    "collapsed": true
   },
   "outputs": [],
   "source": [
    "EXPERIMENT_ID1 = 'f7d132e5-6a7e-4790-7697-6b65f7428c58'\n",
    "EXPERIMENT_ID2 = '05aa1be7-7d77-402a-4889-add0b7534229'"
   ]
  },
  {
   "cell_type": "markdown",
   "metadata": {},
   "source": [
    "The experiment module contains the entry point for swan experiment data."
   ]
  },
  {
   "cell_type": "code",
   "execution_count": 5,
   "metadata": {
    "collapsed": false
   },
   "outputs": [],
   "source": [
    "from experiment import *"
   ]
  },
  {
   "cell_type": "markdown",
   "metadata": {},
   "source": [
    "The profile module produce the sensitivity profile as found in the [Heracles paper](http://csl.stanford.edu/~christos/publications/2015.heracles.isca.pdf)."
   ]
  },
  {
   "cell_type": "code",
   "execution_count": 6,
   "metadata": {
    "collapsed": false
   },
   "outputs": [],
   "source": [
    "from profile import Profile, compare_experiments"
   ]
  },
  {
   "cell_type": "markdown",
   "metadata": {},
   "source": [
    "An experiment can now be loaded from the database by its ID."
   ]
  },
  {
   "cell_type": "code",
   "execution_count": 7,
   "metadata": {
    "collapsed": false
   },
   "outputs": [],
   "source": [
    "import time \n",
    "\n",
    "start = time.time()\n",
    "\n",
    "exp1 = Experiment(cassandra_cluster=[IP], \n",
    "                        experiment_id=EXPERIMENT_ID1, port=PORT, name=\"with_conf1\")\n",
    "exp2 = Experiment(cassandra_cluster=[IP], \n",
    "                        experiment_id=EXPERIMENT_ID2, port=PORT, name=\"without_conf2\")\n",
    "\n",
    "stop = time.time()"
   ]
  },
  {
   "cell_type": "code",
   "execution_count": 8,
   "metadata": {
    "collapsed": false
   },
   "outputs": [
    {
     "name": "stdout",
     "output_type": "stream",
     "text": [
      "Experiments took 0 seconds.\n"
     ]
    }
   ],
   "source": [
    "print(\"Experiments took %s seconds.\" % int(stop - start))"
   ]
  },
  {
   "cell_type": "markdown",
   "metadata": {},
   "source": [
    "The experiment now has the sample data and the raw samples can be access through the Panda dataframe in experiment.frame"
   ]
  },
  {
   "cell_type": "code",
   "execution_count": 9,
   "metadata": {
    "collapsed": false,
    "scrolled": false
   },
   "outputs": [
    {
     "data": {
      "text/html": [
       "<table border=\"1\" class=\"dataframe\">\n",
       "  <thead>\n",
       "    <tr style=\"text-align: right;\">\n",
       "      <th>ns</th>\n",
       "      <th>host</th>\n",
       "      <th>time</th>\n",
       "      <th>value</th>\n",
       "      <th>plugin_running_on</th>\n",
       "      <th>swan_loadpoint_qps</th>\n",
       "      <th>achieved_qps_percent</th>\n",
       "      <th>swan_experiment</th>\n",
       "      <th>swan_aggressor_name</th>\n",
       "      <th>swan_phase</th>\n",
       "      <th>swan_repetition</th>\n",
       "    </tr>\n",
       "  </thead>\n",
       "  <tbody>\n",
       "    <tr>\n",
       "      <td>/intel/swan/mutilate/ns6532600.ip-5-135-129.eu...</td>\n",
       "      <td>ns6532600.ip-5-135-129.eu</td>\n",
       "      <td>2016-10-03 13:38:18.987</td>\n",
       "      <td>402.1</td>\n",
       "      <td>ns6532600.ip-5-135-129.eu</td>\n",
       "      <td>720000</td>\n",
       "      <td>100.02%</td>\n",
       "      <td>f7d132e5-6a7e-4790-7697-6b65f7428c58</td>\n",
       "      <td>None</td>\n",
       "      <td>baseline_measurement_for_loadpoint_id_4</td>\n",
       "      <td>0</td>\n",
       "    </tr>\n",
       "    <tr>\n",
       "      <td>/intel/swan/mutilate/ns6532600.ip-5-135-129.eu...</td>\n",
       "      <td>ns6532600.ip-5-135-129.eu</td>\n",
       "      <td>2016-10-03 13:43:01.312</td>\n",
       "      <td>1480.5</td>\n",
       "      <td>ns6532600.ip-5-135-129.eu</td>\n",
       "      <td>720000</td>\n",
       "      <td>99.99%</td>\n",
       "      <td>f7d132e5-6a7e-4790-7697-6b65f7428c58</td>\n",
       "      <td>L1 Data</td>\n",
       "      <td>aggressor_nr_0_measurement_for_loadpoint_id_4</td>\n",
       "      <td>0</td>\n",
       "    </tr>\n",
       "    <tr>\n",
       "      <td>/intel/swan/mutilate/ns6532600.ip-5-135-129.eu...</td>\n",
       "      <td>ns6532600.ip-5-135-129.eu</td>\n",
       "      <td>2016-10-03 13:39:12.347</td>\n",
       "      <td>969.0</td>\n",
       "      <td>ns6532600.ip-5-135-129.eu</td>\n",
       "      <td>900000</td>\n",
       "      <td>99.99%</td>\n",
       "      <td>f7d132e5-6a7e-4790-7697-6b65f7428c58</td>\n",
       "      <td>None</td>\n",
       "      <td>baseline_measurement_for_loadpoint_id_5</td>\n",
       "      <td>0</td>\n",
       "    </tr>\n",
       "    <tr>\n",
       "      <td>/intel/swan/mutilate/ns6532600.ip-5-135-129.eu...</td>\n",
       "      <td>ns6532600.ip-5-135-129.eu</td>\n",
       "      <td>2016-10-03 13:48:48.505</td>\n",
       "      <td>2294.8</td>\n",
       "      <td>ns6532600.ip-5-135-129.eu</td>\n",
       "      <td>900000</td>\n",
       "      <td>100.00%</td>\n",
       "      <td>f7d132e5-6a7e-4790-7697-6b65f7428c58</td>\n",
       "      <td>L3 Data</td>\n",
       "      <td>aggressor_nr_1_measurement_for_loadpoint_id_5</td>\n",
       "      <td>0</td>\n",
       "    </tr>\n",
       "    <tr>\n",
       "      <td>/intel/swan/mutilate/ns6532600.ip-5-135-129.eu...</td>\n",
       "      <td>ns6532600.ip-5-135-129.eu</td>\n",
       "      <td>2016-10-03 13:43:55.864</td>\n",
       "      <td>3044.7</td>\n",
       "      <td>ns6532600.ip-5-135-129.eu</td>\n",
       "      <td>900000</td>\n",
       "      <td>100.00%</td>\n",
       "      <td>f7d132e5-6a7e-4790-7697-6b65f7428c58</td>\n",
       "      <td>L1 Data</td>\n",
       "      <td>aggressor_nr_0_measurement_for_loadpoint_id_5</td>\n",
       "      <td>0</td>\n",
       "    </tr>\n",
       "    <tr>\n",
       "      <td>/intel/swan/mutilate/ns6532600.ip-5-135-129.eu...</td>\n",
       "      <td>ns6532600.ip-5-135-129.eu</td>\n",
       "      <td>2016-10-03 13:46:55.051</td>\n",
       "      <td>445.6</td>\n",
       "      <td>ns6532600.ip-5-135-129.eu</td>\n",
       "      <td>540000</td>\n",
       "      <td>99.99%</td>\n",
       "      <td>f7d132e5-6a7e-4790-7697-6b65f7428c58</td>\n",
       "      <td>L3 Data</td>\n",
       "      <td>aggressor_nr_1_measurement_for_loadpoint_id_3</td>\n",
       "      <td>0</td>\n",
       "    </tr>\n",
       "    <tr>\n",
       "      <td>/intel/swan/mutilate/ns6532600.ip-5-135-129.eu...</td>\n",
       "      <td>ns6532600.ip-5-135-129.eu</td>\n",
       "      <td>2016-10-03 13:42:02.099</td>\n",
       "      <td>470.6</td>\n",
       "      <td>ns6532600.ip-5-135-129.eu</td>\n",
       "      <td>540000</td>\n",
       "      <td>100.00%</td>\n",
       "      <td>f7d132e5-6a7e-4790-7697-6b65f7428c58</td>\n",
       "      <td>L1 Data</td>\n",
       "      <td>aggressor_nr_0_measurement_for_loadpoint_id_3</td>\n",
       "      <td>0</td>\n",
       "    </tr>\n",
       "    <tr>\n",
       "      <td>/intel/swan/mutilate/ns6532600.ip-5-135-129.eu...</td>\n",
       "      <td>ns6532600.ip-5-135-129.eu</td>\n",
       "      <td>2016-10-03 13:36:30.566</td>\n",
       "      <td>304.9</td>\n",
       "      <td>ns6532600.ip-5-135-129.eu</td>\n",
       "      <td>360000</td>\n",
       "      <td>99.98%</td>\n",
       "      <td>f7d132e5-6a7e-4790-7697-6b65f7428c58</td>\n",
       "      <td>None</td>\n",
       "      <td>baseline_measurement_for_loadpoint_id_2</td>\n",
       "      <td>0</td>\n",
       "    </tr>\n",
       "    <tr>\n",
       "      <td>/intel/swan/mutilate/ns6532600.ip-5-135-129.eu...</td>\n",
       "      <td>ns6532600.ip-5-135-129.eu</td>\n",
       "      <td>2016-10-03 13:50:50.367</td>\n",
       "      <td>955.2</td>\n",
       "      <td>ns6532600.ip-5-135-129.eu</td>\n",
       "      <td>360000</td>\n",
       "      <td>99.99%</td>\n",
       "      <td>f7d132e5-6a7e-4790-7697-6b65f7428c58</td>\n",
       "      <td>Stream 100M</td>\n",
       "      <td>aggressor_nr_2_measurement_for_loadpoint_id_2</td>\n",
       "      <td>0</td>\n",
       "    </tr>\n",
       "    <tr>\n",
       "      <td>/intel/swan/mutilate/ns6532600.ip-5-135-129.eu...</td>\n",
       "      <td>ns6532600.ip-5-135-129.eu</td>\n",
       "      <td>2016-10-03 13:37:20.708</td>\n",
       "      <td>363.4</td>\n",
       "      <td>ns6532600.ip-5-135-129.eu</td>\n",
       "      <td>540000</td>\n",
       "      <td>100.01%</td>\n",
       "      <td>f7d132e5-6a7e-4790-7697-6b65f7428c58</td>\n",
       "      <td>None</td>\n",
       "      <td>baseline_measurement_for_loadpoint_id_3</td>\n",
       "      <td>0</td>\n",
       "    </tr>\n",
       "    <tr>\n",
       "      <td>/intel/swan/mutilate/ns6532600.ip-5-135-129.eu...</td>\n",
       "      <td>ns6532600.ip-5-135-129.eu</td>\n",
       "      <td>2016-10-03 13:41:04.764</td>\n",
       "      <td>357.3</td>\n",
       "      <td>ns6532600.ip-5-135-129.eu</td>\n",
       "      <td>360000</td>\n",
       "      <td>100.01%</td>\n",
       "      <td>f7d132e5-6a7e-4790-7697-6b65f7428c58</td>\n",
       "      <td>L1 Data</td>\n",
       "      <td>aggressor_nr_0_measurement_for_loadpoint_id_2</td>\n",
       "      <td>0</td>\n",
       "    </tr>\n",
       "    <tr>\n",
       "      <td>/intel/swan/mutilate/ns6532600.ip-5-135-129.eu...</td>\n",
       "      <td>ns6532600.ip-5-135-129.eu</td>\n",
       "      <td>2016-10-03 13:35:36.103</td>\n",
       "      <td>270.2</td>\n",
       "      <td>ns6532600.ip-5-135-129.eu</td>\n",
       "      <td>180000</td>\n",
       "      <td>99.92%</td>\n",
       "      <td>f7d132e5-6a7e-4790-7697-6b65f7428c58</td>\n",
       "      <td>None</td>\n",
       "      <td>baseline_measurement_for_loadpoint_id_1</td>\n",
       "      <td>0</td>\n",
       "    </tr>\n",
       "    <tr>\n",
       "      <td>/intel/swan/mutilate/ns6532600.ip-5-135-129.eu...</td>\n",
       "      <td>ns6532600.ip-5-135-129.eu</td>\n",
       "      <td>2016-10-03 13:49:46.774</td>\n",
       "      <td>319.0</td>\n",
       "      <td>ns6532600.ip-5-135-129.eu</td>\n",
       "      <td>180000</td>\n",
       "      <td>99.95%</td>\n",
       "      <td>f7d132e5-6a7e-4790-7697-6b65f7428c58</td>\n",
       "      <td>Stream 100M</td>\n",
       "      <td>aggressor_nr_2_measurement_for_loadpoint_id_1</td>\n",
       "      <td>0</td>\n",
       "    </tr>\n",
       "    <tr>\n",
       "      <td>/intel/swan/mutilate/ns6532600.ip-5-135-129.eu...</td>\n",
       "      <td>ns6532600.ip-5-135-129.eu</td>\n",
       "      <td>2016-10-03 13:51:48.946</td>\n",
       "      <td>47110.8</td>\n",
       "      <td>ns6532600.ip-5-135-129.eu</td>\n",
       "      <td>540000</td>\n",
       "      <td>99.98%</td>\n",
       "      <td>f7d132e5-6a7e-4790-7697-6b65f7428c58</td>\n",
       "      <td>Stream 100M</td>\n",
       "      <td>aggressor_nr_2_measurement_for_loadpoint_id_3</td>\n",
       "      <td>0</td>\n",
       "    </tr>\n",
       "    <tr>\n",
       "      <td>/intel/swan/mutilate/ns6532600.ip-5-135-129.eu...</td>\n",
       "      <td>ns6532600.ip-5-135-129.eu</td>\n",
       "      <td>2016-10-03 13:53:38.819</td>\n",
       "      <td>54381.5</td>\n",
       "      <td>ns6532600.ip-5-135-129.eu</td>\n",
       "      <td>900000</td>\n",
       "      <td>99.91%</td>\n",
       "      <td>f7d132e5-6a7e-4790-7697-6b65f7428c58</td>\n",
       "      <td>Stream 100M</td>\n",
       "      <td>aggressor_nr_2_measurement_for_loadpoint_id_5</td>\n",
       "      <td>0</td>\n",
       "    </tr>\n",
       "    <tr>\n",
       "      <td>/intel/swan/mutilate/ns6532600.ip-5-135-129.eu...</td>\n",
       "      <td>ns6532600.ip-5-135-129.eu</td>\n",
       "      <td>2016-10-03 13:52:43.241</td>\n",
       "      <td>61367.4</td>\n",
       "      <td>ns6532600.ip-5-135-129.eu</td>\n",
       "      <td>720000</td>\n",
       "      <td>99.91%</td>\n",
       "      <td>f7d132e5-6a7e-4790-7697-6b65f7428c58</td>\n",
       "      <td>Stream 100M</td>\n",
       "      <td>aggressor_nr_2_measurement_for_loadpoint_id_4</td>\n",
       "      <td>0</td>\n",
       "    </tr>\n",
       "    <tr>\n",
       "      <td>/intel/swan/mutilate/ns6532600.ip-5-135-129.eu...</td>\n",
       "      <td>ns6532600.ip-5-135-129.eu</td>\n",
       "      <td>2016-10-03 13:45:57.131</td>\n",
       "      <td>332.4</td>\n",
       "      <td>ns6532600.ip-5-135-129.eu</td>\n",
       "      <td>360000</td>\n",
       "      <td>99.92%</td>\n",
       "      <td>f7d132e5-6a7e-4790-7697-6b65f7428c58</td>\n",
       "      <td>L3 Data</td>\n",
       "      <td>aggressor_nr_1_measurement_for_loadpoint_id_2</td>\n",
       "      <td>0</td>\n",
       "    </tr>\n",
       "    <tr>\n",
       "      <td>/intel/swan/mutilate/ns6532600.ip-5-135-129.eu...</td>\n",
       "      <td>ns6532600.ip-5-135-129.eu</td>\n",
       "      <td>2016-10-03 13:47:54.294</td>\n",
       "      <td>987.1</td>\n",
       "      <td>ns6532600.ip-5-135-129.eu</td>\n",
       "      <td>720000</td>\n",
       "      <td>100.00%</td>\n",
       "      <td>f7d132e5-6a7e-4790-7697-6b65f7428c58</td>\n",
       "      <td>L3 Data</td>\n",
       "      <td>aggressor_nr_1_measurement_for_loadpoint_id_4</td>\n",
       "      <td>0</td>\n",
       "    </tr>\n",
       "    <tr>\n",
       "      <td>/intel/swan/mutilate/ns6532600.ip-5-135-129.eu...</td>\n",
       "      <td>ns6532600.ip-5-135-129.eu</td>\n",
       "      <td>2016-10-03 13:40:05.978</td>\n",
       "      <td>281.3</td>\n",
       "      <td>ns6532600.ip-5-135-129.eu</td>\n",
       "      <td>180000</td>\n",
       "      <td>100.02%</td>\n",
       "      <td>f7d132e5-6a7e-4790-7697-6b65f7428c58</td>\n",
       "      <td>L1 Data</td>\n",
       "      <td>aggressor_nr_0_measurement_for_loadpoint_id_1</td>\n",
       "      <td>0</td>\n",
       "    </tr>\n",
       "    <tr>\n",
       "      <td>/intel/swan/mutilate/ns6532600.ip-5-135-129.eu...</td>\n",
       "      <td>ns6532600.ip-5-135-129.eu</td>\n",
       "      <td>2016-10-03 13:44:59.271</td>\n",
       "      <td>285.0</td>\n",
       "      <td>ns6532600.ip-5-135-129.eu</td>\n",
       "      <td>180000</td>\n",
       "      <td>100.06%</td>\n",
       "      <td>f7d132e5-6a7e-4790-7697-6b65f7428c58</td>\n",
       "      <td>L3 Data</td>\n",
       "      <td>aggressor_nr_1_measurement_for_loadpoint_id_1</td>\n",
       "      <td>0</td>\n",
       "    </tr>\n",
       "  </tbody>\n",
       "</table>"
      ],
      "text/plain": [
       "<experiment.Experiment at 0x7f298c6140d0>"
      ]
     },
     "execution_count": 9,
     "metadata": {},
     "output_type": "execute_result"
    }
   ],
   "source": [
    "exp1"
   ]
  },
  {
   "cell_type": "code",
   "execution_count": 10,
   "metadata": {
    "collapsed": false
   },
   "outputs": [
    {
     "data": {
      "text/html": [
       "<table border=\"1\" class=\"dataframe\">\n",
       "  <thead>\n",
       "    <tr style=\"text-align: right;\">\n",
       "      <th>ns</th>\n",
       "      <th>host</th>\n",
       "      <th>time</th>\n",
       "      <th>value</th>\n",
       "      <th>plugin_running_on</th>\n",
       "      <th>swan_loadpoint_qps</th>\n",
       "      <th>achieved_qps_percent</th>\n",
       "      <th>swan_experiment</th>\n",
       "      <th>swan_aggressor_name</th>\n",
       "      <th>swan_phase</th>\n",
       "      <th>swan_repetition</th>\n",
       "    </tr>\n",
       "  </thead>\n",
       "  <tbody>\n",
       "    <tr>\n",
       "      <td>/intel/swan/mutilate/ns6532600.ip-5-135-129.eu...</td>\n",
       "      <td>ns6532600.ip-5-135-129.eu</td>\n",
       "      <td>2016-10-03 13:58:22.713</td>\n",
       "      <td>564.6</td>\n",
       "      <td>ns6532600.ip-5-135-129.eu</td>\n",
       "      <td>720000</td>\n",
       "      <td>100.01%</td>\n",
       "      <td>05aa1be7-7d77-402a-4889-add0b7534229</td>\n",
       "      <td>None</td>\n",
       "      <td>baseline_measurement_for_loadpoint_id_4</td>\n",
       "      <td>0</td>\n",
       "    </tr>\n",
       "    <tr>\n",
       "      <td>/intel/swan/mutilate/ns6532600.ip-5-135-129.eu...</td>\n",
       "      <td>ns6532600.ip-5-135-129.eu</td>\n",
       "      <td>2016-10-03 14:03:22.597</td>\n",
       "      <td>564.0</td>\n",
       "      <td>ns6532600.ip-5-135-129.eu</td>\n",
       "      <td>720000</td>\n",
       "      <td>99.96%</td>\n",
       "      <td>05aa1be7-7d77-402a-4889-add0b7534229</td>\n",
       "      <td>L1 Data</td>\n",
       "      <td>aggressor_nr_0_measurement_for_loadpoint_id_4</td>\n",
       "      <td>0</td>\n",
       "    </tr>\n",
       "    <tr>\n",
       "      <td>/intel/swan/mutilate/ns6532600.ip-5-135-129.eu...</td>\n",
       "      <td>ns6532600.ip-5-135-129.eu</td>\n",
       "      <td>2016-10-03 13:59:14.685</td>\n",
       "      <td>1017.9</td>\n",
       "      <td>ns6532600.ip-5-135-129.eu</td>\n",
       "      <td>900000</td>\n",
       "      <td>99.98%</td>\n",
       "      <td>05aa1be7-7d77-402a-4889-add0b7534229</td>\n",
       "      <td>None</td>\n",
       "      <td>baseline_measurement_for_loadpoint_id_5</td>\n",
       "      <td>0</td>\n",
       "    </tr>\n",
       "    <tr>\n",
       "      <td>/intel/swan/mutilate/ns6532600.ip-5-135-129.eu...</td>\n",
       "      <td>ns6532600.ip-5-135-129.eu</td>\n",
       "      <td>2016-10-03 14:09:10.009</td>\n",
       "      <td>824.4</td>\n",
       "      <td>ns6532600.ip-5-135-129.eu</td>\n",
       "      <td>900000</td>\n",
       "      <td>100.00%</td>\n",
       "      <td>05aa1be7-7d77-402a-4889-add0b7534229</td>\n",
       "      <td>L3 Data</td>\n",
       "      <td>aggressor_nr_1_measurement_for_loadpoint_id_5</td>\n",
       "      <td>0</td>\n",
       "    </tr>\n",
       "    <tr>\n",
       "      <td>/intel/swan/mutilate/ns6532600.ip-5-135-129.eu...</td>\n",
       "      <td>ns6532600.ip-5-135-129.eu</td>\n",
       "      <td>2016-10-03 14:04:22.813</td>\n",
       "      <td>961.9</td>\n",
       "      <td>ns6532600.ip-5-135-129.eu</td>\n",
       "      <td>900000</td>\n",
       "      <td>99.96%</td>\n",
       "      <td>05aa1be7-7d77-402a-4889-add0b7534229</td>\n",
       "      <td>L1 Data</td>\n",
       "      <td>aggressor_nr_0_measurement_for_loadpoint_id_5</td>\n",
       "      <td>0</td>\n",
       "    </tr>\n",
       "    <tr>\n",
       "      <td>/intel/swan/mutilate/ns6532600.ip-5-135-129.eu...</td>\n",
       "      <td>ns6532600.ip-5-135-129.eu</td>\n",
       "      <td>2016-10-03 14:07:09.889</td>\n",
       "      <td>532.5</td>\n",
       "      <td>ns6532600.ip-5-135-129.eu</td>\n",
       "      <td>540000</td>\n",
       "      <td>99.95%</td>\n",
       "      <td>05aa1be7-7d77-402a-4889-add0b7534229</td>\n",
       "      <td>L3 Data</td>\n",
       "      <td>aggressor_nr_1_measurement_for_loadpoint_id_3</td>\n",
       "      <td>0</td>\n",
       "    </tr>\n",
       "    <tr>\n",
       "      <td>/intel/swan/mutilate/ns6532600.ip-5-135-129.eu...</td>\n",
       "      <td>ns6532600.ip-5-135-129.eu</td>\n",
       "      <td>2016-10-03 14:02:16.366</td>\n",
       "      <td>400.2</td>\n",
       "      <td>ns6532600.ip-5-135-129.eu</td>\n",
       "      <td>540000</td>\n",
       "      <td>100.00%</td>\n",
       "      <td>05aa1be7-7d77-402a-4889-add0b7534229</td>\n",
       "      <td>L1 Data</td>\n",
       "      <td>aggressor_nr_0_measurement_for_loadpoint_id_3</td>\n",
       "      <td>0</td>\n",
       "    </tr>\n",
       "    <tr>\n",
       "      <td>/intel/swan/mutilate/ns6532600.ip-5-135-129.eu...</td>\n",
       "      <td>ns6532600.ip-5-135-129.eu</td>\n",
       "      <td>2016-10-03 13:56:41.023</td>\n",
       "      <td>330.9</td>\n",
       "      <td>ns6532600.ip-5-135-129.eu</td>\n",
       "      <td>360000</td>\n",
       "      <td>99.99%</td>\n",
       "      <td>05aa1be7-7d77-402a-4889-add0b7534229</td>\n",
       "      <td>None</td>\n",
       "      <td>baseline_measurement_for_loadpoint_id_2</td>\n",
       "      <td>0</td>\n",
       "    </tr>\n",
       "    <tr>\n",
       "      <td>/intel/swan/mutilate/ns6532600.ip-5-135-129.eu...</td>\n",
       "      <td>ns6532600.ip-5-135-129.eu</td>\n",
       "      <td>2016-10-03 14:11:03.379</td>\n",
       "      <td>567.5</td>\n",
       "      <td>ns6532600.ip-5-135-129.eu</td>\n",
       "      <td>360000</td>\n",
       "      <td>99.98%</td>\n",
       "      <td>05aa1be7-7d77-402a-4889-add0b7534229</td>\n",
       "      <td>Stream 100M</td>\n",
       "      <td>aggressor_nr_2_measurement_for_loadpoint_id_2</td>\n",
       "      <td>0</td>\n",
       "    </tr>\n",
       "    <tr>\n",
       "      <td>/intel/swan/mutilate/ns6532600.ip-5-135-129.eu...</td>\n",
       "      <td>ns6532600.ip-5-135-129.eu</td>\n",
       "      <td>2016-10-03 13:57:30.980</td>\n",
       "      <td>401.7</td>\n",
       "      <td>ns6532600.ip-5-135-129.eu</td>\n",
       "      <td>540000</td>\n",
       "      <td>99.97%</td>\n",
       "      <td>05aa1be7-7d77-402a-4889-add0b7534229</td>\n",
       "      <td>None</td>\n",
       "      <td>baseline_measurement_for_loadpoint_id_3</td>\n",
       "      <td>0</td>\n",
       "    </tr>\n",
       "    <tr>\n",
       "      <td>/intel/swan/mutilate/ns6532600.ip-5-135-129.eu...</td>\n",
       "      <td>ns6532600.ip-5-135-129.eu</td>\n",
       "      <td>2016-10-03 14:01:06.368</td>\n",
       "      <td>406.5</td>\n",
       "      <td>ns6532600.ip-5-135-129.eu</td>\n",
       "      <td>360000</td>\n",
       "      <td>100.02%</td>\n",
       "      <td>05aa1be7-7d77-402a-4889-add0b7534229</td>\n",
       "      <td>L1 Data</td>\n",
       "      <td>aggressor_nr_0_measurement_for_loadpoint_id_2</td>\n",
       "      <td>0</td>\n",
       "    </tr>\n",
       "    <tr>\n",
       "      <td>/intel/swan/mutilate/ns6532600.ip-5-135-129.eu...</td>\n",
       "      <td>ns6532600.ip-5-135-129.eu</td>\n",
       "      <td>2016-10-03 13:55:49.492</td>\n",
       "      <td>288.9</td>\n",
       "      <td>ns6532600.ip-5-135-129.eu</td>\n",
       "      <td>180000</td>\n",
       "      <td>99.94%</td>\n",
       "      <td>05aa1be7-7d77-402a-4889-add0b7534229</td>\n",
       "      <td>None</td>\n",
       "      <td>baseline_measurement_for_loadpoint_id_1</td>\n",
       "      <td>0</td>\n",
       "    </tr>\n",
       "    <tr>\n",
       "      <td>/intel/swan/mutilate/ns6532600.ip-5-135-129.eu...</td>\n",
       "      <td>ns6532600.ip-5-135-129.eu</td>\n",
       "      <td>2016-10-03 14:10:08.098</td>\n",
       "      <td>292.9</td>\n",
       "      <td>ns6532600.ip-5-135-129.eu</td>\n",
       "      <td>180000</td>\n",
       "      <td>99.98%</td>\n",
       "      <td>05aa1be7-7d77-402a-4889-add0b7534229</td>\n",
       "      <td>Stream 100M</td>\n",
       "      <td>aggressor_nr_2_measurement_for_loadpoint_id_1</td>\n",
       "      <td>0</td>\n",
       "    </tr>\n",
       "    <tr>\n",
       "      <td>/intel/swan/mutilate/ns6532600.ip-5-135-129.eu...</td>\n",
       "      <td>ns6532600.ip-5-135-129.eu</td>\n",
       "      <td>2016-10-03 14:11:59.037</td>\n",
       "      <td>428.1</td>\n",
       "      <td>ns6532600.ip-5-135-129.eu</td>\n",
       "      <td>540000</td>\n",
       "      <td>100.03%</td>\n",
       "      <td>05aa1be7-7d77-402a-4889-add0b7534229</td>\n",
       "      <td>Stream 100M</td>\n",
       "      <td>aggressor_nr_2_measurement_for_loadpoint_id_3</td>\n",
       "      <td>0</td>\n",
       "    </tr>\n",
       "    <tr>\n",
       "      <td>/intel/swan/mutilate/ns6532600.ip-5-135-129.eu...</td>\n",
       "      <td>ns6532600.ip-5-135-129.eu</td>\n",
       "      <td>2016-10-03 14:13:50.397</td>\n",
       "      <td>969.9</td>\n",
       "      <td>ns6532600.ip-5-135-129.eu</td>\n",
       "      <td>900000</td>\n",
       "      <td>100.01%</td>\n",
       "      <td>05aa1be7-7d77-402a-4889-add0b7534229</td>\n",
       "      <td>Stream 100M</td>\n",
       "      <td>aggressor_nr_2_measurement_for_loadpoint_id_5</td>\n",
       "      <td>0</td>\n",
       "    </tr>\n",
       "    <tr>\n",
       "      <td>/intel/swan/mutilate/ns6532600.ip-5-135-129.eu...</td>\n",
       "      <td>ns6532600.ip-5-135-129.eu</td>\n",
       "      <td>2016-10-03 14:12:55.382</td>\n",
       "      <td>550.3</td>\n",
       "      <td>ns6532600.ip-5-135-129.eu</td>\n",
       "      <td>720000</td>\n",
       "      <td>100.03%</td>\n",
       "      <td>05aa1be7-7d77-402a-4889-add0b7534229</td>\n",
       "      <td>Stream 100M</td>\n",
       "      <td>aggressor_nr_2_measurement_for_loadpoint_id_4</td>\n",
       "      <td>0</td>\n",
       "    </tr>\n",
       "    <tr>\n",
       "      <td>/intel/swan/mutilate/ns6532600.ip-5-135-129.eu...</td>\n",
       "      <td>ns6532600.ip-5-135-129.eu</td>\n",
       "      <td>2016-10-03 14:06:13.593</td>\n",
       "      <td>520.3</td>\n",
       "      <td>ns6532600.ip-5-135-129.eu</td>\n",
       "      <td>360000</td>\n",
       "      <td>100.04%</td>\n",
       "      <td>05aa1be7-7d77-402a-4889-add0b7534229</td>\n",
       "      <td>L3 Data</td>\n",
       "      <td>aggressor_nr_1_measurement_for_loadpoint_id_2</td>\n",
       "      <td>0</td>\n",
       "    </tr>\n",
       "    <tr>\n",
       "      <td>/intel/swan/mutilate/ns6532600.ip-5-135-129.eu...</td>\n",
       "      <td>ns6532600.ip-5-135-129.eu</td>\n",
       "      <td>2016-10-03 14:08:05.679</td>\n",
       "      <td>551.0</td>\n",
       "      <td>ns6532600.ip-5-135-129.eu</td>\n",
       "      <td>720000</td>\n",
       "      <td>100.00%</td>\n",
       "      <td>05aa1be7-7d77-402a-4889-add0b7534229</td>\n",
       "      <td>L3 Data</td>\n",
       "      <td>aggressor_nr_1_measurement_for_loadpoint_id_4</td>\n",
       "      <td>0</td>\n",
       "    </tr>\n",
       "    <tr>\n",
       "      <td>/intel/swan/mutilate/ns6532600.ip-5-135-129.eu...</td>\n",
       "      <td>ns6532600.ip-5-135-129.eu</td>\n",
       "      <td>2016-10-03 14:00:10.775</td>\n",
       "      <td>413.7</td>\n",
       "      <td>ns6532600.ip-5-135-129.eu</td>\n",
       "      <td>180000</td>\n",
       "      <td>100.09%</td>\n",
       "      <td>05aa1be7-7d77-402a-4889-add0b7534229</td>\n",
       "      <td>L1 Data</td>\n",
       "      <td>aggressor_nr_0_measurement_for_loadpoint_id_1</td>\n",
       "      <td>0</td>\n",
       "    </tr>\n",
       "    <tr>\n",
       "      <td>/intel/swan/mutilate/ns6532600.ip-5-135-129.eu...</td>\n",
       "      <td>ns6532600.ip-5-135-129.eu</td>\n",
       "      <td>2016-10-03 14:05:18.326</td>\n",
       "      <td>419.6</td>\n",
       "      <td>ns6532600.ip-5-135-129.eu</td>\n",
       "      <td>180000</td>\n",
       "      <td>99.93%</td>\n",
       "      <td>05aa1be7-7d77-402a-4889-add0b7534229</td>\n",
       "      <td>L3 Data</td>\n",
       "      <td>aggressor_nr_1_measurement_for_loadpoint_id_1</td>\n",
       "      <td>0</td>\n",
       "    </tr>\n",
       "  </tbody>\n",
       "</table>"
      ],
      "text/plain": [
       "<experiment.Experiment at 0x7f298c614090>"
      ]
     },
     "execution_count": 10,
     "metadata": {},
     "output_type": "execute_result"
    }
   ],
   "source": [
    "exp2"
   ]
  },
  {
   "cell_type": "markdown",
   "metadata": {},
   "source": [
    "A sensivitity profile can now be generated using table and chart (example below) ![title](docs/p1_chart.png):"
   ]
  },
  {
   "cell_type": "code",
   "execution_count": 11,
   "metadata": {
    "collapsed": false,
    "scrolled": false
   },
   "outputs": [
    {
     "data": {
      "text/html": [
       "<table style=\"border: 0\"><tr style=\"border: 0\"><th style=\"border: 0; border-bottom: 1px solid black; border-right: 1px solid black;\">Scenario / Load</th><th style=\"border: 0; border-bottom: 1px solid black;\">20.0%</th><th style=\"border: 0; border-bottom: 1px solid black;\">40.0%</th><th style=\"border: 0; border-bottom: 1px solid black;\">60.0%</th><th style=\"border: 0; border-bottom: 1px solid black;\">80.0%</th><th style=\"border: 0; border-bottom: 1px solid black;\">100.0%</th></tr><tr style=\"border: 0\"><td style=\"border: 0; border-right: 1px solid black;\">Baseline</td><td style=\"border: 0; background-color: #98cc70;\">54.0%</td><td style=\"border: 0; background-color: #98cc70;\">61.0%</td><td style=\"border: 0; background-color: #98cc70;\">72.7%</td><td style=\"border: 0; background-color: #98cc70;\">80.4%</td><td style=\"border: 0; background-color: #a9341f; color: white;\">193.8%</td></tr><tr style=\"border: 0\"><td style=\"border: 0; border-right: 1px solid black;\">L1 Data</td><td style=\"border: 0; background-color: #98cc70;\">56.3%</td><td style=\"border: 0; background-color: #98cc70;\">71.5%</td><td style=\"border: 0; background-color: #98cc70;\">94.1%</td><td style=\"border: 0; background-color: #a9341f; color: white;\">296.1%</td><td style=\"border: 0; background-color: #a9341f; color: white;\">608.9%</td></tr><tr style=\"border: 0\"><td style=\"border: 0; border-right: 1px solid black;\">L3 Data</td><td style=\"border: 0; background-color: #98cc70;\">57.0%</td><td style=\"border: 0; background-color: #98cc70;\">66.5%</td><td style=\"border: 0; background-color: #98cc70;\">89.1%</td><td style=\"border: 0; background-color: #a9341f; color: white;\">197.4%</td><td style=\"border: 0; background-color: #a9341f; color: white;\">459.0%</td></tr><tr style=\"border: 0\"><td style=\"border: 0; border-right: 1px solid black;\">Stream 100M</td><td style=\"border: 0; background-color: #98cc70;\">63.8%</td><td style=\"border: 0; background-color: #a9341f; color: white;\">191.0%</td><td style=\"border: 0; background-color: #a9341f; color: white;\">9422.2%</td><td style=\"border: 0; background-color: #a9341f; color: white;\">12273.5%</td><td style=\"border: 0; background-color: #a9341f; color: white;\">10876.3%</td></tr></table>"
      ],
      "text/plain": [
       "<IPython.core.display.HTML object>"
      ]
     },
     "execution_count": 11,
     "metadata": {},
     "output_type": "execute_result"
    }
   ],
   "source": [
    "p1 = Profile(exp1, slo=500)\n",
    "p1.sensitivity_table()"
   ]
  },
  {
   "cell_type": "code",
   "execution_count": 12,
   "metadata": {
    "collapsed": false
   },
   "outputs": [
    {
     "data": {
      "text/html": [
       "<table style=\"border: 0\"><tr style=\"border: 0\"><th style=\"border: 0; border-bottom: 1px solid black; border-right: 1px solid black;\">Scenario / Load</th><th style=\"border: 0; border-bottom: 1px solid black;\">20.0%</th><th style=\"border: 0; border-bottom: 1px solid black;\">40.0%</th><th style=\"border: 0; border-bottom: 1px solid black;\">60.0%</th><th style=\"border: 0; border-bottom: 1px solid black;\">80.0%</th><th style=\"border: 0; border-bottom: 1px solid black;\">100.0%</th></tr><tr style=\"border: 0\"><td style=\"border: 0; border-right: 1px solid black;\">Baseline</td><td style=\"border: 0; background-color: #98cc70;\">57.8%</td><td style=\"border: 0; background-color: #98cc70;\">66.2%</td><td style=\"border: 0; background-color: #98cc70;\">80.3%</td><td style=\"border: 0; background-color: #ffeda0;\">112.9%</td><td style=\"border: 0; background-color: #a9341f; color: white;\">203.6%</td></tr><tr style=\"border: 0\"><td style=\"border: 0; border-right: 1px solid black;\">L1 Data</td><td style=\"border: 0; background-color: #98cc70;\">82.7%</td><td style=\"border: 0; background-color: #98cc70;\">81.3%</td><td style=\"border: 0; background-color: #98cc70;\">80.0%</td><td style=\"border: 0; background-color: #ffeda0;\">112.8%</td><td style=\"border: 0; background-color: #a9341f; color: white;\">192.4%</td></tr><tr style=\"border: 0\"><td style=\"border: 0; border-right: 1px solid black;\">L3 Data</td><td style=\"border: 0; background-color: #98cc70;\">83.9%</td><td style=\"border: 0; background-color: #ffeda0;\">104.1%</td><td style=\"border: 0; background-color: #ffeda0;\">106.5%</td><td style=\"border: 0; background-color: #ffeda0;\">110.2%</td><td style=\"border: 0; background-color: #a9341f; color: white;\">164.9%</td></tr><tr style=\"border: 0\"><td style=\"border: 0; border-right: 1px solid black;\">Stream 100M</td><td style=\"border: 0; background-color: #98cc70;\">58.6%</td><td style=\"border: 0; background-color: #ffeda0;\">113.5%</td><td style=\"border: 0; background-color: #98cc70;\">85.6%</td><td style=\"border: 0; background-color: #ffeda0;\">110.1%</td><td style=\"border: 0; background-color: #a9341f; color: white;\">194.0%</td></tr></table>"
      ],
      "text/plain": [
       "<IPython.core.display.HTML object>"
      ]
     },
     "execution_count": 12,
     "metadata": {},
     "output_type": "execute_result"
    }
   ],
   "source": [
    "p2 = Profile(exp2, slo=500)\n",
    "p2.sensitivity_table()"
   ]
  },
  {
   "cell_type": "markdown",
   "metadata": {},
   "source": [
    "An example of sensivitity profile chart for a second profile ![title](docs/p2_chart.png) "
   ]
  },
  {
   "cell_type": "code",
   "execution_count": 13,
   "metadata": {
    "collapsed": false,
    "scrolled": false
   },
   "outputs": [
    {
     "data": {
      "text/html": [
       "<div id=\"50e57b58-d538-411b-a2f6-47a17c52045e\" style=\"height: 525px; width: 100%;\" class=\"plotly-graph-div\"></div><script type=\"text/javascript\">require([\"plotly\"], function(Plotly) { window.PLOTLYENV=window.PLOTLYENV || {};window.PLOTLYENV.BASE_URL=\"https://plot.ly\";Plotly.newPlot(\"50e57b58-d538-411b-a2f6-47a17c52045e\", [{\"name\": \"slo\", \"mode\": \"lines\", \"y\": [500.0, 500.0, 500.0, 500.0, 500.0], \"x\": [180000.0, 360000.0, 540000.0, 720000.0, 900000.0], \"line\": {\"color\": \"rgb(255, 0, 0)\", \"shape\": \"spline\"}, \"type\": \"scatter\", \"fill\": null}, {\"name\": \"with_conf1:Baseline\", \"mode\": \"lines\", \"y\": [270.2, 304.9, 363.4, 402.1, 969.0], \"x\": [180000.0, 360000.0, 540000.0, 720000.0, 900000.0], \"line\": {\"shape\": \"spline\"}, \"type\": \"scatter\", \"fill\": \"tozeroy\"}, {\"name\": \"with_conf1:L1 Data\", \"mode\": \"lines\", \"y\": [281.3, 357.3, 470.6, 1480.5, 3044.7], \"x\": [180000.0, 360000.0, 540000.0, 720000.0, 900000.0], \"line\": {\"shape\": \"spline\"}, \"type\": \"scatter\", \"fill\": \"tozeroy\"}, {\"name\": \"with_conf1:L3 Data\", \"mode\": \"lines\", \"y\": [285.0, 332.4, 445.6, 987.1, 2294.8], \"x\": [180000.0, 360000.0, 540000.0, 720000.0, 900000.0], \"line\": {\"shape\": \"spline\"}, \"type\": \"scatter\", \"fill\": \"tozeroy\"}, {\"name\": \"with_conf1:Stream 100M\", \"mode\": \"lines\", \"y\": [319.0, 955.2, 47110.8, 61367.4, 54381.5], \"x\": [180000.0, 360000.0, 540000.0, 720000.0, 900000.0], \"line\": {\"shape\": \"spline\"}, \"type\": \"scatter\", \"fill\": \"tozeroy\"}], {\"xaxis\": {\"titlefont\": {\"color\": \"lightgrey\", \"family\": \"Arial, sans-serif\", \"size\": 18}, \"title\": \"QPS\"}, \"yaxis\": {\"titlefont\": {\"color\": \"lightgrey\", \"family\": \"Arial, sans-serif\", \"size\": 18}, \"title\": \"Latency\"}}, {\"linkText\": \"Export to plot.ly\", \"showLink\": true})});</script>"
      ],
      "text/plain": [
       "<IPython.core.display.HTML object>"
      ]
     },
     "metadata": {},
     "output_type": "display_data"
    },
    {
     "data": {
      "text/plain": [
       "None"
      ]
     },
     "metadata": {},
     "output_type": "display_data"
    }
   ],
   "source": [
    "p1.sensitivity_chart()"
   ]
  },
  {
   "cell_type": "code",
   "execution_count": 14,
   "metadata": {
    "collapsed": false
   },
   "outputs": [
    {
     "data": {
      "text/html": [
       "<div id=\"36af9087-cb0e-4aef-92b1-e808312e7f31\" style=\"height: 525px; width: 100%;\" class=\"plotly-graph-div\"></div><script type=\"text/javascript\">require([\"plotly\"], function(Plotly) { window.PLOTLYENV=window.PLOTLYENV || {};window.PLOTLYENV.BASE_URL=\"https://plot.ly\";Plotly.newPlot(\"36af9087-cb0e-4aef-92b1-e808312e7f31\", [{\"name\": \"slo\", \"mode\": \"lines\", \"y\": [500.0, 500.0, 500.0, 500.0, 500.0], \"x\": [180000.0, 360000.0, 540000.0, 720000.0, 900000.0], \"line\": {\"color\": \"rgb(255, 0, 0)\", \"shape\": \"spline\"}, \"type\": \"scatter\", \"fill\": null}, {\"name\": \"without_conf2:Baseline\", \"mode\": \"lines\", \"y\": [288.9, 330.9, 401.7, 564.6, 1017.9], \"x\": [180000.0, 360000.0, 540000.0, 720000.0, 900000.0], \"line\": {\"shape\": \"spline\"}, \"type\": \"scatter\", \"fill\": \"tozeroy\"}, {\"name\": \"without_conf2:L1 Data\", \"mode\": \"lines\", \"y\": [413.7, 406.5, 400.2, 564.0, 961.9], \"x\": [180000.0, 360000.0, 540000.0, 720000.0, 900000.0], \"line\": {\"shape\": \"spline\"}, \"type\": \"scatter\", \"fill\": \"tozeroy\"}, {\"name\": \"without_conf2:L3 Data\", \"mode\": \"lines\", \"y\": [419.6, 520.3, 532.5, 551.0, 824.4], \"x\": [180000.0, 360000.0, 540000.0, 720000.0, 900000.0], \"line\": {\"shape\": \"spline\"}, \"type\": \"scatter\", \"fill\": \"tozeroy\"}, {\"name\": \"without_conf2:Stream 100M\", \"mode\": \"lines\", \"y\": [292.9, 567.5, 428.1, 550.3, 969.9], \"x\": [180000.0, 360000.0, 540000.0, 720000.0, 900000.0], \"line\": {\"shape\": \"spline\"}, \"type\": \"scatter\", \"fill\": \"tozeroy\"}], {\"xaxis\": {\"titlefont\": {\"color\": \"lightgrey\", \"family\": \"Arial, sans-serif\", \"size\": 18}, \"title\": \"QPS\"}, \"yaxis\": {\"titlefont\": {\"color\": \"lightgrey\", \"family\": \"Arial, sans-serif\", \"size\": 18}, \"title\": \"Latency\"}}, {\"linkText\": \"Export to plot.ly\", \"showLink\": true})});</script>"
      ],
      "text/plain": [
       "<IPython.core.display.HTML object>"
      ]
     },
     "metadata": {},
     "output_type": "display_data"
    },
    {
     "data": {
      "text/plain": [
       "None"
      ]
     },
     "metadata": {},
     "output_type": "display_data"
    }
   ],
   "source": [
    "p2.sensitivity_chart()"
   ]
  },
  {
   "cell_type": "markdown",
   "metadata": {},
   "source": [
    "You can also compare two different experiments ![title](docs/p1_p2_chart.png):"
   ]
  },
  {
   "cell_type": "code",
   "execution_count": 15,
   "metadata": {
    "collapsed": false
   },
   "outputs": [
    {
     "data": {
      "text/html": [
       "<div id=\"837898f3-6ddb-41ed-9d0d-f3b745b32035\" style=\"height: 525px; width: 100%;\" class=\"plotly-graph-div\"></div><script type=\"text/javascript\">require([\"plotly\"], function(Plotly) { window.PLOTLYENV=window.PLOTLYENV || {};window.PLOTLYENV.BASE_URL=\"https://plot.ly\";Plotly.newPlot(\"837898f3-6ddb-41ed-9d0d-f3b745b32035\", [{\"name\": \"with_conf1:Baseline\", \"mode\": \"lines\", \"y\": [270.2, 304.9, 363.4, 402.1, 969.0], \"x\": [180000.0, 360000.0, 540000.0, 720000.0, 900000.0], \"line\": {\"shape\": \"spline\"}, \"type\": \"scatter\", \"fill\": null}, {\"name\": \"without_conf2:Baseline\", \"mode\": \"lines\", \"y\": [288.9, 330.9, 401.7, 564.6, 1017.9], \"x\": [180000.0, 360000.0, 540000.0, 720000.0, 900000.0], \"line\": {\"shape\": \"spline\"}, \"type\": \"scatter\", \"fill\": \"tonexty\"}, {\"name\": \"slo\", \"mode\": \"lines\", \"y\": [500, 500, 500, 500, 500], \"x\": [180000.0, 360000.0, 540000.0, 720000.0, 900000.0], \"line\": {\"color\": \"rgb(255, 0, 0)\"}, \"type\": \"scatter\", \"fill\": null}], {\"xaxis\": {\"titlefont\": {\"color\": \"lightgrey\", \"family\": \"Arial, sans-serif\", \"size\": 18}, \"title\": \"QPS\"}, \"yaxis\": {\"titlefont\": {\"color\": \"lightgrey\", \"family\": \"Arial, sans-serif\", \"size\": 18}, \"title\": \"Latency\"}}, {\"linkText\": \"Export to plot.ly\", \"showLink\": true})});</script>"
      ],
      "text/plain": [
       "<IPython.core.display.HTML object>"
      ]
     },
     "metadata": {},
     "output_type": "display_data"
    },
    {
     "data": {
      "text/plain": [
       "None"
      ]
     },
     "metadata": {},
     "output_type": "display_data"
    }
   ],
   "source": [
    "exps = [exp1, exp2]\n",
    "compare_experiments(exps, aggressors=[\"Baseline\"], fill=True)"
   ]
  },
  {
   "cell_type": "markdown",
   "metadata": {
    "collapsed": true
   },
   "source": [
    "An experiment can be loaded from the `csv` file as well."
   ]
  },
  {
   "cell_type": "code",
   "execution_count": 15,
   "metadata": {
    "collapsed": false
   },
   "outputs": [],
   "source": [
    "exp3 = Experiment(experiment_id=\"61513056-9b1f-4b9b-647e-d3d27a66bd80\", \n",
    "                        read_csv=\"test_data/experiments.csv\")"
   ]
  },
  {
   "cell_type": "code",
   "execution_count": 16,
   "metadata": {
    "collapsed": false,
    "scrolled": true
   },
   "outputs": [
    {
     "data": {
      "text/html": [
       "<table border=\"1\" class=\"dataframe\">\n",
       "  <thead>\n",
       "    <tr style=\"text-align: right;\">\n",
       "      <th>ns</th>\n",
       "      <th>host</th>\n",
       "      <th>time</th>\n",
       "      <th>value</th>\n",
       "      <th>plugin_running_on</th>\n",
       "      <th>swan_loadpoint_qps</th>\n",
       "      <th>achieved_qps_percent</th>\n",
       "      <th>swan_experiment</th>\n",
       "      <th>swan_aggressor_name</th>\n",
       "      <th>swan_phase</th>\n",
       "      <th>swan_repetition</th>\n",
       "    </tr>\n",
       "  </thead>\n",
       "  <tbody>\n",
       "    <tr>\n",
       "      <td>/intel/swan/mutilate/localhost.localdomain/per...</td>\n",
       "      <td>localhost.localdomain</td>\n",
       "      <td>2016-06-28 23:59:31+0000</td>\n",
       "      <td>40.6</td>\n",
       "      <td>localhost.localdomain</td>\n",
       "      <td>11409</td>\n",
       "      <td>0.36%</td>\n",
       "      <td>c98e53c4-d660-4a97-9713-97462438133f</td>\n",
       "      <td>None</td>\n",
       "      <td>baseline_measurement_for_loadpoint_id_0</td>\n",
       "      <td>0</td>\n",
       "    </tr>\n",
       "  </tbody>\n",
       "</table>"
      ],
      "text/plain": [
       "<experiment.Experiment at 0x7fa7aa219790>"
      ]
     },
     "execution_count": 16,
     "metadata": {},
     "output_type": "execute_result"
    }
   ],
   "source": [
    "exp3"
   ]
  },
  {
   "cell_type": "code",
   "execution_count": 17,
   "metadata": {
    "collapsed": false
   },
   "outputs": [],
   "source": [
    "p3 = Profile(exp3, slo=500)"
   ]
  },
  {
   "cell_type": "code",
   "execution_count": 18,
   "metadata": {
    "collapsed": false
   },
   "outputs": [
    {
     "data": {
      "text/html": [
       "<table style=\"border: 0\"><tr style=\"border: 0\"><th style=\"border: 0; border-bottom: 1px solid black; border-right: 1px solid black;\">Scenario / Load</th><th style=\"border: 0; border-bottom: 1px solid black;\">100.0%</th></tr><tr style=\"border: 0\"><td style=\"border: 0; border-right: 1px solid black;\">Baseline</td><td style=\"border: 0; background-color: #98cc70;\">8.1%</td></tr></table>"
      ],
      "text/plain": [
       "<IPython.core.display.HTML object>"
      ]
     },
     "execution_count": 18,
     "metadata": {},
     "output_type": "execute_result"
    }
   ],
   "source": [
    "p3.sensitivity_table()"
   ]
  },
  {
   "cell_type": "code",
   "execution_count": null,
   "metadata": {
    "collapsed": true
   },
   "outputs": [],
   "source": []
  }
 ],
 "metadata": {
  "kernelspec": {
   "display_name": "Python 2",
   "language": "python",
   "name": "python2"
  },
  "language_info": {
   "codemirror_mode": {
    "name": "ipython",
    "version": 2
   },
   "file_extension": ".py",
   "mimetype": "text/x-python",
   "name": "python",
   "nbconvert_exporter": "python",
   "pygments_lexer": "ipython2",
   "version": "2.7.11+"
  }
 },
 "nbformat": 4,
 "nbformat_minor": 0
}
