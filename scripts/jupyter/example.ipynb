{
 "cells": [
  {
   "cell_type": "markdown",
   "metadata": {},
   "source": [
    "Before start the experiment, please fill `ip`and `port` of cassandra cluster and `EXPERIMENT_ID`"
   ]
  },
  {
   "cell_type": "code",
   "execution_count": 1,
   "metadata": {
    "collapsed": true
   },
   "outputs": [],
   "source": [
    "IP = '127.0.0.1'"
   ]
  },
  {
   "cell_type": "code",
   "execution_count": 2,
   "metadata": {
    "collapsed": true
   },
   "outputs": [],
   "source": [
    "PORT = 9042"
   ]
  },
  {
   "cell_type": "code",
   "execution_count": null,
   "metadata": {
    "collapsed": true
   },
   "outputs": [],
   "source": [
    "AGGRESSOR_THROUGHPUT_NAMESPACES = (\n",
    "    '/intel/swan/caffe/inference',  # Caffe\n",
    ")"
   ]
  },
  {
   "cell_type": "code",
   "execution_count": 3,
   "metadata": {
    "collapsed": true
   },
   "outputs": [],
   "source": [
    "EXPERIMENT_ID_SWAN = \"a5f2f2d9-3ebc-4722-449d-a6c21a69872b\"\n",
    "EXPERIMENT_ID_SERENITY = \"324d4339-5ee7-4873-7614-7cac80252d7c\""
   ]
  },
  {
   "cell_type": "markdown",
   "metadata": {},
   "source": [
    "The experiment module contains the entry point for swan experiment data."
   ]
  },
  {
   "cell_type": "code",
   "execution_count": 4,
   "metadata": {
    "collapsed": false
   },
   "outputs": [],
   "source": [
    "from experiment import *"
   ]
  },
  {
   "cell_type": "markdown",
   "metadata": {},
   "source": [
    "The profile module produce the sensitivity profile as found in the [Heracles paper](http://csl.stanford.edu/~christos/publications/2015.heracles.isca.pdf)."
   ]
  },
  {
   "cell_type": "code",
   "execution_count": 5,
   "metadata": {
    "collapsed": false
   },
   "outputs": [
    {
     "data": {
      "text/html": [
       "<script>requirejs.config({paths: { 'plotly': ['https://cdn.plot.ly/plotly-latest.min']},});if(!window.Plotly) {{require(['plotly'],function(plotly) {window.Plotly=plotly;});}}</script>"
      ],
      "text/plain": [
       "<IPython.core.display.HTML object>"
      ]
     },
     "metadata": {},
     "output_type": "display_data"
    }
   ],
   "source": [
    "from profile import Profile, compare_experiments"
   ]
  },
  {
   "cell_type": "markdown",
   "metadata": {},
   "source": [
    "An experiment can now be loaded from the database by its ID."
   ]
  },
  {
   "cell_type": "code",
   "execution_count": 6,
   "metadata": {
    "collapsed": false
   },
   "outputs": [],
   "source": [
    "exp1 = Experiment(cassandra_cluster=[IP], \n",
    "                        experiment_id=EXPERIMENT_ID_SWAN, port=PORT, name=\"swan\")\n",
    "exp2 = Experiment(cassandra_cluster=[IP], \n",
    "                        experiment_id=EXPERIMENT_ID_SERENITY, port=PORT, name=\"serenity\")\n"
   ]
  },
  {
   "cell_type": "markdown",
   "metadata": {},
   "source": [
    "The experiment now has the sample data and the raw samples can be access through the Panda dataframe in experiment.frame"
   ]
  },
  {
   "cell_type": "code",
   "execution_count": 7,
   "metadata": {
    "collapsed": false,
    "scrolled": false
   },
   "outputs": [
    {
     "data": {
      "text/html": [
       "<table style=\"border: 0\"><tr style=\"border: 0\"><th style=\"border: 0; border-bottom: 1px solid black; border-right: 1px solid black;\">Scenario / Load</th><th style=\"border: 0; border-bottom: 1px solid black;\">10.0%</th><th style=\"border: 0; border-bottom: 1px solid black;\">20.0%</th><th style=\"border: 0; border-bottom: 1px solid black;\">30.0%</th><th style=\"border: 0; border-bottom: 1px solid black;\">40.0%</th><th style=\"border: 0; border-bottom: 1px solid black;\">50.0%</th><th style=\"border: 0; border-bottom: 1px solid black;\">60.0%</th><th style=\"border: 0; border-bottom: 1px solid black;\">70.0%</th><th style=\"border: 0; border-bottom: 1px solid black;\">80.0%</th><th style=\"border: 0; border-bottom: 1px solid black;\">90.0%</th><th style=\"border: 0; border-bottom: 1px solid black;\">100.0%</th></tr><tr style=\"border: 0\"><td style=\"border: 0; border-right: 1px solid black;\">Baseline</td><td style=\"border: 0; background-color: #98cc70;\">48.2%</td><td style=\"border: 0; background-color: #98cc70;\">50.4%</td><td style=\"border: 0; background-color: #98cc70;\">53.2%</td><td style=\"border: 0; background-color: #98cc70;\">55.9%</td><td style=\"border: 0; background-color: #98cc70;\">58.9%</td><td style=\"border: 0; background-color: #98cc70;\">62.7%</td><td style=\"border: 0; background-color: #98cc70;\">67.5%</td><td style=\"border: 0; background-color: #98cc70;\">72.9%</td><td style=\"border: 0; background-color: #98cc70;\">78.1%</td><td style=\"border: 0; background-color: #98cc70;\">89.3%</td></tr><tr style=\"border: 0\"><td style=\"border: 0; border-right: 1px solid black;\">Caffe</td><td style=\"border: 0; background-color: #98cc70;\">50.8%</td><td style=\"border: 0; background-color: #98cc70;\">54.7%</td><td style=\"border: 0; background-color: #98cc70;\">58.1%</td><td style=\"border: 0; background-color: #98cc70;\">63.7%</td><td style=\"border: 0; background-color: #98cc70;\">73.1%</td><td style=\"border: 0; background-color: #98cc70;\">90.7%</td><td style=\"border: 0; background-color: #ffeda0;\">127.9%</td><td style=\"border: 0; background-color: #a9341f; color: white;\">232.9%</td><td style=\"border: 0; background-color: #a9341f; color: white;\">568.2%</td><td style=\"border: 0; background-color: #a9341f; color: white;\">872.1%</td></tr><tr style=\"border: 0\"><td style=\"border: 0; border-right: 1px solid black;\">L1 Data</td><td style=\"border: 0; background-color: #98cc70;\">50.3%</td><td style=\"border: 0; background-color: #98cc70;\">55.0%</td><td style=\"border: 0; background-color: #98cc70;\">60.7%</td><td style=\"border: 0; background-color: #98cc70;\">70.5%</td><td style=\"border: 0; background-color: #98cc70;\">83.5%</td><td style=\"border: 0; background-color: #ffeda0;\">105.7%</td><td style=\"border: 0; background-color: #a9341f; color: white;\">151.1%</td><td style=\"border: 0; background-color: #a9341f; color: white;\">245.5%</td><td style=\"border: 0; background-color: #a9341f; color: white;\">522.1%</td><td style=\"border: 0; background-color: #a9341f; color: white;\">855.5%</td></tr><tr style=\"border: 0\"><td style=\"border: 0; border-right: 1px solid black;\">L1 Instruction</td><td style=\"border: 0; background-color: #98cc70;\">50.8%</td><td style=\"border: 0; background-color: #98cc70;\">55.0%</td><td style=\"border: 0; background-color: #98cc70;\">60.8%</td><td style=\"border: 0; background-color: #98cc70;\">0.0%</td><td style=\"border: 0; background-color: #a9341f; color: white;\">6171.1%</td><td style=\"border: 0; background-color: #98cc70;\">99.2%</td><td style=\"border: 0; background-color: #ffeda0;\">136.0%</td><td style=\"border: 0; background-color: #a9341f; color: white;\">7128.7%</td><td style=\"border: 0; background-color: #a9341f; color: white;\">6943.4%</td><td style=\"border: 0; background-color: #a9341f; color: white;\">9711.7%</td></tr><tr style=\"border: 0\"><td style=\"border: 0; border-right: 1px solid black;\">L3 Data</td><td style=\"border: 0; background-color: #98cc70;\">50.7%</td><td style=\"border: 0; background-color: #98cc70;\">54.1%</td><td style=\"border: 0; background-color: #98cc70;\">58.2%</td><td style=\"border: 0; background-color: #98cc70;\">66.2%</td><td style=\"border: 0; background-color: #98cc70;\">71.1%</td><td style=\"border: 0; background-color: #98cc70;\">82.5%</td><td style=\"border: 0; background-color: #98cc70;\">94.6%</td><td style=\"border: 0; background-color: #ffeda0;\">133.4%</td><td style=\"border: 0; background-color: #a9341f; color: white;\">171.6%</td><td style=\"border: 0; background-color: #a9341f; color: white;\">275.3%</td></tr><tr style=\"border: 0\"><td style=\"border: 0; border-right: 1px solid black;\">Stream 100M</td><td style=\"border: 0; background-color: #98cc70;\">53.4%</td><td style=\"border: 0; background-color: #98cc70;\">60.6%</td><td style=\"border: 0; background-color: #98cc70;\">80.1%</td><td style=\"border: 0; background-color: #ffeda0;\">136.9%</td><td style=\"border: 0; background-color: #a9341f; color: white;\">487.4%</td><td style=\"border: 0; background-color: #a9341f; color: white;\">1228.5%</td><td style=\"border: 0; background-color: #a9341f; color: white;\">2441.0%</td><td style=\"border: 0; background-color: #a9341f; color: white;\">3047.7%</td><td style=\"border: 0; background-color: #a9341f; color: white;\">3931.6%</td><td style=\"border: 0; background-color: #a9341f; color: white;\">4081.4%</td></tr><tr style=\"border: 0\"><td style=\"border: 0; border-right: 1px solid black;\">memBW</td><td style=\"border: 0; background-color: #98cc70;\">54.9%</td><td style=\"border: 0; background-color: #98cc70;\">66.0%</td><td style=\"border: 0; background-color: #98cc70;\">85.3%</td><td style=\"border: 0; background-color: #ffeda0;\">128.6%</td><td style=\"border: 0; background-color: #a9341f; color: white;\">208.8%</td><td style=\"border: 0; background-color: #a9341f; color: white;\">723.0%</td><td style=\"border: 0; background-color: #a9341f; color: white;\">1283.6%</td><td style=\"border: 0; background-color: #a9341f; color: white;\">2239.2%</td><td style=\"border: 0; background-color: #a9341f; color: white;\">3072.0%</td><td style=\"border: 0; background-color: #a9341f; color: white;\">3674.6%</td></tr></table>"
      ],
      "text/plain": [
       "<IPython.core.display.HTML object>"
      ]
     },
     "execution_count": 7,
     "metadata": {},
     "output_type": "execute_result"
    }
   ],
   "source": [
    "p1 = Profile(exp1, slo=500)\n",
    "p1.sensitivity_table()"
   ]
  },
  {
   "cell_type": "code",
   "execution_count": 8,
   "metadata": {
    "collapsed": false
   },
   "outputs": [
    {
     "data": {
      "text/html": [
       "<table style=\"border: 0\"><tr style=\"border: 0\"><th style=\"border: 0; border-bottom: 1px solid black; border-right: 1px solid black;\">Scenario / Load</th><th style=\"border: 0; border-bottom: 1px solid black;\">10.0%</th><th style=\"border: 0; border-bottom: 1px solid black;\">20.0%</th><th style=\"border: 0; border-bottom: 1px solid black;\">30.0%</th><th style=\"border: 0; border-bottom: 1px solid black;\">40.0%</th><th style=\"border: 0; border-bottom: 1px solid black;\">50.0%</th><th style=\"border: 0; border-bottom: 1px solid black;\">60.0%</th><th style=\"border: 0; border-bottom: 1px solid black;\">70.0%</th><th style=\"border: 0; border-bottom: 1px solid black;\">80.0%</th><th style=\"border: 0; border-bottom: 1px solid black;\">90.0%</th><th style=\"border: 0; border-bottom: 1px solid black;\">100.0%</th></tr><tr style=\"border: 0\"><td style=\"border: 0; border-right: 1px solid black;\">Baseline</td><td style=\"border: 0; background-color: #98cc70;\">46.9%</td><td style=\"border: 0; background-color: #98cc70;\">50.0%</td><td style=\"border: 0; background-color: #98cc70;\">53.9%</td><td style=\"border: 0; background-color: #98cc70;\">58.9%</td><td style=\"border: 0; background-color: #98cc70;\">61.5%</td><td style=\"border: 0; background-color: #98cc70;\">70.8%</td><td style=\"border: 0; background-color: #98cc70;\">72.1%</td><td style=\"border: 0; background-color: #98cc70;\">72.3%</td><td style=\"border: 0; background-color: #98cc70;\">78.4%</td><td style=\"border: 0; background-color: #98cc70;\">86.6%</td></tr><tr style=\"border: 0\"><td style=\"border: 0; border-right: 1px solid black;\">Caffe</td><td style=\"border: 0; background-color: #98cc70;\">49.7%</td><td style=\"border: 0; background-color: #98cc70;\">52.2%</td><td style=\"border: 0; background-color: #98cc70;\">54.7%</td><td style=\"border: 0; background-color: #98cc70;\">57.6%</td><td style=\"border: 0; background-color: #98cc70;\">61.9%</td><td style=\"border: 0; background-color: #98cc70;\">66.0%</td><td style=\"border: 0; background-color: #98cc70;\">71.4%</td><td style=\"border: 0; background-color: #98cc70;\">76.3%</td><td style=\"border: 0; background-color: #98cc70;\">82.9%</td><td style=\"border: 0; background-color: #98cc70;\">96.1%</td></tr><tr style=\"border: 0\"><td style=\"border: 0; border-right: 1px solid black;\">L1 Data</td><td style=\"border: 0; background-color: #98cc70;\">45.6%</td><td style=\"border: 0; background-color: #98cc70;\">48.1%</td><td style=\"border: 0; background-color: #98cc70;\">53.0%</td><td style=\"border: 0; background-color: #98cc70;\">54.8%</td><td style=\"border: 0; background-color: #98cc70;\">83.1%</td><td style=\"border: 0; background-color: #98cc70;\">62.1%</td><td style=\"border: 0; background-color: #98cc70;\">68.0%</td><td style=\"border: 0; background-color: #98cc70;\">72.7%</td><td style=\"border: 0; background-color: #98cc70;\">81.8%</td><td style=\"border: 0; background-color: #ffeda0;\">100.2%</td></tr><tr style=\"border: 0\"><td style=\"border: 0; border-right: 1px solid black;\">L1 Instruction</td><td style=\"border: 0; background-color: #98cc70;\">46.1%</td><td style=\"border: 0; background-color: #98cc70;\">48.6%</td><td style=\"border: 0; background-color: #98cc70;\">51.6%</td><td style=\"border: 0; background-color: #98cc70;\">55.6%</td><td style=\"border: 0; background-color: #98cc70;\">59.1%</td><td style=\"border: 0; background-color: #98cc70;\">61.0%</td><td style=\"border: 0; background-color: #98cc70;\">66.6%</td><td style=\"border: 0; background-color: #98cc70;\">76.3%</td><td style=\"border: 0; background-color: #98cc70;\">80.4%</td><td style=\"border: 0; background-color: #ffeda0;\">108.9%</td></tr><tr style=\"border: 0\"><td style=\"border: 0; border-right: 1px solid black;\">L3 Data</td><td style=\"border: 0; background-color: #98cc70;\">46.3%</td><td style=\"border: 0; background-color: #98cc70;\">49.2%</td><td style=\"border: 0; background-color: #98cc70;\">52.8%</td><td style=\"border: 0; background-color: #98cc70;\">56.5%</td><td style=\"border: 0; background-color: #98cc70;\">60.2%</td><td style=\"border: 0; background-color: #98cc70;\">64.2%</td><td style=\"border: 0; background-color: #98cc70;\">68.7%</td><td style=\"border: 0; background-color: #98cc70;\">73.8%</td><td style=\"border: 0; background-color: #98cc70;\">86.4%</td><td style=\"border: 0; background-color: #ffeda0;\">109.1%</td></tr><tr style=\"border: 0\"><td style=\"border: 0; border-right: 1px solid black;\">Stream 100M</td><td style=\"border: 0; background-color: #98cc70;\">52.5%</td><td style=\"border: 0; background-color: #98cc70;\">55.0%</td><td style=\"border: 0; background-color: #98cc70;\">55.0%</td><td style=\"border: 0; background-color: #98cc70;\">58.5%</td><td style=\"border: 0; background-color: #98cc70;\">60.7%</td><td style=\"border: 0; background-color: #98cc70;\">64.7%</td><td style=\"border: 0; background-color: #98cc70;\">72.9%</td><td style=\"border: 0; background-color: #98cc70;\">75.7%</td><td style=\"border: 0; background-color: #98cc70;\">80.4%</td><td style=\"border: 0; background-color: #98cc70;\">87.4%</td></tr><tr style=\"border: 0\"><td style=\"border: 0; border-right: 1px solid black;\">memBW</td><td style=\"border: 0; background-color: #98cc70;\">45.6%</td><td style=\"border: 0; background-color: #98cc70;\">47.7%</td><td style=\"border: 0; background-color: #98cc70;\">67.6%</td><td style=\"border: 0; background-color: #98cc70;\">54.4%</td><td style=\"border: 0; background-color: #98cc70;\">58.5%</td><td style=\"border: 0; background-color: #98cc70;\">65.6%</td><td style=\"border: 0; background-color: #98cc70;\">67.5%</td><td style=\"border: 0; background-color: #98cc70;\">72.8%</td><td style=\"border: 0; background-color: #98cc70;\">78.7%</td><td style=\"border: 0; background-color: #ffeda0;\">108.2%</td></tr></table>"
      ],
      "text/plain": [
       "<IPython.core.display.HTML object>"
      ]
     },
     "execution_count": 8,
     "metadata": {},
     "output_type": "execute_result"
    }
   ],
   "source": [
    "p2 = Profile(exp2, slo=500)\n",
    "p2.sensitivity_table()"
   ]
  },
  {
   "cell_type": "code",
   "execution_count": 9,
   "metadata": {
    "collapsed": false,
    "scrolled": false
   },
   "outputs": [
    {
     "data": {
      "text/html": [
       "<div id=\"3eefa718-2773-41b7-af59-3f10987cc445\" style=\"height: 525px; width: 100%;\" class=\"plotly-graph-div\"></div><script type=\"text/javascript\">require([\"plotly\"], function(Plotly) { window.PLOTLYENV=window.PLOTLYENV || {};window.PLOTLYENV.BASE_URL=\"https://plot.ly\";Plotly.newPlot(\"3eefa718-2773-41b7-af59-3f10987cc445\", [{\"name\": \"slo\", \"mode\": \"lines\", \"y\": [500.0, 500.0, 500.0, 500.0, 500.0, 500.0, 500.0, 500.0, 500.0, 500.0], \"x\": [50000.0, 100000.0, 150000.0, 200000.0, 250000.0, 300000.0, 350000.0, 400000.0, 450000.0, 500000.0], \"line\": {\"color\": \"rgb(255, 0, 0)\", \"shape\": \"spline\"}, \"type\": \"scatter\", \"fill\": null}, {\"name\": \"swan:Baseline\", \"mode\": \"lines\", \"y\": [240.8, 252.0, 266.2, 279.7, 294.6, 313.6, 337.7, 364.3, 390.7, 446.5], \"x\": [50000.0, 100000.0, 150000.0, 200000.0, 250000.0, 300000.0, 350000.0, 400000.0, 450000.0, 500000.0], \"line\": {\"color\": \"rgb(153, 27, 35)\", \"shape\": \"spline\"}, \"type\": \"scatter\", \"fill\": null}, {\"name\": \"swan:max_aggrs\", \"mode\": \"lines\", \"y\": [274.7, 330.2, 426.5, 30855.5, 2436.8, 6142.3, 35643.4, 34717.2, 48558.6, 20407.2], \"x\": [50000.0, 100000.0, 150000.0, 200000.0, 250000.0, 300000.0, 350000.0, 400000.0, 450000.0, 500000.0], \"line\": {\"color\": \"rgb(153, 27, 35)\", \"shape\": \"spline\"}, \"type\": \"scatter\", \"fill\": \"tonexty\"}], {\"xaxis\": {\"titlefont\": {\"color\": \"lightgrey\", \"family\": \"Arial, sans-serif\", \"size\": 18}, \"title\": \"QPS\"}, \"yaxis\": {\"range\": [0, 1000], \"titlefont\": {\"color\": \"lightgrey\", \"family\": \"Arial, sans-serif\", \"size\": 18}, \"title\": \"Latency\"}}, {\"linkText\": \"Export to plot.ly\", \"showLink\": true})});</script>"
      ],
      "text/plain": [
       "<IPython.core.display.HTML object>"
      ]
     },
     "metadata": {},
     "output_type": "display_data"
    }
   ],
   "source": [
    "p1.sensitivity_chart(fill=True, to_max=True)"
   ]
  },
  {
   "cell_type": "code",
   "execution_count": 10,
   "metadata": {
    "collapsed": false,
    "scrolled": false
   },
   "outputs": [
    {
     "data": {
      "text/html": [
       "<div id=\"fd114db9-21a0-4ad8-a41b-e73368fcc5ca\" style=\"height: 525px; width: 100%;\" class=\"plotly-graph-div\"></div><script type=\"text/javascript\">require([\"plotly\"], function(Plotly) { window.PLOTLYENV=window.PLOTLYENV || {};window.PLOTLYENV.BASE_URL=\"https://plot.ly\";Plotly.newPlot(\"fd114db9-21a0-4ad8-a41b-e73368fcc5ca\", [{\"name\": \"slo\", \"mode\": \"lines\", \"y\": [500.0, 500.0, 500.0, 500.0, 500.0, 500.0, 500.0, 500.0, 500.0, 500.0], \"x\": [50000.0, 100000.0, 150000.0, 200000.0, 250000.0, 300000.0, 350000.0, 400000.0, 450000.0, 500000.0], \"line\": {\"color\": \"rgb(255, 0, 0)\", \"shape\": \"spline\"}, \"type\": \"scatter\", \"fill\": null}, {\"name\": \"serenity:Baseline\", \"mode\": \"lines\", \"y\": [234.3, 250.0, 269.6, 294.4, 307.3, 354.2, 360.7, 361.6, 392.2, 433.1], \"x\": [50000.0, 100000.0, 150000.0, 200000.0, 250000.0, 300000.0, 350000.0, 400000.0, 450000.0, 500000.0], \"line\": {\"color\": \"rgb(153, 27, 35)\", \"shape\": \"spline\"}, \"type\": \"scatter\", \"fill\": null}, {\"name\": \"serenity:max_aggrs\", \"mode\": \"lines\", \"y\": [262.7, 275.1, 337.9, 294.4, 415.4, 354.2, 364.3, 381.5, 432.2, 545.3], \"x\": [50000.0, 100000.0, 150000.0, 200000.0, 250000.0, 300000.0, 350000.0, 400000.0, 450000.0, 500000.0], \"line\": {\"color\": \"rgb(153, 27, 35)\", \"shape\": \"spline\"}, \"type\": \"scatter\", \"fill\": \"tonexty\"}], {\"xaxis\": {\"titlefont\": {\"color\": \"lightgrey\", \"family\": \"Arial, sans-serif\", \"size\": 18}, \"title\": \"QPS\"}, \"yaxis\": {\"range\": [0, 1000], \"titlefont\": {\"color\": \"lightgrey\", \"family\": \"Arial, sans-serif\", \"size\": 18}, \"title\": \"Latency\"}}, {\"linkText\": \"Export to plot.ly\", \"showLink\": true})});</script>"
      ],
      "text/plain": [
       "<IPython.core.display.HTML object>"
      ]
     },
     "metadata": {},
     "output_type": "display_data"
    }
   ],
   "source": [
    "p2.sensitivity_chart(fill=True, to_max=True)"
   ]
  },
  {
   "cell_type": "code",
   "execution_count": 11,
   "metadata": {
    "collapsed": false,
    "scrolled": false
   },
   "outputs": [
    {
     "data": {
      "text/html": [
       "<div id=\"60125e76-05ba-4159-86ab-f80f464b9527\" style=\"height: 525px; width: 100%;\" class=\"plotly-graph-div\"></div><script type=\"text/javascript\">require([\"plotly\"], function(Plotly) { window.PLOTLYENV=window.PLOTLYENV || {};window.PLOTLYENV.BASE_URL=\"https://plot.ly\";Plotly.newPlot(\"60125e76-05ba-4159-86ab-f80f464b9527\", [{\"name\": \"serenity:Baseline\", \"mode\": \"lines\", \"y\": [234.3, 250.0, 269.6, 294.4, 307.3, 354.2, 360.7, 361.6, 392.2, 433.1], \"x\": [50000.0, 100000.0, 150000.0, 200000.0, 250000.0, 300000.0, 350000.0, 400000.0, 450000.0, 500000.0], \"line\": {\"shape\": \"spline\"}, \"type\": \"scatter\", \"fill\": null}, {\"name\": \"swan:Baseline\", \"mode\": \"lines\", \"y\": [240.8, 252.0, 266.2, 279.7, 294.6, 313.6, 337.7, 364.3, 390.7, 446.5], \"x\": [50000.0, 100000.0, 150000.0, 200000.0, 250000.0, 300000.0, 350000.0, 400000.0, 450000.0, 500000.0], \"line\": {\"color\": \"rgb(67, 137, 23)\", \"shape\": \"spline\"}, \"type\": \"scatter\", \"fill\": \"tonexty\"}, {\"name\": \"slo\", \"mode\": \"lines\", \"y\": [500, 500, 500, 500, 500, 500, 500, 500, 500, 500, 500], \"x\": [50000.0, 100000.0, 150000.0, 200000.0, 250000.0, 300000.0, 350000.0, 400000.0, 450000.0, 500000.0, 500000.0], \"line\": {\"color\": \"rgb(255, 0, 0)\"}, \"type\": \"scatter\", \"fill\": null}], {\"xaxis\": {\"titlefont\": {\"color\": \"lightgrey\", \"family\": \"Arial, sans-serif\", \"size\": 18}, \"title\": \"QPS\"}, \"yaxis\": {\"range\": [0, 1000], \"titlefont\": {\"color\": \"lightgrey\", \"family\": \"Arial, sans-serif\", \"size\": 18}, \"title\": \"Latency\"}}, {\"linkText\": \"Export to plot.ly\", \"showLink\": true})});</script>"
      ],
      "text/plain": [
       "<IPython.core.display.HTML object>"
      ]
     },
     "metadata": {},
     "output_type": "display_data"
    }
   ],
   "source": [
    "exps = [exp2, exp1]\n",
    "compare_experiments(exps, fill=True, to_max=False)"
   ]
  },
  {
   "cell_type": "code",
   "execution_count": 12,
   "metadata": {
    "collapsed": false
   },
   "outputs": [
    {
     "data": {
      "text/html": [
       "<div id=\"6fb64a29-a671-428d-ab97-67ef0b14a8b0\" style=\"height: 525px; width: 100%;\" class=\"plotly-graph-div\"></div><script type=\"text/javascript\">require([\"plotly\"], function(Plotly) { window.PLOTLYENV=window.PLOTLYENV || {};window.PLOTLYENV.BASE_URL=\"https://plot.ly\";Plotly.newPlot(\"6fb64a29-a671-428d-ab97-67ef0b14a8b0\", [{\"name\": \"serenity:Baseline\", \"mode\": \"lines\", \"y\": [234.3, 250.0, 269.6, 294.4, 307.3, 354.2, 360.7, 361.6, 392.2, 433.1], \"x\": [50000.0, 100000.0, 150000.0, 200000.0, 250000.0, 300000.0, 350000.0, 400000.0, 450000.0, 500000.0], \"line\": {\"shape\": \"spline\"}, \"type\": \"scatter\", \"fill\": null}, {\"name\": \"serenity:max_aggrs\", \"mode\": \"lines\", \"y\": [262.7, 275.1, 337.9, 294.4, 415.4, 354.2, 364.3, 381.5, 432.2, 545.3], \"x\": [50000.0, 100000.0, 150000.0, 200000.0, 250000.0, 300000.0, 350000.0, 400000.0, 450000.0, 500000.0], \"line\": {\"color\": \"rgb(7, 249, 128)\", \"shape\": \"spline\"}, \"type\": \"scatter\", \"fill\": \"tonexty\"}, {\"name\": \"swan:Baseline\", \"mode\": \"lines\", \"y\": [240.8, 252.0, 266.2, 279.7, 294.6, 313.6, 337.7, 364.3, 390.7, 446.5], \"x\": [50000.0, 100000.0, 150000.0, 200000.0, 250000.0, 300000.0, 350000.0, 400000.0, 450000.0, 500000.0], \"line\": {\"shape\": \"spline\"}, \"type\": \"scatter\", \"fill\": null}, {\"name\": \"swan:max_aggrs\", \"mode\": \"lines\", \"y\": [274.7, 330.2, 426.5, 30855.5, 2436.8, 6142.3, 35643.4, 34717.2, 48558.6, 20407.2], \"x\": [50000.0, 100000.0, 150000.0, 200000.0, 250000.0, 300000.0, 350000.0, 400000.0, 450000.0, 500000.0], \"line\": {\"color\": \"rgb(229, 71, 13)\", \"shape\": \"spline\"}, \"type\": \"scatter\", \"fill\": \"tonexty\"}, {\"name\": \"slo\", \"mode\": \"lines\", \"y\": [500, 500, 500, 500, 500, 500, 500, 500, 500, 500, 500], \"x\": [50000.0, 100000.0, 150000.0, 200000.0, 250000.0, 300000.0, 350000.0, 400000.0, 450000.0, 500000.0, 500000.0], \"line\": {\"color\": \"rgb(255, 0, 0)\"}, \"type\": \"scatter\", \"fill\": null}], {\"xaxis\": {\"titlefont\": {\"color\": \"lightgrey\", \"family\": \"Arial, sans-serif\", \"size\": 18}, \"title\": \"QPS\"}, \"yaxis\": {\"range\": [0, 1000], \"titlefont\": {\"color\": \"lightgrey\", \"family\": \"Arial, sans-serif\", \"size\": 18}, \"title\": \"Latency\"}}, {\"linkText\": \"Export to plot.ly\", \"showLink\": true})});</script>"
      ],
      "text/plain": [
       "<IPython.core.display.HTML object>"
      ]
     },
     "metadata": {},
     "output_type": "display_data"
    }
   ],
   "source": [
    "exps = [exp2, exp1]\n",
    "compare_experiments(exps, fill=True, to_max=True)"
   ]
  }
 ],
 "metadata": {
  "kernelspec": {
   "display_name": "Python 2",
   "language": "python",
   "name": "python2"
  },
  "language_info": {
   "codemirror_mode": {
    "name": "ipython",
    "version": 2
   },
   "file_extension": ".py",
   "mimetype": "text/x-python",
   "name": "python",
   "nbconvert_exporter": "python",
   "pygments_lexer": "ipython2",
   "version": "2.7.12"
  }
 },
 "nbformat": 4,
 "nbformat_minor": 0
}
