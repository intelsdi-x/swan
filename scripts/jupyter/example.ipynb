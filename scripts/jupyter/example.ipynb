{
 "cells": [
  {
   "cell_type": "markdown",
   "metadata": {},
   "source": [
    "Before start the experiment, please fill `ip`and `port` of cassandra cluster and `EXPERIMENT_ID`"
   ]
  },
  {
   "cell_type": "code",
   "execution_count": 1,
   "metadata": {
    "collapsed": true
   },
   "outputs": [],
   "source": [
    "IP = '127.0.0.1'"
   ]
  },
  {
   "cell_type": "code",
   "execution_count": 2,
   "metadata": {
    "collapsed": true
   },
   "outputs": [],
   "source": [
    "PORT = 9042"
   ]
  },
  {
   "cell_type": "code",
   "execution_count": 3,
   "metadata": {
    "collapsed": true
   },
   "outputs": [],
   "source": [
    "EXPERIMENT_ID = '57d25f69-d6d7-43e1-5c4e-3b5f5208acdc'"
   ]
  },
  {
   "cell_type": "markdown",
   "metadata": {},
   "source": [
    "The experiment module contains the entry point for swan experiment data."
   ]
  },
  {
   "cell_type": "code",
   "execution_count": 4,
   "metadata": {
    "collapsed": false
   },
   "outputs": [],
   "source": [
    "from experiment import *"
   ]
  },
  {
   "cell_type": "markdown",
   "metadata": {},
   "source": [
    "The profile module produce the sensitivity profile as found in the [Heracles paper](http://csl.stanford.edu/~christos/publications/2015.heracles.isca.pdf)."
   ]
  },
  {
   "cell_type": "code",
   "execution_count": 5,
   "metadata": {
    "collapsed": false
   },
   "outputs": [],
   "source": [
    "from profile import Profile"
   ]
  },
  {
   "cell_type": "markdown",
   "metadata": {},
   "source": [
    "An experiment can now be loaded from the database by its ID."
   ]
  },
  {
   "cell_type": "code",
   "execution_count": 6,
   "metadata": {
    "collapsed": false
   },
   "outputs": [],
   "source": [
    "import time \n",
    "\n",
    "\n",
    "start = time.time()\n",
    "exp1 = Experiment(cassandra_cluster=[IP], \n",
    "                        experiment_id=EXPERIMENT_ID, port=PORT)\n",
    "stop = time.time()"
   ]
  },
  {
   "cell_type": "code",
   "execution_count": 7,
   "metadata": {
    "collapsed": false
   },
   "outputs": [
    {
     "name": "stdout",
     "output_type": "stream",
     "text": [
      "Experiment took 160 seconds.\n"
     ]
    }
   ],
   "source": [
    "print(\"Experiment took %s seconds.\" % int(stop - start))"
   ]
  },
  {
   "cell_type": "markdown",
   "metadata": {},
   "source": [
    "The experiment now has the sample data and the raw samples can be access through the Panda dataframe in experiment.frame"
   ]
  },
  {
   "cell_type": "code",
   "execution_count": 8,
   "metadata": {
    "collapsed": false,
    "scrolled": true
   },
   "outputs": [
    {
     "data": {
      "text/html": [
       "<table border=\"1\" class=\"dataframe\">\n",
       "  <thead>\n",
       "    <tr style=\"text-align: right;\">\n",
       "      <th>ns</th>\n",
       "      <th>host</th>\n",
       "      <th>time</th>\n",
       "      <th>value</th>\n",
       "      <th>plugin_running_on</th>\n",
       "      <th>swan_loadpoint_qps</th>\n",
       "      <th>achieved_qps_percent</th>\n",
       "      <th>swan_experiment</th>\n",
       "      <th>swan_aggressor_name</th>\n",
       "      <th>swan_phase</th>\n",
       "      <th>swan_repetition</th>\n",
       "    </tr>\n",
       "  </thead>\n",
       "  <tbody>\n",
       "    <tr>\n",
       "      <td>/intel/swan/mutilate/jp7-1/percentile/99th</td>\n",
       "      <td>jp7-1</td>\n",
       "      <td>2016-07-11 21:35:59.834</td>\n",
       "      <td>1000.8</td>\n",
       "      <td>jp7-1</td>\n",
       "      <td>585000</td>\n",
       "      <td>99.99%</td>\n",
       "      <td>57d25f69-d6d7-43e1-5c4e-3b5f5208acdc</td>\n",
       "      <td>L1 Data</td>\n",
       "      <td>aggressor_nr_0_measurement_for_loadpoint_id_9</td>\n",
       "      <td>0</td>\n",
       "    </tr>\n",
       "    <tr>\n",
       "      <td>/intel/swan/mutilate/jp7-1/percentile/99th</td>\n",
       "      <td>jp7-1</td>\n",
       "      <td>2016-07-11 21:18:07.505</td>\n",
       "      <td>601.0</td>\n",
       "      <td>jp7-1</td>\n",
       "      <td>520000</td>\n",
       "      <td>99.98%</td>\n",
       "      <td>57d25f69-d6d7-43e1-5c4e-3b5f5208acdc</td>\n",
       "      <td>None</td>\n",
       "      <td>baseline_measurement_for_loadpoint_id_8</td>\n",
       "      <td>0</td>\n",
       "    </tr>\n",
       "    <tr>\n",
       "      <td>/intel/swan/mutilate/jp7-1/percentile/99th</td>\n",
       "      <td>jp7-1</td>\n",
       "      <td>2016-07-11 21:42:35.762</td>\n",
       "      <td>187.3</td>\n",
       "      <td>jp7-1</td>\n",
       "      <td>195000</td>\n",
       "      <td>100.01%</td>\n",
       "      <td>57d25f69-d6d7-43e1-5c4e-3b5f5208acdc</td>\n",
       "      <td>L1 Instruction</td>\n",
       "      <td>aggressor_nr_1_measurement_for_loadpoint_id_3</td>\n",
       "      <td>0</td>\n",
       "    </tr>\n",
       "    <tr>\n",
       "      <td>/intel/swan/mutilate/jp7-1/percentile/99th</td>\n",
       "      <td>jp7-1</td>\n",
       "      <td>2016-07-11 21:29:32.216</td>\n",
       "      <td>236.9</td>\n",
       "      <td>jp7-1</td>\n",
       "      <td>325000</td>\n",
       "      <td>99.99%</td>\n",
       "      <td>57d25f69-d6d7-43e1-5c4e-3b5f5208acdc</td>\n",
       "      <td>L1 Data</td>\n",
       "      <td>aggressor_nr_0_measurement_for_loadpoint_id_5</td>\n",
       "      <td>0</td>\n",
       "    </tr>\n",
       "    <tr>\n",
       "      <td>/intel/swan/mutilate/jp7-1/percentile/99th</td>\n",
       "      <td>jp7-1</td>\n",
       "      <td>2016-07-11 21:45:51.385</td>\n",
       "      <td>251.1</td>\n",
       "      <td>jp7-1</td>\n",
       "      <td>325000</td>\n",
       "      <td>99.95%</td>\n",
       "      <td>57d25f69-d6d7-43e1-5c4e-3b5f5208acdc</td>\n",
       "      <td>L1 Instruction</td>\n",
       "      <td>aggressor_nr_1_measurement_for_loadpoint_id_5</td>\n",
       "      <td>0</td>\n",
       "    </tr>\n",
       "    <tr>\n",
       "      <td>/intel/swan/mutilate/jp7-1/percentile/99th</td>\n",
       "      <td>jp7-1</td>\n",
       "      <td>2016-07-11 21:40:59.975</td>\n",
       "      <td>176.4</td>\n",
       "      <td>jp7-1</td>\n",
       "      <td>130000</td>\n",
       "      <td>100.01%</td>\n",
       "      <td>57d25f69-d6d7-43e1-5c4e-3b5f5208acdc</td>\n",
       "      <td>L1 Instruction</td>\n",
       "      <td>aggressor_nr_1_measurement_for_loadpoint_id_2</td>\n",
       "      <td>0</td>\n",
       "    </tr>\n",
       "    <tr>\n",
       "      <td>/intel/swan/mutilate/jp7-1/percentile/99th</td>\n",
       "      <td>jp7-1</td>\n",
       "      <td>2016-07-11 21:27:56.410</td>\n",
       "      <td>206.2</td>\n",
       "      <td>jp7-1</td>\n",
       "      <td>260000</td>\n",
       "      <td>100.03%</td>\n",
       "      <td>57d25f69-d6d7-43e1-5c4e-3b5f5208acdc</td>\n",
       "      <td>L1 Data</td>\n",
       "      <td>aggressor_nr_0_measurement_for_loadpoint_id_4</td>\n",
       "      <td>0</td>\n",
       "    </tr>\n",
       "    <tr>\n",
       "      <td>/intel/swan/mutilate/jp7-1/percentile/99th</td>\n",
       "      <td>jp7-1</td>\n",
       "      <td>2016-07-11 21:44:15.523</td>\n",
       "      <td>211.1</td>\n",
       "      <td>jp7-1</td>\n",
       "      <td>260000</td>\n",
       "      <td>99.99%</td>\n",
       "      <td>57d25f69-d6d7-43e1-5c4e-3b5f5208acdc</td>\n",
       "      <td>L1 Instruction</td>\n",
       "      <td>aggressor_nr_1_measurement_for_loadpoint_id_4</td>\n",
       "      <td>0</td>\n",
       "    </tr>\n",
       "    <tr>\n",
       "      <td>/intel/swan/mutilate/jp7-1/percentile/99th</td>\n",
       "      <td>jp7-1</td>\n",
       "      <td>2016-07-11 21:47:31.452</td>\n",
       "      <td>302.0</td>\n",
       "      <td>jp7-1</td>\n",
       "      <td>390000</td>\n",
       "      <td>100.02%</td>\n",
       "      <td>57d25f69-d6d7-43e1-5c4e-3b5f5208acdc</td>\n",
       "      <td>L1 Instruction</td>\n",
       "      <td>aggressor_nr_1_measurement_for_loadpoint_id_6</td>\n",
       "      <td>0</td>\n",
       "    </tr>\n",
       "    <tr>\n",
       "      <td>/intel/swan/mutilate/jp7-1/percentile/99th</td>\n",
       "      <td>jp7-1</td>\n",
       "      <td>2016-07-11 21:06:35.623</td>\n",
       "      <td>159.9</td>\n",
       "      <td>jp7-1</td>\n",
       "      <td>65000</td>\n",
       "      <td>100.00%</td>\n",
       "      <td>57d25f69-d6d7-43e1-5c4e-3b5f5208acdc</td>\n",
       "      <td>None</td>\n",
       "      <td>baseline_measurement_for_loadpoint_id_1</td>\n",
       "      <td>0</td>\n",
       "    </tr>\n",
       "    <tr>\n",
       "      <td>/intel/swan/mutilate/jp7-1/percentile/99th</td>\n",
       "      <td>jp7-1</td>\n",
       "      <td>2016-07-11 21:09:51.615</td>\n",
       "      <td>186.4</td>\n",
       "      <td>jp7-1</td>\n",
       "      <td>195000</td>\n",
       "      <td>100.01%</td>\n",
       "      <td>57d25f69-d6d7-43e1-5c4e-3b5f5208acdc</td>\n",
       "      <td>None</td>\n",
       "      <td>baseline_measurement_for_loadpoint_id_3</td>\n",
       "      <td>0</td>\n",
       "    </tr>\n",
       "    <tr>\n",
       "      <td>/intel/swan/mutilate/jp7-1/percentile/99th</td>\n",
       "      <td>jp7-1</td>\n",
       "      <td>2016-07-11 21:37:39.756</td>\n",
       "      <td>2228.0</td>\n",
       "      <td>jp7-1</td>\n",
       "      <td>650000</td>\n",
       "      <td>99.99%</td>\n",
       "      <td>57d25f69-d6d7-43e1-5c4e-3b5f5208acdc</td>\n",
       "      <td>L1 Data</td>\n",
       "      <td>aggressor_nr_0_measurement_for_loadpoint_id_10</td>\n",
       "      <td>0</td>\n",
       "    </tr>\n",
       "    <tr>\n",
       "      <td>/intel/swan/mutilate/jp7-1/percentile/99th</td>\n",
       "      <td>jp7-1</td>\n",
       "      <td>2016-07-11 21:32:44.133</td>\n",
       "      <td>371.1</td>\n",
       "      <td>jp7-1</td>\n",
       "      <td>455000</td>\n",
       "      <td>100.00%</td>\n",
       "      <td>57d25f69-d6d7-43e1-5c4e-3b5f5208acdc</td>\n",
       "      <td>L1 Data</td>\n",
       "      <td>aggressor_nr_0_measurement_for_loadpoint_id_7</td>\n",
       "      <td>0</td>\n",
       "    </tr>\n",
       "    <tr>\n",
       "      <td>/intel/swan/mutilate/jp7-1/percentile/99th</td>\n",
       "      <td>jp7-1</td>\n",
       "      <td>2016-07-11 21:08:11.776</td>\n",
       "      <td>169.7</td>\n",
       "      <td>jp7-1</td>\n",
       "      <td>130000</td>\n",
       "      <td>100.06%</td>\n",
       "      <td>57d25f69-d6d7-43e1-5c4e-3b5f5208acdc</td>\n",
       "      <td>None</td>\n",
       "      <td>baseline_measurement_for_loadpoint_id_2</td>\n",
       "      <td>0</td>\n",
       "    </tr>\n",
       "    <tr>\n",
       "      <td>/intel/swan/mutilate/jp7-1/percentile/99th</td>\n",
       "      <td>jp7-1</td>\n",
       "      <td>2016-07-11 21:23:00.382</td>\n",
       "      <td>155.7</td>\n",
       "      <td>jp7-1</td>\n",
       "      <td>65000</td>\n",
       "      <td>99.81%</td>\n",
       "      <td>57d25f69-d6d7-43e1-5c4e-3b5f5208acdc</td>\n",
       "      <td>L1 Data</td>\n",
       "      <td>aggressor_nr_0_measurement_for_loadpoint_id_1</td>\n",
       "      <td>0</td>\n",
       "    </tr>\n",
       "    <tr>\n",
       "      <td>/intel/swan/mutilate/jp7-1/percentile/99th</td>\n",
       "      <td>jp7-1</td>\n",
       "      <td>2016-07-11 21:39:19.827</td>\n",
       "      <td>165.7</td>\n",
       "      <td>jp7-1</td>\n",
       "      <td>65000</td>\n",
       "      <td>100.05%</td>\n",
       "      <td>57d25f69-d6d7-43e1-5c4e-3b5f5208acdc</td>\n",
       "      <td>L1 Instruction</td>\n",
       "      <td>aggressor_nr_1_measurement_for_loadpoint_id_1</td>\n",
       "      <td>0</td>\n",
       "    </tr>\n",
       "    <tr>\n",
       "      <td>/intel/swan/mutilate/jp7-1/percentile/99th</td>\n",
       "      <td>jp7-1</td>\n",
       "      <td>2016-07-11 21:31:08.324</td>\n",
       "      <td>274.6</td>\n",
       "      <td>jp7-1</td>\n",
       "      <td>390000</td>\n",
       "      <td>99.99%</td>\n",
       "      <td>57d25f69-d6d7-43e1-5c4e-3b5f5208acdc</td>\n",
       "      <td>L1 Data</td>\n",
       "      <td>aggressor_nr_0_measurement_for_loadpoint_id_6</td>\n",
       "      <td>0</td>\n",
       "    </tr>\n",
       "    <tr>\n",
       "      <td>/intel/swan/mutilate/jp7-1/percentile/99th</td>\n",
       "      <td>jp7-1</td>\n",
       "      <td>2016-07-11 21:24:39.962</td>\n",
       "      <td>170.7</td>\n",
       "      <td>jp7-1</td>\n",
       "      <td>130000</td>\n",
       "      <td>99.97%</td>\n",
       "      <td>57d25f69-d6d7-43e1-5c4e-3b5f5208acdc</td>\n",
       "      <td>L1 Data</td>\n",
       "      <td>aggressor_nr_0_measurement_for_loadpoint_id_2</td>\n",
       "      <td>0</td>\n",
       "    </tr>\n",
       "    <tr>\n",
       "      <td>/intel/swan/mutilate/jp7-1/percentile/99th</td>\n",
       "      <td>jp7-1</td>\n",
       "      <td>2016-07-11 21:34:24.020</td>\n",
       "      <td>511.1</td>\n",
       "      <td>jp7-1</td>\n",
       "      <td>520000</td>\n",
       "      <td>99.97%</td>\n",
       "      <td>57d25f69-d6d7-43e1-5c4e-3b5f5208acdc</td>\n",
       "      <td>L1 Data</td>\n",
       "      <td>aggressor_nr_0_measurement_for_loadpoint_id_8</td>\n",
       "      <td>0</td>\n",
       "    </tr>\n",
       "    <tr>\n",
       "      <td>/intel/swan/mutilate/jp7-1/percentile/99th</td>\n",
       "      <td>jp7-1</td>\n",
       "      <td>2016-07-11 21:13:11.863</td>\n",
       "      <td>235.7</td>\n",
       "      <td>jp7-1</td>\n",
       "      <td>325000</td>\n",
       "      <td>99.99%</td>\n",
       "      <td>57d25f69-d6d7-43e1-5c4e-3b5f5208acdc</td>\n",
       "      <td>None</td>\n",
       "      <td>baseline_measurement_for_loadpoint_id_5</td>\n",
       "      <td>0</td>\n",
       "    </tr>\n",
       "    <tr>\n",
       "      <td>/intel/swan/mutilate/jp7-1/percentile/99th</td>\n",
       "      <td>jp7-1</td>\n",
       "      <td>2016-07-11 21:16:27.464</td>\n",
       "      <td>410.3</td>\n",
       "      <td>jp7-1</td>\n",
       "      <td>455000</td>\n",
       "      <td>100.00%</td>\n",
       "      <td>57d25f69-d6d7-43e1-5c4e-3b5f5208acdc</td>\n",
       "      <td>None</td>\n",
       "      <td>baseline_measurement_for_loadpoint_id_7</td>\n",
       "      <td>0</td>\n",
       "    </tr>\n",
       "    <tr>\n",
       "      <td>/intel/swan/mutilate/jp7-1/percentile/99th</td>\n",
       "      <td>jp7-1</td>\n",
       "      <td>2016-07-11 21:21:19.930</td>\n",
       "      <td>2198.5</td>\n",
       "      <td>jp7-1</td>\n",
       "      <td>650000</td>\n",
       "      <td>100.00%</td>\n",
       "      <td>57d25f69-d6d7-43e1-5c4e-3b5f5208acdc</td>\n",
       "      <td>None</td>\n",
       "      <td>baseline_measurement_for_loadpoint_id_10</td>\n",
       "      <td>0</td>\n",
       "    </tr>\n",
       "    <tr>\n",
       "      <td>/intel/swan/mutilate/jp7-1/percentile/99th</td>\n",
       "      <td>jp7-1</td>\n",
       "      <td>2016-07-11 21:11:31.858</td>\n",
       "      <td>204.8</td>\n",
       "      <td>jp7-1</td>\n",
       "      <td>260000</td>\n",
       "      <td>100.03%</td>\n",
       "      <td>57d25f69-d6d7-43e1-5c4e-3b5f5208acdc</td>\n",
       "      <td>None</td>\n",
       "      <td>baseline_measurement_for_loadpoint_id_4</td>\n",
       "      <td>0</td>\n",
       "    </tr>\n",
       "    <tr>\n",
       "      <td>/intel/swan/mutilate/jp7-1/percentile/99th</td>\n",
       "      <td>jp7-1</td>\n",
       "      <td>2016-07-11 21:14:51.511</td>\n",
       "      <td>275.4</td>\n",
       "      <td>jp7-1</td>\n",
       "      <td>390000</td>\n",
       "      <td>99.97%</td>\n",
       "      <td>57d25f69-d6d7-43e1-5c4e-3b5f5208acdc</td>\n",
       "      <td>None</td>\n",
       "      <td>baseline_measurement_for_loadpoint_id_6</td>\n",
       "      <td>0</td>\n",
       "    </tr>\n",
       "    <tr>\n",
       "      <td>/intel/swan/mutilate/jp7-1/percentile/99th</td>\n",
       "      <td>jp7-1</td>\n",
       "      <td>2016-07-11 21:19:44.242</td>\n",
       "      <td>8266.7</td>\n",
       "      <td>jp7-1</td>\n",
       "      <td>585000</td>\n",
       "      <td>100.00%</td>\n",
       "      <td>57d25f69-d6d7-43e1-5c4e-3b5f5208acdc</td>\n",
       "      <td>None</td>\n",
       "      <td>baseline_measurement_for_loadpoint_id_9</td>\n",
       "      <td>0</td>\n",
       "    </tr>\n",
       "    <tr>\n",
       "      <td>/intel/swan/mutilate/jp7-1/percentile/99th</td>\n",
       "      <td>jp7-1</td>\n",
       "      <td>2016-07-11 21:26:16.362</td>\n",
       "      <td>184.2</td>\n",
       "      <td>jp7-1</td>\n",
       "      <td>195000</td>\n",
       "      <td>99.92%</td>\n",
       "      <td>57d25f69-d6d7-43e1-5c4e-3b5f5208acdc</td>\n",
       "      <td>L1 Data</td>\n",
       "      <td>aggressor_nr_0_measurement_for_loadpoint_id_3</td>\n",
       "      <td>0</td>\n",
       "    </tr>\n",
       "  </tbody>\n",
       "</table>"
      ],
      "text/plain": [
       "<experiment.Experiment at 0x7f8615ee3110>"
      ]
     },
     "execution_count": 8,
     "metadata": {},
     "output_type": "execute_result"
    }
   ],
   "source": [
    "exp1"
   ]
  },
  {
   "cell_type": "markdown",
   "metadata": {},
   "source": [
    "A sensivitify profile can now be generated:"
   ]
  },
  {
   "cell_type": "code",
   "execution_count": 9,
   "metadata": {
    "collapsed": false
   },
   "outputs": [
    {
     "data": {
      "text/html": [
       "<table style=\"border: 0\"><tr style=\"border: 0\"><th style=\"border: 0; border-bottom: 1px solid black; border-right: 1px solid black;\">Scenario / Load</th><th style=\"border: 0; border-bottom: 1px solid black;\">10.0%</th><th style=\"border: 0; border-bottom: 1px solid black;\">20.0%</th><th style=\"border: 0; border-bottom: 1px solid black;\">30.0%</th><th style=\"border: 0; border-bottom: 1px solid black;\">40.0%</th><th style=\"border: 0; border-bottom: 1px solid black;\">50.0%</th><th style=\"border: 0; border-bottom: 1px solid black;\">60.0%</th><th style=\"border: 0; border-bottom: 1px solid black;\">70.0%</th><th style=\"border: 0; border-bottom: 1px solid black;\">80.0%</th><th style=\"border: 0; border-bottom: 1px solid black;\">90.0%</th><th style=\"border: 0; border-bottom: 1px solid black;\">100.0%</th></tr><tr style=\"border: 0\"><td style=\"border: 0; border-right: 1px solid black;\">Baseline</td><td style=\"border: 0; background-color: #98cc70;\">32.0%</td><td style=\"border: 0; background-color: #98cc70;\">33.9%</td><td style=\"border: 0; background-color: #98cc70;\">37.3%</td><td style=\"border: 0; background-color: #98cc70;\">41.0%</td><td style=\"border: 0; background-color: #98cc70;\">47.1%</td><td style=\"border: 0; background-color: #98cc70;\">55.1%</td><td style=\"border: 0; background-color: #98cc70;\">82.1%</td><td style=\"border: 0; background-color: #ffeda0;\">120.2%</td><td style=\"border: 0; background-color: #a9341f; color: white;\">1653.3%</td><td style=\"border: 0; background-color: #a9341f; color: white;\">439.7%</td></tr><tr style=\"border: 0\"><td style=\"border: 0; border-right: 1px solid black;\">L1 Data</td><td style=\"border: 0; background-color: #98cc70;\">31.1%</td><td style=\"border: 0; background-color: #98cc70;\">34.1%</td><td style=\"border: 0; background-color: #98cc70;\">36.8%</td><td style=\"border: 0; background-color: #98cc70;\">41.2%</td><td style=\"border: 0; background-color: #98cc70;\">47.4%</td><td style=\"border: 0; background-color: #98cc70;\">54.9%</td><td style=\"border: 0; background-color: #98cc70;\">74.2%</td><td style=\"border: 0; background-color: #ffeda0;\">102.2%</td><td style=\"border: 0; background-color: #a9341f; color: white;\">200.2%</td><td style=\"border: 0; background-color: #a9341f; color: white;\">445.6%</td></tr><tr style=\"border: 0\"><td style=\"border: 0; border-right: 1px solid black;\">L1 Instruction</td><td style=\"border: 0; background-color: #98cc70;\">33.1%</td><td style=\"border: 0; background-color: #98cc70;\">35.3%</td><td style=\"border: 0; background-color: #98cc70;\">37.5%</td><td style=\"border: 0; background-color: #98cc70;\">42.2%</td><td style=\"border: 0; background-color: #98cc70;\">50.2%</td><td style=\"border: 0; background-color: #98cc70;\">60.4%</td><td style=\"border: 0; background-color: #a9341f; color: white;\">0.0%</td><td style=\"border: 0; background-color: #a9341f; color: white;\">0.0%</td><td style=\"border: 0; background-color: #a9341f; color: white;\">0.0%</td><td style=\"border: 0; background-color: #a9341f; color: white;\">0.0%</td></tr></table>"
      ],
      "text/plain": [
       "<profile.Profile at 0x7f8614430b50>"
      ]
     },
     "execution_count": 9,
     "metadata": {},
     "output_type": "execute_result"
    }
   ],
   "source": [
    "Profile(exp1, slo=500)"
   ]
  },
  {
   "cell_type": "markdown",
   "metadata": {
    "collapsed": true
   },
   "source": [
    "An experiment can be loaded from the `csv` file as well."
   ]
  },
  {
   "cell_type": "code",
   "execution_count": 10,
   "metadata": {
    "collapsed": false
   },
   "outputs": [],
   "source": [
    "exp2 = Experiment(experiment_id=\"8ab3f479-a3f8-48cf-71cb-e4853caf9cac\", \n",
    "                        read_csv=\"test_data/experiments.csv\")"
   ]
  },
  {
   "cell_type": "code",
   "execution_count": 11,
   "metadata": {
    "collapsed": false
   },
   "outputs": [
    {
     "data": {
      "text/html": [
       "<table border=\"1\" class=\"dataframe\">\n",
       "  <thead>\n",
       "    <tr style=\"text-align: right;\">\n",
       "      <th>ns</th>\n",
       "      <th>host</th>\n",
       "      <th>time</th>\n",
       "      <th>value</th>\n",
       "      <th>plugin_running_on</th>\n",
       "      <th>swan_loadpoint_qps</th>\n",
       "      <th>achieved_qps_percent</th>\n",
       "      <th>swan_experiment</th>\n",
       "      <th>swan_aggressor_name</th>\n",
       "      <th>swan_phase</th>\n",
       "      <th>swan_repetition</th>\n",
       "    </tr>\n",
       "  </thead>\n",
       "  <tbody>\n",
       "    <tr>\n",
       "      <td>/intel/swan/mutilate/localhost.localdomain/per...</td>\n",
       "      <td>localhost.localdomain</td>\n",
       "      <td>2016-06-28 23:59:31+0000</td>\n",
       "      <td>40.6</td>\n",
       "      <td>localhost.localdomain</td>\n",
       "      <td>11409</td>\n",
       "      <td>0.36%</td>\n",
       "      <td>c98e53c4-d660-4a97-9713-97462438133f</td>\n",
       "      <td>None</td>\n",
       "      <td>baseline_measurement_for_loadpoint_id_0</td>\n",
       "      <td>0</td>\n",
       "    </tr>\n",
       "  </tbody>\n",
       "</table>"
      ],
      "text/plain": [
       "<experiment.Experiment at 0x7f86144300d0>"
      ]
     },
     "execution_count": 11,
     "metadata": {},
     "output_type": "execute_result"
    }
   ],
   "source": [
    "exp2"
   ]
  },
  {
   "cell_type": "code",
   "execution_count": 12,
   "metadata": {
    "collapsed": false
   },
   "outputs": [
    {
     "data": {
      "text/html": [
       "<table style=\"border: 0\"><tr style=\"border: 0\"><th style=\"border: 0; border-bottom: 1px solid black; border-right: 1px solid black;\">Scenario / Load</th><th style=\"border: 0; border-bottom: 1px solid black;\">100.0%</th></tr><tr style=\"border: 0\"><td style=\"border: 0; border-right: 1px solid black;\">Baseline</td><td style=\"border: 0; background-color: #98cc70;\">8.1%</td></tr></table>"
      ],
      "text/plain": [
       "<profile.Profile at 0x7f8614516b10>"
      ]
     },
     "execution_count": 12,
     "metadata": {},
     "output_type": "execute_result"
    }
   ],
   "source": [
    "Profile(exp2, slo=500)"
   ]
  },
  {
   "cell_type": "code",
   "execution_count": null,
   "metadata": {
    "collapsed": true
   },
   "outputs": [],
   "source": []
  }
 ],
 "metadata": {
  "kernelspec": {
   "display_name": "Python 2",
   "language": "python",
   "name": "python2"
  },
  "language_info": {
   "codemirror_mode": {
    "name": "ipython",
    "version": 2
   },
   "file_extension": ".py",
   "mimetype": "text/x-python",
   "name": "python",
   "nbconvert_exporter": "python",
   "pygments_lexer": "ipython2",
   "version": "2.7.11+"
  }
 },
 "nbformat": 4,
 "nbformat_minor": 0
}
