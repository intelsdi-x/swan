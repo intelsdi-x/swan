{
 "cells": [
  {
   "cell_type": "markdown",
   "metadata": {},
   "source": [
    "Before start the experiment, please fill `ip`and `port` of cassandra cluster and `EXPERIMENT_ID`"
   ]
  },
  {
   "cell_type": "code",
   "execution_count": 1,
   "metadata": {
    "collapsed": true
   },
   "outputs": [],
   "source": [
    "IP = '149.202.205.137'"
   ]
  },
  {
   "cell_type": "code",
   "execution_count": 2,
   "metadata": {
    "collapsed": true
   },
   "outputs": [],
   "source": [
    "PORT = 9042"
   ]
  },
  {
   "cell_type": "code",
   "execution_count": 3,
   "metadata": {
    "collapsed": true
   },
   "outputs": [],
   "source": [
    "EXPERIMENT_ID5 = '17b6d195-46bf-47fb-71cd-15f22b070abf'\n",
    "EXPERIMENT_ID6 = '42392f19-8a54-454c-7e6d-9dad77f90f84'"
   ]
  },
  {
   "cell_type": "markdown",
   "metadata": {},
   "source": [
    "The experiment module contains the entry point for swan experiment data."
   ]
  },
  {
   "cell_type": "code",
   "execution_count": 4,
   "metadata": {
    "collapsed": false
   },
   "outputs": [],
   "source": [
    "from experiment import *"
   ]
  },
  {
   "cell_type": "markdown",
   "metadata": {},
   "source": [
    "The profile module produce the sensitivity profile as found in the [Heracles paper](http://csl.stanford.edu/~christos/publications/2015.heracles.isca.pdf)."
   ]
  },
  {
   "cell_type": "code",
   "execution_count": 8,
   "metadata": {
    "collapsed": false
   },
   "outputs": [],
   "source": [
    "from profile import Profile, compare_experiments"
   ]
  },
  {
   "cell_type": "markdown",
   "metadata": {},
   "source": [
    "An experiment can now be loaded from the database by its ID."
   ]
  },
  {
   "cell_type": "code",
   "execution_count": 9,
   "metadata": {
    "collapsed": false
   },
   "outputs": [],
   "source": [
    "exp5 = Experiment(cassandra_cluster=[IP], \n",
    "                        experiment_id=EXPERIMENT_ID5, port=PORT, name=\"with_serenity\")\n",
    "\n",
    "exp6 = Experiment(cassandra_cluster=[IP], \n",
    "                        experiment_id=EXPERIMENT_ID6, port=PORT, name=\"without_serenity\")\n"
   ]
  },
  {
   "cell_type": "markdown",
   "metadata": {},
   "source": [
    "The experiment now has the sample data and the raw samples can be access through the Panda dataframe in experiment.frame"
   ]
  },
  {
   "cell_type": "code",
   "execution_count": 10,
   "metadata": {
    "collapsed": false,
    "scrolled": false
   },
   "outputs": [
    {
     "data": {
      "text/html": [
       "<table style=\"border: 0\"><tr style=\"border: 0\"><th style=\"border: 0; border-bottom: 1px solid black; border-right: 1px solid black;\">Scenario / Load</th><th style=\"border: 0; border-bottom: 1px solid black;\">20.0%</th><th style=\"border: 0; border-bottom: 1px solid black;\">40.0%</th><th style=\"border: 0; border-bottom: 1px solid black;\">60.0%</th><th style=\"border: 0; border-bottom: 1px solid black;\">80.0%</th><th style=\"border: 0; border-bottom: 1px solid black;\">100.0%</th></tr><tr style=\"border: 0\"><td style=\"border: 0; border-right: 1px solid black;\">Baseline</td><td style=\"border: 0; background-color: #98cc70;\">49.2%</td><td style=\"border: 0; background-color: #98cc70;\">57.1%</td><td style=\"border: 0; background-color: #98cc70;\">60.8%</td><td style=\"border: 0; background-color: #98cc70;\">73.5%</td><td style=\"border: 0; background-color: #98cc70;\">89.4%</td></tr><tr style=\"border: 0\"><td style=\"border: 0; border-right: 1px solid black;\">Caffe</td><td style=\"border: 0; background-color: #98cc70;\">52.9%</td><td style=\"border: 0; background-color: #98cc70;\">63.3%</td><td style=\"border: 0; background-color: #98cc70;\">65.3%</td><td style=\"border: 0; background-color: #98cc70;\">73.2%</td><td style=\"border: 0; background-color: #a9341f; color: white;\">473.7%</td></tr><tr style=\"border: 0\"><td style=\"border: 0; border-right: 1px solid black;\">L1 Data</td><td style=\"border: 0; background-color: #98cc70;\">55.0%</td><td style=\"border: 0; background-color: #98cc70;\">75.8%</td><td style=\"border: 0; background-color: #98cc70;\">64.4%</td><td style=\"border: 0; background-color: #98cc70;\">72.7%</td><td style=\"border: 0; background-color: #ffeda0;\">100.5%</td></tr><tr style=\"border: 0\"><td style=\"border: 0; border-right: 1px solid black;\">L1 Instruction</td><td style=\"border: 0; background-color: #98cc70;\">54.6%</td><td style=\"border: 0; background-color: #98cc70;\">69.1%</td><td style=\"border: 0; background-color: #98cc70;\">64.1%</td><td style=\"border: 0; background-color: #98cc70;\">74.8%</td><td style=\"border: 0; background-color: #98cc70;\">87.4%</td></tr><tr style=\"border: 0\"><td style=\"border: 0; border-right: 1px solid black;\">L3 Data</td><td style=\"border: 0; background-color: #98cc70;\">54.9%</td><td style=\"border: 0; background-color: #98cc70;\">59.9%</td><td style=\"border: 0; background-color: #98cc70;\">65.3%</td><td style=\"border: 0; background-color: #98cc70;\">89.9%</td><td style=\"border: 0; background-color: #a9341f; color: white;\">546.7%</td></tr><tr style=\"border: 0\"><td style=\"border: 0; border-right: 1px solid black;\">Stream 100M</td><td style=\"border: 0; background-color: #98cc70;\">49.3%</td><td style=\"border: 0; background-color: #98cc70;\">55.1%</td><td style=\"border: 0; background-color: #98cc70;\">64.1%</td><td style=\"border: 0; background-color: #98cc70;\">73.5%</td><td style=\"border: 0; background-color: #98cc70;\">87.0%</td></tr><tr style=\"border: 0\"><td style=\"border: 0; border-right: 1px solid black;\">memBW</td><td style=\"border: 0; background-color: #98cc70;\">68.8%</td><td style=\"border: 0; background-color: #98cc70;\">55.3%</td><td style=\"border: 0; background-color: #98cc70;\">64.1%</td><td style=\"border: 0; background-color: #98cc70;\">91.4%</td><td style=\"border: 0; background-color: #98cc70;\">90.6%</td></tr></table>"
      ],
      "text/plain": [
       "<IPython.core.display.HTML object>"
      ]
     },
     "execution_count": 10,
     "metadata": {},
     "output_type": "execute_result"
    }
   ],
   "source": [
    "p5 = Profile(exp5, slo=500)\n",
    "p5.sensitivity_table()"
   ]
  },
  {
   "cell_type": "code",
   "execution_count": 11,
   "metadata": {
    "collapsed": false
   },
   "outputs": [
    {
     "data": {
      "text/html": [
       "<table style=\"border: 0\"><tr style=\"border: 0\"><th style=\"border: 0; border-bottom: 1px solid black; border-right: 1px solid black;\">Scenario / Load</th><th style=\"border: 0; border-bottom: 1px solid black;\">20.0%</th><th style=\"border: 0; border-bottom: 1px solid black;\">40.0%</th><th style=\"border: 0; border-bottom: 1px solid black;\">60.0%</th><th style=\"border: 0; border-bottom: 1px solid black;\">80.0%</th><th style=\"border: 0; border-bottom: 1px solid black;\">100.0%</th></tr><tr style=\"border: 0\"><td style=\"border: 0; border-right: 1px solid black;\">Baseline</td><td style=\"border: 0; background-color: #98cc70;\">48.7%</td><td style=\"border: 0; background-color: #98cc70;\">53.9%</td><td style=\"border: 0; background-color: #98cc70;\">60.9%</td><td style=\"border: 0; background-color: #98cc70;\">73.3%</td><td style=\"border: 0; background-color: #ffeda0;\">104.0%</td></tr><tr style=\"border: 0\"><td style=\"border: 0; border-right: 1px solid black;\">Caffe</td><td style=\"border: 0; background-color: #a9341f; color: white;\">188.5%</td><td style=\"border: 0; background-color: #a9341f; color: white;\">276.1%</td><td style=\"border: 0; background-color: #98cc70;\">91.5%</td><td style=\"border: 0; background-color: #a9341f; color: white;\">217.1%</td><td style=\"border: 0; background-color: #a9341f; color: white;\">952.3%</td></tr><tr style=\"border: 0\"><td style=\"border: 0; border-right: 1px solid black;\">L1 Data</td><td style=\"border: 0; background-color: #98cc70;\">49.7%</td><td style=\"border: 0; background-color: #a9341f; color: white;\">154.9%</td><td style=\"border: 0; background-color: #98cc70;\">99.4%</td><td style=\"border: 0; background-color: #a9341f; color: white;\">578.0%</td><td style=\"border: 0; background-color: #a9341f; color: white;\">1695.5%</td></tr><tr style=\"border: 0\"><td style=\"border: 0; border-right: 1px solid black;\">L1 Instruction</td><td style=\"border: 0; background-color: #98cc70;\">80.7%</td><td style=\"border: 0; background-color: #98cc70;\">75.7%</td><td style=\"border: 0; background-color: #a9341f; color: white;\">8427.2%</td><td style=\"border: 0; background-color: #a9341f; color: white;\">21127.6%</td><td style=\"border: 0; background-color: #a9341f; color: white;\">6157.8%</td></tr><tr style=\"border: 0\"><td style=\"border: 0; border-right: 1px solid black;\">L3 Data</td><td style=\"border: 0; background-color: #ffeda0;\">135.8%</td><td style=\"border: 0; background-color: #a9341f; color: white;\">171.3%</td><td style=\"border: 0; background-color: #a9341f; color: white;\">499.2%</td><td style=\"border: 0; background-color: #a9341f; color: white;\">1576.1%</td><td style=\"border: 0; background-color: #a9341f; color: white;\">3303.6%</td></tr><tr style=\"border: 0\"><td style=\"border: 0; border-right: 1px solid black;\">Stream 100M</td><td style=\"border: 0; background-color: #a9341f; color: white;\">219.6%</td><td style=\"border: 0; background-color: #a9341f; color: white;\">1115.5%</td><td style=\"border: 0; background-color: #a9341f; color: white;\">2231.9%</td><td style=\"border: 0; background-color: #a9341f; color: white;\">4185.0%</td><td style=\"border: 0; background-color: #a9341f; color: white;\">4624.3%</td></tr><tr style=\"border: 0\"><td style=\"border: 0; border-right: 1px solid black;\">memBW</td><td style=\"border: 0; background-color: #a9341f; color: white;\">188.9%</td><td style=\"border: 0; background-color: #a9341f; color: white;\">609.7%</td><td style=\"border: 0; background-color: #a9341f; color: white;\">3543.3%</td><td style=\"border: 0; background-color: #a9341f; color: white;\">4727.9%</td><td style=\"border: 0; background-color: #a9341f; color: white;\">4512.3%</td></tr></table>"
      ],
      "text/plain": [
       "<IPython.core.display.HTML object>"
      ]
     },
     "execution_count": 11,
     "metadata": {},
     "output_type": "execute_result"
    }
   ],
   "source": [
    "p6 = Profile(exp6, slo=500)\n",
    "p6.sensitivity_table()"
   ]
  },
  {
   "cell_type": "code",
   "execution_count": 12,
   "metadata": {
    "collapsed": false
   },
   "outputs": [
    {
     "data": {
      "text/html": [
       "<div id=\"db453e48-f702-42f2-9862-313e4ce53660\" style=\"height: 525px; width: 100%;\" class=\"plotly-graph-div\"></div><script type=\"text/javascript\">require([\"plotly\"], function(Plotly) { window.PLOTLYENV=window.PLOTLYENV || {};window.PLOTLYENV.BASE_URL=\"https://plot.ly\";Plotly.newPlot(\"db453e48-f702-42f2-9862-313e4ce53660\", [{\"name\": \"slo\", \"mode\": \"lines\", \"y\": [500.0, 500.0, 500.0, 500.0, 500.0], \"x\": [100000.0, 200000.0, 300000.0, 400000.0, 500000.0], \"line\": {\"color\": \"rgb(255, 0, 0)\", \"shape\": \"spline\"}, \"type\": \"scatter\", \"fill\": null}, {\"name\": \"with_serenity:Baseline\", \"mode\": \"lines\", \"y\": [246.0, 285.4, 304.1, 367.4, 446.9], \"x\": [100000.0, 200000.0, 300000.0, 400000.0, 500000.0], \"line\": {\"color\": \"rgb(153, 27, 35)\", \"shape\": \"spline\"}, \"type\": \"scatter\", \"fill\": null}, {\"name\": \"with_serenity:max_aggrs\", \"mode\": \"lines\", \"y\": [344.1, 379.0, 326.6, 456.8, 2733.4], \"x\": [100000.0, 200000.0, 300000.0, 400000.0, 500000.0], \"line\": {\"color\": \"rgb(153, 27, 35)\", \"shape\": \"spline\"}, \"type\": \"scatter\", \"fill\": \"tonexty\"}], {\"xaxis\": {\"titlefont\": {\"color\": \"lightgrey\", \"family\": \"Arial, sans-serif\", \"size\": 18}, \"title\": \"QPS\"}, \"yaxis\": {\"range\": [0, 1000], \"titlefont\": {\"color\": \"lightgrey\", \"family\": \"Arial, sans-serif\", \"size\": 18}, \"title\": \"Latency\"}}, {\"linkText\": \"Export to plot.ly\", \"showLink\": true})});</script>"
      ],
      "text/plain": [
       "<IPython.core.display.HTML object>"
      ]
     },
     "metadata": {},
     "output_type": "display_data"
    },
    {
     "data": {
      "text/plain": [
       "None"
      ]
     },
     "metadata": {},
     "output_type": "display_data"
    }
   ],
   "source": [
    "p5.sensitivity_chart(fill=True, to_max=True)"
   ]
  },
  {
   "cell_type": "code",
   "execution_count": 13,
   "metadata": {
    "collapsed": false
   },
   "outputs": [
    {
     "data": {
      "text/html": [
       "<div id=\"d416dc79-d37c-4ef4-835e-393229503816\" style=\"height: 525px; width: 100%;\" class=\"plotly-graph-div\"></div><script type=\"text/javascript\">require([\"plotly\"], function(Plotly) { window.PLOTLYENV=window.PLOTLYENV || {};window.PLOTLYENV.BASE_URL=\"https://plot.ly\";Plotly.newPlot(\"d416dc79-d37c-4ef4-835e-393229503816\", [{\"name\": \"slo\", \"mode\": \"lines\", \"y\": [500.0, 500.0, 500.0, 500.0, 500.0], \"x\": [100000.0, 200000.0, 300000.0, 400000.0, 500000.0], \"line\": {\"color\": \"rgb(255, 0, 0)\", \"shape\": \"spline\"}, \"type\": \"scatter\", \"fill\": null}, {\"name\": \"without_serenity:Baseline\", \"mode\": \"lines\", \"y\": [243.6, 269.3, 304.3, 366.4, 519.8], \"x\": [100000.0, 200000.0, 300000.0, 400000.0, 500000.0], \"line\": {\"color\": \"rgb(153, 27, 35)\", \"shape\": \"spline\"}, \"type\": \"scatter\", \"fill\": null}, {\"name\": \"without_serenity:max_aggrs\", \"mode\": \"lines\", \"y\": [1097.9, 5577.6, 42136.0, 105637.9, 30788.9], \"x\": [100000.0, 200000.0, 300000.0, 400000.0, 500000.0], \"line\": {\"color\": \"rgb(153, 27, 35)\", \"shape\": \"spline\"}, \"type\": \"scatter\", \"fill\": \"tonexty\"}], {\"xaxis\": {\"titlefont\": {\"color\": \"lightgrey\", \"family\": \"Arial, sans-serif\", \"size\": 18}, \"title\": \"QPS\"}, \"yaxis\": {\"range\": [0, 1000], \"titlefont\": {\"color\": \"lightgrey\", \"family\": \"Arial, sans-serif\", \"size\": 18}, \"title\": \"Latency\"}}, {\"linkText\": \"Export to plot.ly\", \"showLink\": true})});</script>"
      ],
      "text/plain": [
       "<IPython.core.display.HTML object>"
      ]
     },
     "metadata": {},
     "output_type": "display_data"
    },
    {
     "data": {
      "text/plain": [
       "None"
      ]
     },
     "metadata": {},
     "output_type": "display_data"
    }
   ],
   "source": [
    "p6.sensitivity_chart(fill=True, to_max=True)"
   ]
  },
  {
   "cell_type": "code",
   "execution_count": 14,
   "metadata": {
    "collapsed": false,
    "scrolled": false
   },
   "outputs": [
    {
     "data": {
      "text/html": [
       "<div id=\"27df651e-2b6a-452b-9eca-dd37fcc26188\" style=\"height: 525px; width: 100%;\" class=\"plotly-graph-div\"></div><script type=\"text/javascript\">require([\"plotly\"], function(Plotly) { window.PLOTLYENV=window.PLOTLYENV || {};window.PLOTLYENV.BASE_URL=\"https://plot.ly\";Plotly.newPlot(\"27df651e-2b6a-452b-9eca-dd37fcc26188\", [{\"name\": \"with_serenity:Baseline\", \"mode\": \"lines\", \"y\": [246.0, 285.4, 304.1, 367.4, 446.9], \"x\": [100000.0, 200000.0, 300000.0, 400000.0, 500000.0], \"line\": {\"shape\": \"spline\"}, \"type\": \"scatter\", \"fill\": null}, {\"name\": \"with_serenity:max_aggrs\", \"mode\": \"lines\", \"y\": [344.1, 379.0, 326.6, 456.8, 2733.4], \"x\": [100000.0, 200000.0, 300000.0, 400000.0, 500000.0], \"line\": {\"color\": \"rgb(7, 249, 128)\", \"shape\": \"spline\"}, \"type\": \"scatter\", \"fill\": \"tonexty\"}, {\"name\": \"without_serenity:Baseline\", \"mode\": \"lines\", \"y\": [243.6, 269.3, 304.3, 366.4, 519.8], \"x\": [100000.0, 200000.0, 300000.0, 400000.0, 500000.0], \"line\": {\"shape\": \"spline\"}, \"type\": \"scatter\", \"fill\": null}, {\"name\": \"without_serenity:max_aggrs\", \"mode\": \"lines\", \"y\": [1097.9, 5577.6, 42136.0, 105637.9, 30788.9], \"x\": [100000.0, 200000.0, 300000.0, 400000.0, 500000.0], \"line\": {\"color\": \"rgb(229, 71, 13)\", \"shape\": \"spline\"}, \"type\": \"scatter\", \"fill\": \"tonexty\"}, {\"name\": \"slo\", \"mode\": \"lines\", \"y\": [500, 500, 500, 500, 500, 500], \"x\": [100000.0, 200000.0, 300000.0, 400000.0, 500000.0, 500000.0], \"line\": {\"color\": \"rgb(255, 0, 0)\"}, \"type\": \"scatter\", \"fill\": null}], {\"xaxis\": {\"titlefont\": {\"color\": \"lightgrey\", \"family\": \"Arial, sans-serif\", \"size\": 18}, \"title\": \"QPS\"}, \"yaxis\": {\"range\": [0, 1000], \"titlefont\": {\"color\": \"lightgrey\", \"family\": \"Arial, sans-serif\", \"size\": 18}, \"title\": \"Latency\"}}, {\"linkText\": \"Export to plot.ly\", \"showLink\": true})});</script>"
      ],
      "text/plain": [
       "<IPython.core.display.HTML object>"
      ]
     },
     "metadata": {},
     "output_type": "display_data"
    },
    {
     "data": {
      "text/plain": [
       "None"
      ]
     },
     "metadata": {},
     "output_type": "display_data"
    }
   ],
   "source": [
    "exps = [exp5, exp6]\n",
    "compare_experiments(exps, aggressors=[\"Baseline\"], fill=True, to_max=True)"
   ]
  }
 ],
 "metadata": {
  "kernelspec": {
   "display_name": "Python 2",
   "language": "python",
   "name": "python2"
  },
  "language_info": {
   "codemirror_mode": {
    "name": "ipython",
    "version": 2
   },
   "file_extension": ".py",
   "mimetype": "text/x-python",
   "name": "python",
   "nbconvert_exporter": "python",
   "pygments_lexer": "ipython2",
   "version": "2.7.11+"
  }
 },
 "nbformat": 4,
 "nbformat_minor": 0
}
