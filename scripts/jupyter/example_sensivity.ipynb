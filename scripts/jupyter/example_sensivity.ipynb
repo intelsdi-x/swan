{
 "cells": [
  {
   "cell_type": "code",
   "execution_count": 1,
   "metadata": {
    "collapsed": false
   },
   "outputs": [],
   "source": [
    "from experiment import *"
   ]
  },
  {
   "cell_type": "code",
   "execution_count": 2,
   "metadata": {
    "collapsed": false
   },
   "outputs": [],
   "source": [
    "from profile import Profile"
   ]
  },
  {
   "cell_type": "code",
   "execution_count": 3,
   "metadata": {
    "collapsed": false
   },
   "outputs": [],
   "source": [
    "experiment = Experiment(cassandra_cluster=[\"localhost\"], experiment_id=\"5df7fa72-add4-44a2-67fa-31668bcafe81\")"
   ]
  },
  {
   "cell_type": "code",
   "execution_count": 4,
   "metadata": {
    "collapsed": false
   },
   "outputs": [],
   "source": [
    "profile = Profile(experiment.frame, slo=500)"
   ]
  },
  {
   "cell_type": "code",
   "execution_count": 5,
   "metadata": {
    "collapsed": false
   },
   "outputs": [
    {
     "data": {
      "text/html": [
       "<table style=\"border: 0\"><tr style=\"border: 0\"><th style=\"border: 0; border-bottom: 1px solid black; border-right: 1px solid black;\">Scenario / Load</th><th style=\"border: 0; border-bottom: 1px solid black;\">10.0%</th><th style=\"border: 0; border-bottom: 1px solid black;\">20.0%</th><th style=\"border: 0; border-bottom: 1px solid black;\">30.0%</th><th style=\"border: 0; border-bottom: 1px solid black;\">40.0%</th><th style=\"border: 0; border-bottom: 1px solid black;\">50.0%</th><th style=\"border: 0; border-bottom: 1px solid black;\">60.0%</th><th style=\"border: 0; border-bottom: 1px solid black;\">70.0%</th><th style=\"border: 0; border-bottom: 1px solid black;\">80.0%</th><th style=\"border: 0; border-bottom: 1px solid black;\">90.0%</th><th style=\"border: 0; border-bottom: 1px solid black;\">100.0%</th></tr><tr style=\"border: 0\"><td style=\"border: 0; border-right: 1px solid black;\">Baseline</td><td style=\"border: 0; background-color: #98cc70;\">32.0%</td><td style=\"border: 0; background-color: #98cc70;\">34.8%</td><td style=\"border: 0; background-color: #98cc70;\">36.4%</td><td style=\"border: 0; background-color: #98cc70;\">38.7%</td><td style=\"border: 0; background-color: #98cc70;\">43.9%</td><td style=\"border: 0; background-color: #98cc70;\">48.1%</td><td style=\"border: 0; background-color: #98cc70;\">52.8%</td><td style=\"border: 0; background-color: #98cc70;\">55.9%</td><td style=\"border: 0; background-color: #98cc70;\">64.3%</td><td style=\"border: 0; background-color: #98cc70;\">75.2%</td></tr><tr style=\"border: 0\"><td style=\"border: 0; border-right: 1px solid black;\">Caffe</td><td style=\"border: 0; background-color: #98cc70;\">32.0%</td><td style=\"border: 0; background-color: #98cc70;\">33.2%</td><td style=\"border: 0; background-color: #98cc70;\">35.0%</td><td style=\"border: 0; background-color: #98cc70;\">37.9%</td><td style=\"border: 0; background-color: #98cc70;\">43.3%</td><td style=\"border: 0; background-color: #98cc70;\">48.0%</td><td style=\"border: 0; background-color: #98cc70;\">51.5%</td><td style=\"border: 0; background-color: #98cc70;\">58.2%</td><td style=\"border: 0; background-color: #98cc70;\">70.6%</td><td style=\"border: 0; background-color: #a9341f; color: white;\">230.8%</td></tr><tr style=\"border: 0\"><td style=\"border: 0; border-right: 1px solid black;\">L1 Data</td><td style=\"border: 0; background-color: #98cc70;\">32.9%</td><td style=\"border: 0; background-color: #98cc70;\">33.9%</td><td style=\"border: 0; background-color: #98cc70;\">37.5%</td><td style=\"border: 0; background-color: #98cc70;\">41.3%</td><td style=\"border: 0; background-color: #98cc70;\">48.2%</td><td style=\"border: 0; background-color: #98cc70;\">55.1%</td><td style=\"border: 0; background-color: #98cc70;\">78.6%</td><td style=\"border: 0; background-color: #ffeda0;\">124.1%</td><td style=\"border: 0; background-color: #a9341f; color: white;\">479.3%</td><td style=\"border: 0; background-color: #a9341f; color: white;\">488.0%</td></tr><tr style=\"border: 0\"><td style=\"border: 0; border-right: 1px solid black;\">L1 Instruction</td><td style=\"border: 0; background-color: #98cc70;\">33.9%</td><td style=\"border: 0; background-color: #98cc70;\">35.7%</td><td style=\"border: 0; background-color: #98cc70;\">37.7%</td><td style=\"border: 0; background-color: #98cc70;\">44.3%</td><td style=\"border: 0; background-color: #98cc70;\">53.6%</td><td style=\"border: 0; background-color: #98cc70;\">76.0%</td><td style=\"border: 0; background-color: #a9341f; color: white;\">988.5%</td><td style=\"border: 0; background-color: #a9341f; color: white;\">782.3%</td><td style=\"border: 0; background-color: #a9341f; color: white;\">1282.4%</td><td style=\"border: 0; background-color: #a9341f; color: white;\">950.1%</td></tr><tr style=\"border: 0\"><td style=\"border: 0; border-right: 1px solid black;\">Stream 100M</td><td style=\"border: 0; background-color: #98cc70;\">39.6%</td><td style=\"border: 0; background-color: #98cc70;\">63.4%</td><td style=\"border: 0; background-color: #a9341f; color: white;\">169.9%</td><td style=\"border: 0; background-color: #a9341f; color: white;\">948.3%</td><td style=\"border: 0; background-color: #a9341f; color: white;\">1826.6%</td><td style=\"border: 0; background-color: #a9341f; color: white;\">2588.3%</td><td style=\"border: 0; background-color: #a9341f; color: white;\">2639.9%</td><td style=\"border: 0; background-color: #a9341f; color: white;\">2592.5%</td><td style=\"border: 0; background-color: #a9341f; color: white;\">2452.2%</td><td style=\"border: 0; background-color: #a9341f; color: white;\">2450.3%</td></tr><tr style=\"border: 0\"><td style=\"border: 0; border-right: 1px solid black;\">memBW</td><td style=\"border: 0; background-color: #98cc70;\">31.8%</td><td style=\"border: 0; background-color: #98cc70;\">35.1%</td><td style=\"border: 0; background-color: #98cc70;\">37.2%</td><td style=\"border: 0; background-color: #98cc70;\">40.9%</td><td style=\"border: 0; background-color: #98cc70;\">45.5%</td><td style=\"border: 0; background-color: #98cc70;\">50.9%</td><td style=\"border: 0; background-color: #98cc70;\">60.0%</td><td style=\"border: 0; background-color: #98cc70;\">77.9%</td><td style=\"border: 0; background-color: #ffeda0;\">101.0%</td><td style=\"border: 0; background-color: #ffeda0;\">106.8%</td></tr></table>"
      ],
      "text/plain": [
       "<profile.Profile at 0x10f53f590>"
      ]
     },
     "execution_count": 5,
     "metadata": {},
     "output_type": "execute_result"
    }
   ],
   "source": [
    "profile"
   ]
  },
  {
   "cell_type": "code",
   "execution_count": null,
   "metadata": {
    "collapsed": true
   },
   "outputs": [],
   "source": []
  }
 ],
 "metadata": {
  "kernelspec": {
   "display_name": "Python 2",
   "language": "python",
   "name": "python2"
  },
  "language_info": {
   "codemirror_mode": {
    "name": "ipython",
    "version": 2
   },
   "file_extension": ".py",
   "mimetype": "text/x-python",
   "name": "python",
   "nbconvert_exporter": "python",
   "pygments_lexer": "ipython2",
   "version": "2.7.10"
  }
 },
 "nbformat": 4,
 "nbformat_minor": 0
}
