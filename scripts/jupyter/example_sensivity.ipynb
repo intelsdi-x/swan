{
 "cells": [
  {
   "cell_type": "code",
   "execution_count": 1,
   "metadata": {
    "collapsed": false
   },
   "outputs": [],
   "source": [
    "from experiment import *"
   ]
  },
  {
   "cell_type": "code",
   "execution_count": 2,
   "metadata": {
    "collapsed": false
   },
   "outputs": [],
   "source": [
    "from profile import Profile"
   ]
  },
  {
   "cell_type": "code",
   "execution_count": 3,
   "metadata": {
    "collapsed": false
   },
   "outputs": [],
   "source": [
    "experiment = Experiment(cassandra_cluster=[\"localhost\"], experiment_id=\"042a6f78-38b9-4f48-5302-3043ce28c83b\")"
   ]
  },
  {
   "cell_type": "code",
   "execution_count": 4,
   "metadata": {
    "collapsed": false,
    "scrolled": true
   },
   "outputs": [],
   "source": [
    "data_frame = experiment.frame"
   ]
  },
  {
   "cell_type": "code",
   "execution_count": 5,
   "metadata": {
    "collapsed": false
   },
   "outputs": [],
   "source": [
    "aggressor_frame = data_frame.loc[data_frame['ns'] == '/intel/swan/mutilate/jp7-1/percentile/99th'][['swan_loadpoint_qps', 'value']]"
   ]
  },
  {
   "cell_type": "code",
   "execution_count": 6,
   "metadata": {
    "collapsed": false
   },
   "outputs": [
    {
     "data": {
      "text/plain": [
       "120     (650000.0, 229.66)\n",
       "121      (585000.0, 63.08)\n",
       "122       (520000.0, 56.4)\n",
       "123      (455000.0, 51.84)\n",
       "124      (390000.0, 48.32)\n",
       "125      (325000.0, 43.78)\n",
       "126      (260000.0, 38.72)\n",
       "127      (195000.0, 36.34)\n",
       "128       (130000.0, 32.9)\n",
       "129       (65000.0, 32.34)\n",
       "130       (650000.0, 84.4)\n",
       "131      (585000.0, 63.16)\n",
       "132      (520000.0, 54.96)\n",
       "133      (455000.0, 52.94)\n",
       "134      (390000.0, 48.64)\n",
       "135      (325000.0, 43.38)\n",
       "136      (260000.0, 37.74)\n",
       "137      (195000.0, 35.82)\n",
       "138       (130000.0, 33.8)\n",
       "139        (65000.0, 33.1)\n",
       "140     (650000.0, 111.58)\n",
       "141     (585000.0, 111.54)\n",
       "142      (520000.0, 85.38)\n",
       "143      (455000.0, 58.84)\n",
       "144      (390000.0, 52.42)\n",
       "145      (325000.0, 45.66)\n",
       "146      (260000.0, 40.76)\n",
       "147       (195000.0, 38.0)\n",
       "148       (130000.0, 35.1)\n",
       "149       (65000.0, 33.48)\n",
       "150     (650000.0, 862.18)\n",
       "151     (585000.0, 543.68)\n",
       "152    (520000.0, 1260.56)\n",
       "153     (455000.0, 104.32)\n",
       "154      (390000.0, 70.22)\n",
       "155      (325000.0, 55.26)\n",
       "156      (260000.0, 43.86)\n",
       "157      (195000.0, 38.42)\n",
       "158      (130000.0, 35.52)\n",
       "159       (65000.0, 33.04)\n",
       "160      (650000.0, 517.3)\n",
       "161     (585000.0, 273.28)\n",
       "162     (520000.0, 106.02)\n",
       "163      (455000.0, 76.34)\n",
       "164      (390000.0, 55.32)\n",
       "165      (325000.0, 48.54)\n",
       "166       (260000.0, 41.5)\n",
       "167      (195000.0, 37.64)\n",
       "168      (130000.0, 33.96)\n",
       "169       (65000.0, 34.26)\n",
       "170       (650000.0, 80.3)\n",
       "171      (585000.0, 63.32)\n",
       "172      (520000.0, 57.48)\n",
       "173      (455000.0, 53.56)\n",
       "174      (390000.0, 48.56)\n",
       "175       (325000.0, 43.7)\n",
       "176      (260000.0, 38.64)\n",
       "177      (195000.0, 36.34)\n",
       "178      (130000.0, 34.28)\n",
       "179       (65000.0, 33.24)\n",
       "dtype: object"
      ]
     },
     "execution_count": 6,
     "metadata": {},
     "output_type": "execute_result"
    }
   ],
   "source": [
    "aggressor_frame.apply(lambda x : (x[0], (x[1] / 500 * 100)), axis=1)"
   ]
  },
  {
   "cell_type": "code",
   "execution_count": 9,
   "metadata": {
    "collapsed": false
   },
   "outputs": [
    {
     "name": "stdout",
     "output_type": "stream",
     "text": [
      "value: 161.700000 slo: 500.000000 result: 32.340000\n",
      "value: 164.500000 slo: 500.000000 result: 32.900000\n",
      "value: 181.700000 slo: 500.000000 result: 36.340000\n",
      "value: 193.600000 slo: 500.000000 result: 38.720000\n",
      "value: 218.900000 slo: 500.000000 result: 43.780000\n",
      "value: 241.600000 slo: 500.000000 result: 48.320000\n",
      "value: 259.200000 slo: 500.000000 result: 51.840000\n",
      "value: 282.000000 slo: 500.000000 result: 56.400000\n",
      "value: 315.400000 slo: 500.000000 result: 63.080000\n",
      "value: 1148.300000 slo: 500.000000 result: 229.660000\n"
     ]
    },
    {
     "ename": "KeyError",
     "evalue": "'swan_loadpoint_qps'",
     "output_type": "error",
     "traceback": [
      "\u001b[0;31m---------------------------------------------------------------------------\u001b[0m",
      "\u001b[0;31mKeyError\u001b[0m                                  Traceback (most recent call last)",
      "\u001b[0;32m<ipython-input-9-198f30c6dae6>\u001b[0m in \u001b[0;36m<module>\u001b[0;34m()\u001b[0m\n\u001b[0;32m----> 1\u001b[0;31m \u001b[0mprofile\u001b[0m \u001b[0;34m=\u001b[0m \u001b[0mProfile\u001b[0m\u001b[0;34m(\u001b[0m\u001b[0mdata_frame\u001b[0m\u001b[0;34m,\u001b[0m \u001b[0mslo\u001b[0m\u001b[0;34m=\u001b[0m\u001b[0;36m500\u001b[0m\u001b[0;34m)\u001b[0m\u001b[0;34m\u001b[0m\u001b[0m\n\u001b[0m",
      "\u001b[0;32m/Users/nqnielse/workspace/swan/scripts/jupyter/profile.py\u001b[0m in \u001b[0;36m__init__\u001b[0;34m(self, data_frame, slo)\u001b[0m\n\u001b[1;32m     39\u001b[0m             \u001b[0;31m# In case of partial measurements, we only use the columns from this aggressor\u001b[0m\u001b[0;34m\u001b[0m\u001b[0;34m\u001b[0m\u001b[0m\n\u001b[1;32m     40\u001b[0m             \u001b[0;31m# if it is bigger than the current one.\u001b[0m\u001b[0;34m\u001b[0m\u001b[0;34m\u001b[0m\u001b[0m\n\u001b[0;32m---> 41\u001b[0;31m             \u001b[0mqps\u001b[0m \u001b[0;34m=\u001b[0m \u001b[0maggressor_frame\u001b[0m\u001b[0;34m[\u001b[0m\u001b[0;34m'swan_loadpoint_qps'\u001b[0m\u001b[0;34m]\u001b[0m\u001b[0;34m.\u001b[0m\u001b[0mtolist\u001b[0m\u001b[0;34m(\u001b[0m\u001b[0;34m)\u001b[0m\u001b[0;34m\u001b[0m\u001b[0m\n\u001b[0m\u001b[1;32m     42\u001b[0m             \u001b[0;32mif\u001b[0m \u001b[0mcolumns\u001b[0m \u001b[0;32mis\u001b[0m \u001b[0mNone\u001b[0m\u001b[0;34m:\u001b[0m\u001b[0;34m\u001b[0m\u001b[0m\n\u001b[1;32m     43\u001b[0m                 \u001b[0mcolumns\u001b[0m \u001b[0;34m=\u001b[0m \u001b[0mqps\u001b[0m\u001b[0;34m\u001b[0m\u001b[0m\n",
      "\u001b[0;32m/usr/local/lib/python2.7/site-packages/pandas/core/series.pyc\u001b[0m in \u001b[0;36m__getitem__\u001b[0;34m(self, key)\u001b[0m\n\u001b[1;32m    581\u001b[0m         \u001b[0mkey\u001b[0m \u001b[0;34m=\u001b[0m \u001b[0mcom\u001b[0m\u001b[0;34m.\u001b[0m\u001b[0m_apply_if_callable\u001b[0m\u001b[0;34m(\u001b[0m\u001b[0mkey\u001b[0m\u001b[0;34m,\u001b[0m \u001b[0mself\u001b[0m\u001b[0;34m)\u001b[0m\u001b[0;34m\u001b[0m\u001b[0m\n\u001b[1;32m    582\u001b[0m         \u001b[0;32mtry\u001b[0m\u001b[0;34m:\u001b[0m\u001b[0;34m\u001b[0m\u001b[0m\n\u001b[0;32m--> 583\u001b[0;31m             \u001b[0mresult\u001b[0m \u001b[0;34m=\u001b[0m \u001b[0mself\u001b[0m\u001b[0;34m.\u001b[0m\u001b[0mindex\u001b[0m\u001b[0;34m.\u001b[0m\u001b[0mget_value\u001b[0m\u001b[0;34m(\u001b[0m\u001b[0mself\u001b[0m\u001b[0;34m,\u001b[0m \u001b[0mkey\u001b[0m\u001b[0;34m)\u001b[0m\u001b[0;34m\u001b[0m\u001b[0m\n\u001b[0m\u001b[1;32m    584\u001b[0m \u001b[0;34m\u001b[0m\u001b[0m\n\u001b[1;32m    585\u001b[0m             \u001b[0;32mif\u001b[0m \u001b[0;32mnot\u001b[0m \u001b[0mlib\u001b[0m\u001b[0;34m.\u001b[0m\u001b[0misscalar\u001b[0m\u001b[0;34m(\u001b[0m\u001b[0mresult\u001b[0m\u001b[0;34m)\u001b[0m\u001b[0;34m:\u001b[0m\u001b[0;34m\u001b[0m\u001b[0m\n",
      "\u001b[0;32m/usr/local/lib/python2.7/site-packages/pandas/indexes/base.pyc\u001b[0m in \u001b[0;36mget_value\u001b[0;34m(self, series, key)\u001b[0m\n\u001b[1;32m   1978\u001b[0m         \u001b[0;32mtry\u001b[0m\u001b[0;34m:\u001b[0m\u001b[0;34m\u001b[0m\u001b[0m\n\u001b[1;32m   1979\u001b[0m             return self._engine.get_value(s, k,\n\u001b[0;32m-> 1980\u001b[0;31m                                           tz=getattr(series.dtype, 'tz', None))\n\u001b[0m\u001b[1;32m   1981\u001b[0m         \u001b[0;32mexcept\u001b[0m \u001b[0mKeyError\u001b[0m \u001b[0;32mas\u001b[0m \u001b[0me1\u001b[0m\u001b[0;34m:\u001b[0m\u001b[0;34m\u001b[0m\u001b[0m\n\u001b[1;32m   1982\u001b[0m             \u001b[0;32mif\u001b[0m \u001b[0mlen\u001b[0m\u001b[0;34m(\u001b[0m\u001b[0mself\u001b[0m\u001b[0;34m)\u001b[0m \u001b[0;34m>\u001b[0m \u001b[0;36m0\u001b[0m \u001b[0;32mand\u001b[0m \u001b[0mself\u001b[0m\u001b[0;34m.\u001b[0m\u001b[0minferred_type\u001b[0m \u001b[0;32min\u001b[0m \u001b[0;34m[\u001b[0m\u001b[0;34m'integer'\u001b[0m\u001b[0;34m,\u001b[0m \u001b[0;34m'boolean'\u001b[0m\u001b[0;34m]\u001b[0m\u001b[0;34m:\u001b[0m\u001b[0;34m\u001b[0m\u001b[0m\n",
      "\u001b[0;32mpandas/index.pyx\u001b[0m in \u001b[0;36mpandas.index.IndexEngine.get_value (pandas/index.c:3332)\u001b[0;34m()\u001b[0m\n",
      "\u001b[0;32mpandas/index.pyx\u001b[0m in \u001b[0;36mpandas.index.IndexEngine.get_value (pandas/index.c:3035)\u001b[0;34m()\u001b[0m\n",
      "\u001b[0;32mpandas/index.pyx\u001b[0m in \u001b[0;36mpandas.index.IndexEngine.get_loc (pandas/index.c:4084)\u001b[0;34m()\u001b[0m\n",
      "\u001b[0;31mKeyError\u001b[0m: 'swan_loadpoint_qps'"
     ]
    }
   ],
   "source": [
    "profile = Profile(data_frame, slo=500)"
   ]
  },
  {
   "cell_type": "code",
   "execution_count": 8,
   "metadata": {
    "collapsed": false
   },
   "outputs": [
    {
     "ename": "NameError",
     "evalue": "name 'profile' is not defined",
     "output_type": "error",
     "traceback": [
      "\u001b[0;31m---------------------------------------------------------------------------\u001b[0m",
      "\u001b[0;31mNameError\u001b[0m                                 Traceback (most recent call last)",
      "\u001b[0;32m<ipython-input-8-0feefb4c5666>\u001b[0m in \u001b[0;36m<module>\u001b[0;34m()\u001b[0m\n\u001b[0;32m----> 1\u001b[0;31m \u001b[0mprofile\u001b[0m\u001b[0;34m.\u001b[0m\u001b[0mframe\u001b[0m\u001b[0;34m\u001b[0m\u001b[0m\n\u001b[0m",
      "\u001b[0;31mNameError\u001b[0m: name 'profile' is not defined"
     ]
    }
   ],
   "source": [
    "profile.frame"
   ]
  },
  {
   "cell_type": "code",
   "execution_count": null,
   "metadata": {
    "collapsed": true
   },
   "outputs": [],
   "source": []
  }
 ],
 "metadata": {
  "kernelspec": {
   "display_name": "Python 2",
   "language": "python",
   "name": "python2"
  },
  "language_info": {
   "codemirror_mode": {
    "name": "ipython",
    "version": 2
   },
   "file_extension": ".py",
   "mimetype": "text/x-python",
   "name": "python",
   "nbconvert_exporter": "python",
   "pygments_lexer": "ipython2",
   "version": "2.7.10"
  }
 },
 "nbformat": 4,
 "nbformat_minor": 0
}
