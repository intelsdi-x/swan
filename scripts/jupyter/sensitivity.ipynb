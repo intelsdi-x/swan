{
 "cells": [
  {
   "cell_type": "code",
   "execution_count": 1,
   "metadata": {
    "collapsed": false
   },
   "outputs": [],
   "source": [
    "from experiments import *"
   ]
  },
  {
   "cell_type": "code",
   "execution_count": 2,
   "metadata": {
    "collapsed": true
   },
   "outputs": [],
   "source": [
    "from experiment import *"
   ]
  },
  {
   "cell_type": "code",
   "execution_count": 3,
   "metadata": {
    "collapsed": false
   },
   "outputs": [],
   "source": [
    "exps = Experiments(test_file='test_data/experiments.csv')"
   ]
  },
  {
   "cell_type": "code",
   "execution_count": 4,
   "metadata": {
    "collapsed": false
   },
   "outputs": [
    {
     "data": {
      "text/html": [
       "<table><tr><th>Experiment id</th><th>Date</th></tr><tr><td>8ab3f479-a3f8-48cf-71cb-e4853caf9cac</td><td>2016-06-28 23:59:31+0000</td></tr><tr><td>be996d77-4cf2-406a-a763-4b9d81b46f15</td><td>2016-06-28 23:59:31+0000</td></tr><tr><td>c98e53c4-d660-4a97-9713-97462438133f</td><td>2016-06-28 23:59:31+0000</td></tr></table>"
      ],
      "text/plain": [
       "<experiments.Experiments instance at 0x10e49b1b8>"
      ]
     },
     "execution_count": 4,
     "metadata": {},
     "output_type": "execute_result"
    }
   ],
   "source": [
    "exps"
   ]
  },
  {
   "cell_type": "code",
   "execution_count": 30,
   "metadata": {
    "collapsed": false
   },
   "outputs": [],
   "source": [
    "exp = Experiment('8ab3f479-a3f8-48cf-71cb-e4853caf9cac', test_file='test_data/profile.csv')"
   ]
  },
  {
   "cell_type": "code",
   "execution_count": 31,
   "metadata": {
    "collapsed": false
   },
   "outputs": [
    {
     "data": {
      "text/html": [
       "<table><tr><th>Phase</th><th>Repetition</th><th>Metric</th><th>Value</th></tr><tr><td rowspan=20>aggr_1_for_loadpoint_id_0</td><td>0</td><td>/intel/swan/mutilate/machine1/percentile/99th</td><td>150.6</td><tr><tr><td>0</td><td>/intel/swan/mutilate/machine1/percentile/99th</td><td>300.6</td><tr><tr><td>0</td><td>/intel/swan/mutilate/machine1/percentile/99th</td><td>600.6</td><tr><tr><td>0</td><td>/intel/swan/mutilate/machine1/percentile/99th</td><td>700.6</td><tr><tr><td>0</td><td>/intel/swan/mutilate/machine1/percentile/99th</td><td>750.6</td><tr><tr><td>0</td><td>/intel/swan/mutilate/machine1/percentile/99th</td><td>800.6</td><tr><tr><td>0</td><td>/intel/swan/mutilate/machine1/percentile/99th</td><td>820.6</td><tr><tr><td>0</td><td>/intel/swan/mutilate/machine1/percentile/99th</td><td>860.6</td><tr><tr><td>0</td><td>/intel/swan/mutilate/machine1/percentile/99th</td><td>900.6</td><tr><tr><td>0</td><td>/intel/swan/mutilate/machine1/percentile/99th</td><td>1000.6</td><tr><tr><td rowspan=20>aggr_2_for_loadpoint_id_0</td><td>0</td><td>/intel/swan/mutilate/machine1/percentile/99th</td><td>200.6</td><tr><tr><td>0</td><td>/intel/swan/mutilate/machine1/percentile/99th</td><td>250.6</td><tr><tr><td>0</td><td>/intel/swan/mutilate/machine1/percentile/99th</td><td>300.6</td><tr><tr><td>0</td><td>/intel/swan/mutilate/machine1/percentile/99th</td><td>330.6</td><tr><tr><td>0</td><td>/intel/swan/mutilate/machine1/percentile/99th</td><td>500.6</td><tr><tr><td>0</td><td>/intel/swan/mutilate/machine1/percentile/99th</td><td>550.6</td><tr><tr><td>0</td><td>/intel/swan/mutilate/machine1/percentile/99th</td><td>560.6</td><tr><tr><td>0</td><td>/intel/swan/mutilate/machine1/percentile/99th</td><td>700.6</td><tr><tr><td>0</td><td>/intel/swan/mutilate/machine1/percentile/99th</td><td>800.6</td><tr><tr><td>0</td><td>/intel/swan/mutilate/machine1/percentile/99th</td><td>1900.6</td><tr><tr><td rowspan=20>baseline_measurement_for_loadpoint_id_0</td><td>0</td><td>/intel/swan/mutilate/machine1/percentile/99th</td><td>40.6</td><tr><tr><td>0</td><td>/intel/swan/mutilate/machine1/percentile/99th</td><td>50.6</td><tr><tr><td>0</td><td>/intel/swan/mutilate/machine1/percentile/99th</td><td>60.6</td><tr><tr><td>0</td><td>/intel/swan/mutilate/machine1/percentile/99th</td><td>80.6</td><tr><tr><td>0</td><td>/intel/swan/mutilate/machine1/percentile/99th</td><td>120.6</td><tr><tr><td>0</td><td>/intel/swan/mutilate/machine1/percentile/99th</td><td>150.6</td><tr><tr><td>0</td><td>/intel/swan/mutilate/machine1/percentile/99th</td><td>250.6</td><tr><tr><td>0</td><td>/intel/swan/mutilate/machine1/percentile/99th</td><td>350.6</td><tr><tr><td>0</td><td>/intel/swan/mutilate/machine1/percentile/99th</td><td>400.6</td><tr><tr><td>0</td><td>/intel/swan/mutilate/machine1/percentile/99th</td><td>450.6</td><tr></table>"
      ],
      "text/plain": [
       "<experiment.Experiment instance at 0x10e548440>"
      ]
     },
     "execution_count": 31,
     "metadata": {},
     "output_type": "execute_result"
    }
   ],
   "source": [
    "exp"
   ]
  },
  {
   "cell_type": "code",
   "execution_count": 32,
   "metadata": {
    "collapsed": false
   },
   "outputs": [
    {
     "data": {
      "text/html": [
       "<table style=\"border: 0;\"><tr style=\"border: 0\"><th style=\"border: 0; border-bottom: 1px solid black; ; border-right: 1px solid black; ;\">Scenario / Load</th><th style=\"border: 0; border-bottom: 1px solid black;\">5%</th><th style=\"border: 0; border-bottom: 1px solid black;\">15%</th><th style=\"border: 0; border-bottom: 1px solid black;\">25%</th><th style=\"border: 0; border-bottom: 1px solid black;\">35%</th><th style=\"border: 0; border-bottom: 1px solid black;\">45%</th><th style=\"border: 0; border-bottom: 1px solid black;\">55%</th><th style=\"border: 0; border-bottom: 1px solid black;\">65%</th><th style=\"border: 0; border-bottom: 1px solid black;\">75%</th><th style=\"border: 0; border-bottom: 1px solid black;\">85%</th><th style=\"border: 0; border-bottom: 1px solid black;\">95%</th></tr><tr style=\"border: 0\"><td style=\"border: 0; border-right: 1px solid black; ;\">L1data</td><td style=\"border: 0; background-color: #98cc70;\">30.1%</td><td style=\"border: 0; background-color: #98cc70;\">60.1%</td><td style=\"border: 0; background-color: #ffeda0;\">120.1%</td><td style=\"border: 0; background-color: #ffeda0;\">140.1%</td><td style=\"border: 0; background-color: #a9341f; color: white;\">150.1%</td><td style=\"border: 0; background-color: #a9341f; color: white;\">160.1%</td><td style=\"border: 0; background-color: #a9341f; color: white;\">164.1%</td><td style=\"border: 0; background-color: #a9341f; color: white;\">172.1%</td><td style=\"border: 0; background-color: #a9341f; color: white;\">180.1%</td><td style=\"border: 0; background-color: #a9341f; color: white;\">200.1%</td><tr style=\"border: 0\"><td style=\"border: 0; border-right: 1px solid black; ;\">Baseline</td><td style=\"border: 0; background-color: #98cc70;\">8.1%</td><td style=\"border: 0; background-color: #98cc70;\">10.1%</td><td style=\"border: 0; background-color: #98cc70;\">12.1%</td><td style=\"border: 0; background-color: #98cc70;\">16.1%</td><td style=\"border: 0; background-color: #98cc70;\">24.1%</td><td style=\"border: 0; background-color: #98cc70;\">30.1%</td><td style=\"border: 0; background-color: #98cc70;\">50.1%</td><td style=\"border: 0; background-color: #98cc70;\">70.1%</td><td style=\"border: 0; background-color: #98cc70;\">80.1%</td><td style=\"border: 0; background-color: #98cc70;\">90.1%</td><tr style=\"border: 0\"><td style=\"border: 0; border-right: 1px solid black; ;\">LLC</td><td style=\"border: 0; background-color: #98cc70;\">40.1%</td><td style=\"border: 0; background-color: #98cc70;\">50.1%</td><td style=\"border: 0; background-color: #98cc70;\">60.1%</td><td style=\"border: 0; background-color: #98cc70;\">66.1%</td><td style=\"border: 0; background-color: #ffeda0;\">100.1%</td><td style=\"border: 0; background-color: #ffeda0;\">110.1%</td><td style=\"border: 0; background-color: #ffeda0;\">112.1%</td><td style=\"border: 0; background-color: #ffeda0;\">140.1%</td><td style=\"border: 0; background-color: #a9341f; color: white;\">160.1%</td><td style=\"border: 0; background-color: #a9341f; color: white;\">380.1%</td><td style=\"border: 0\"></td></tr></table>"
      ],
      "text/plain": [
       "<profile.Profile instance at 0x10e548f80>"
      ]
     },
     "execution_count": 32,
     "metadata": {},
     "output_type": "execute_result"
    }
   ],
   "source": [
    "exp.profile(500)"
   ]
  },
  {
   "cell_type": "code",
   "execution_count": null,
   "metadata": {
    "collapsed": true
   },
   "outputs": [],
   "source": []
  }
 ],
 "metadata": {
  "kernelspec": {
   "display_name": "Python 2",
   "language": "python",
   "name": "python2"
  },
  "language_info": {
   "codemirror_mode": {
    "name": "ipython",
    "version": 2
   },
   "file_extension": ".py",
   "mimetype": "text/x-python",
   "name": "python",
   "nbconvert_exporter": "python",
   "pygments_lexer": "ipython2",
   "version": "2.7.10"
  }
 },
 "nbformat": 4,
 "nbformat_minor": 0
}
