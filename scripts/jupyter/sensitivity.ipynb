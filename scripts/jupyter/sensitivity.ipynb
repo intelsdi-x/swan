{
 "cells": [
  {
   "cell_type": "code",
   "execution_count": 1,
   "metadata": {
    "collapsed": false
   },
   "outputs": [],
   "source": [
    "import swan"
   ]
  },
  {
   "cell_type": "code",
   "execution_count": 2,
   "metadata": {
    "collapsed": false
   },
   "outputs": [],
   "source": [
    "experiments = swan.Experiments(['10.141.141.10'])"
   ]
  },
  {
   "cell_type": "code",
   "execution_count": 3,
   "metadata": {
    "collapsed": false,
    "scrolled": true
   },
   "outputs": [
    {
     "data": {
      "text/html": [
       "<table><tr><th>Experiment id</th><th>Date</th></tr><tr><td>60138cad-f5f2-417b-4336-38eb589651c5</td><td>2016-06-22 23:18:28.327000</td></tr><tr><td>d1ed8945-5273-4c9a-7388-87285ff97426</td><td>2016-06-22 23:16:53.981000</td></tr><tr><td>9bb4d355-73e9-42c2-752c-1ad6338936dd</td><td>2016-06-22 22:53:44.285000</td></tr><tr><td>5f079544-a3d6-44af-40ab-da08dfd4b95a</td><td>2016-06-22 23:13:41.559000</td></tr><tr><td>example-experiment</td><td>2016-06-21 19:30:08.919000</td></tr><tr><td>ee327f1c-e06a-4999-77bd-5876f4305a85</td><td>2016-06-21 22:04:10.140000</td></tr><tr><td>8ab3f479-a3f8-48cf-71cb-e4853caf9cac</td><td>2016-06-22 23:17:59.195000</td></tr><tr><td>6792257864811593754</td><td>2016-06-21 19:39:36.681000</td></tr><tr><td>1641464405766801093</td><td>2016-06-21 19:29:22.934000</td></tr><tr><td>81d791a0-300f-4e53-4a50-64f45a2fcb76</td><td>2016-06-22 23:02:54.621000</td></tr><tr><td>281583be-2e1c-4867-4c28-dfc934328f56</td><td>2016-06-22 22:51:52.351000</td></tr><tr><td>72b8162b-fd3a-44c0-72ad-9a9d1ef8a91b</td><td>2016-06-21 20:51:39.313000</td></tr><tr><td>199de8f7-eb67-4804-7351-88af1784788e</td><td>2016-06-22 23:15:01.483000</td></tr><tr><td>542d732e-13fe-4460-52a2-dae59d4b8ab0</td><td>2016-06-22 22:58:12.433000</td></tr></table>"
      ],
      "text/plain": [
       "<IPython.core.display.HTML object>"
      ]
     },
     "metadata": {},
     "output_type": "display_data"
    }
   ],
   "source": [
    "experiments.show_list()"
   ]
  },
  {
   "cell_type": "code",
   "execution_count": 3,
   "metadata": {
    "collapsed": false
   },
   "outputs": [],
   "source": [
    "experiment = experiments.experiment('60138cad-f5f2-417b-4336-38eb589651c5')"
   ]
  },
  {
   "cell_type": "code",
   "execution_count": 4,
   "metadata": {
    "collapsed": false
   },
   "outputs": [
    {
     "data": {
      "text/html": [
       "<table><tr><th>Phase</th><th>Repetition</th><th>Metric</th><th>Value</th></tr><tr><td rowspan=20>baseline_measurement_for_loadpoint_id_10</td><td>0</td><td>/intel/swan/mutilate/localhost.localdomain/percentile/10th</td><td>34.0</td><tr><tr><td>0</td><td>/intel/swan/mutilate/localhost.localdomain/std</td><td>158.8</td><tr><tr><td>0</td><td>/intel/swan/mutilate/localhost.localdomain/percentile/95th</td><td>104.3</td><tr><tr><td>0</td><td>/intel/swan/mutilate/localhost.localdomain/avg</td><td>65.9</td><tr><tr><td>0</td><td>/intel/swan/mutilate/localhost.localdomain/percentile/99th</td><td>149.4</td><tr><tr><td>0</td><td>/intel/swan/mutilate/localhost.localdomain/percentile/90th</td><td>89.3</td><tr><tr><td>0</td><td>/intel/swan/mutilate/localhost.localdomain/qps</td><td>14839.0</td><tr><tr><td>0</td><td>/intel/swan/mutilate/localhost.localdomain/percentile/99_900th/custom</td><td>882.708071</td><tr><tr><td>0</td><td>/intel/swan/mutilate/localhost.localdomain/min</td><td>15.9</td><tr><tr><td>0</td><td>/intel/swan/mutilate/localhost.localdomain/percentile/5th</td><td>25.2</td><tr><tr><td rowspan=20>baseline_measurement_for_loadpoint_id_9</td><td>0</td><td>/intel/swan/mutilate/localhost.localdomain/percentile/10th</td><td>41.6</td><tr><tr><td>0</td><td>/intel/swan/mutilate/localhost.localdomain/std</td><td>53.3</td><tr><tr><td>0</td><td>/intel/swan/mutilate/localhost.localdomain/percentile/95th</td><td>117.0</td><tr><tr><td>0</td><td>/intel/swan/mutilate/localhost.localdomain/avg</td><td>67.2</td><tr><tr><td>0</td><td>/intel/swan/mutilate/localhost.localdomain/percentile/99th</td><td>203.0</td><tr><tr><td>0</td><td>/intel/swan/mutilate/localhost.localdomain/percentile/90th</td><td>96.1</td><tr><tr><td>0</td><td>/intel/swan/mutilate/localhost.localdomain/qps</td><td>13366.0</td><tr><tr><td>0</td><td>/intel/swan/mutilate/localhost.localdomain/percentile/99_900th/custom</td><td>776.608439</td><tr><tr><td>0</td><td>/intel/swan/mutilate/localhost.localdomain/min</td><td>14.4</td><tr><tr><td>0</td><td>/intel/swan/mutilate/localhost.localdomain/percentile/5th</td><td>30.5</td><tr><tr><td rowspan=20>baseline_measurement_for_loadpoint_id_8</td><td>0</td><td>/intel/swan/mutilate/localhost.localdomain/percentile/10th</td><td>46.6</td><tr><tr><td>0</td><td>/intel/swan/mutilate/localhost.localdomain/std</td><td>92.0</td><tr><tr><td>0</td><td>/intel/swan/mutilate/localhost.localdomain/percentile/95th</td><td>129.0</td><tr><tr><td>0</td><td>/intel/swan/mutilate/localhost.localdomain/avg</td><td>75.2</td><tr><tr><td>0</td><td>/intel/swan/mutilate/localhost.localdomain/percentile/99th</td><td>227.2</td><tr><tr><td>0</td><td>/intel/swan/mutilate/localhost.localdomain/percentile/90th</td><td>107.8</td><tr><tr><td>0</td><td>/intel/swan/mutilate/localhost.localdomain/qps</td><td>11970.0</td><tr><tr><td>0</td><td>/intel/swan/mutilate/localhost.localdomain/percentile/99_900th/custom</td><td>956.549412</td><tr><tr><td>0</td><td>/intel/swan/mutilate/localhost.localdomain/min</td><td>19.2</td><tr><tr><td>0</td><td>/intel/swan/mutilate/localhost.localdomain/percentile/5th</td><td>40.7</td><tr><tr><td rowspan=20>baseline_measurement_for_loadpoint_id_7</td><td>0</td><td>/intel/swan/mutilate/localhost.localdomain/percentile/10th</td><td>45.5</td><tr><tr><td>0</td><td>/intel/swan/mutilate/localhost.localdomain/std</td><td>185.9</td><tr><tr><td>0</td><td>/intel/swan/mutilate/localhost.localdomain/percentile/95th</td><td>135.5</td><tr><tr><td>0</td><td>/intel/swan/mutilate/localhost.localdomain/avg</td><td>84.0</td><tr><tr><td>0</td><td>/intel/swan/mutilate/localhost.localdomain/percentile/99th</td><td>393.7</td><tr><tr><td>0</td><td>/intel/swan/mutilate/localhost.localdomain/percentile/90th</td><td>108.3</td><tr><tr><td>0</td><td>/intel/swan/mutilate/localhost.localdomain/qps</td><td>10214.0</td><tr><tr><td>0</td><td>/intel/swan/mutilate/localhost.localdomain/percentile/99_900th/custom</td><td>3132.970906</td><tr><tr><td>0</td><td>/intel/swan/mutilate/localhost.localdomain/min</td><td>17.4</td><tr><tr><td>0</td><td>/intel/swan/mutilate/localhost.localdomain/percentile/5th</td><td>38.9</td><tr><tr><td rowspan=20>baseline_measurement_for_loadpoint_id_6</td><td>0</td><td>/intel/swan/mutilate/localhost.localdomain/percentile/10th</td><td>42.1</td><tr><tr><td>0</td><td>/intel/swan/mutilate/localhost.localdomain/std</td><td>170.0</td><tr><tr><td>0</td><td>/intel/swan/mutilate/localhost.localdomain/percentile/95th</td><td>132.6</td><tr><tr><td>0</td><td>/intel/swan/mutilate/localhost.localdomain/avg</td><td>79.8</td><tr><tr><td>0</td><td>/intel/swan/mutilate/localhost.localdomain/percentile/99th</td><td>278.1</td><tr><tr><td>0</td><td>/intel/swan/mutilate/localhost.localdomain/percentile/90th</td><td>107.8</td><tr><tr><td>0</td><td>/intel/swan/mutilate/localhost.localdomain/qps</td><td>8771.9</td><tr><tr><td>0</td><td>/intel/swan/mutilate/localhost.localdomain/percentile/99_900th/custom</td><td>2535.075525</td><tr><tr><td>0</td><td>/intel/swan/mutilate/localhost.localdomain/min</td><td>17.4</td><tr><tr><td>0</td><td>/intel/swan/mutilate/localhost.localdomain/percentile/5th</td><td>30.7</td><tr><tr><td rowspan=20>baseline_measurement_for_loadpoint_id_5</td><td>0</td><td>/intel/swan/mutilate/localhost.localdomain/percentile/10th</td><td>45.3</td><tr><tr><td>0</td><td>/intel/swan/mutilate/localhost.localdomain/std</td><td>138.7</td><tr><tr><td>0</td><td>/intel/swan/mutilate/localhost.localdomain/percentile/95th</td><td>161.0</td><tr><tr><td>0</td><td>/intel/swan/mutilate/localhost.localdomain/avg</td><td>92.8</td><tr><tr><td>0</td><td>/intel/swan/mutilate/localhost.localdomain/percentile/99th</td><td>437.2</td><tr><tr><td>0</td><td>/intel/swan/mutilate/localhost.localdomain/percentile/90th</td><td>126.3</td><tr><tr><td>0</td><td>/intel/swan/mutilate/localhost.localdomain/qps</td><td>7432.0</td><tr><tr><td>0</td><td>/intel/swan/mutilate/localhost.localdomain/percentile/99_900th/custom</td><td>2106.574781</td><tr><tr><td>0</td><td>/intel/swan/mutilate/localhost.localdomain/min</td><td>19.2</td><tr><tr><td>0</td><td>/intel/swan/mutilate/localhost.localdomain/percentile/5th</td><td>41.7</td><tr><tr><td rowspan=20>baseline_measurement_for_loadpoint_id_4</td><td>0</td><td>/intel/swan/mutilate/localhost.localdomain/percentile/10th</td><td>45.4</td><tr><tr><td>0</td><td>/intel/swan/mutilate/localhost.localdomain/std</td><td>299.7</td><tr><tr><td>0</td><td>/intel/swan/mutilate/localhost.localdomain/percentile/95th</td><td>130.6</td><tr><tr><td>0</td><td>/intel/swan/mutilate/localhost.localdomain/avg</td><td>91.2</td><tr><tr><td>0</td><td>/intel/swan/mutilate/localhost.localdomain/percentile/99th</td><td>299.5</td><tr><tr><td>0</td><td>/intel/swan/mutilate/localhost.localdomain/percentile/90th</td><td>105.5</td><tr><tr><td>0</td><td>/intel/swan/mutilate/localhost.localdomain/qps</td><td>5981.0</td><tr><tr><td>0</td><td>/intel/swan/mutilate/localhost.localdomain/percentile/99_900th/custom</td><td>6142.093225</td><tr><tr><td>0</td><td>/intel/swan/mutilate/localhost.localdomain/min</td><td>19.2</td><tr><tr><td>0</td><td>/intel/swan/mutilate/localhost.localdomain/percentile/5th</td><td>41.3</td><tr><tr><td rowspan=20>baseline_measurement_for_loadpoint_id_3</td><td>0</td><td>/intel/swan/mutilate/localhost.localdomain/percentile/10th</td><td>51.7</td><tr><tr><td>0</td><td>/intel/swan/mutilate/localhost.localdomain/std</td><td>63.2</td><tr><tr><td>0</td><td>/intel/swan/mutilate/localhost.localdomain/percentile/95th</td><td>136.6</td><tr><tr><td>0</td><td>/intel/swan/mutilate/localhost.localdomain/avg</td><td>85.4</td><tr><tr><td>0</td><td>/intel/swan/mutilate/localhost.localdomain/percentile/99th</td><td>276.2</td><tr><tr><td>0</td><td>/intel/swan/mutilate/localhost.localdomain/percentile/90th</td><td>114.3</td><tr><tr><td>0</td><td>/intel/swan/mutilate/localhost.localdomain/qps</td><td>4416.0</td><tr><tr><td>0</td><td>/intel/swan/mutilate/localhost.localdomain/percentile/99_900th/custom</td><td>983.497157</td><tr><tr><td>0</td><td>/intel/swan/mutilate/localhost.localdomain/min</td><td>19.2</td><tr><tr><td>0</td><td>/intel/swan/mutilate/localhost.localdomain/percentile/5th</td><td>44.5</td><tr><tr><td rowspan=20>baseline_measurement_for_loadpoint_id_2</td><td>0</td><td>/intel/swan/mutilate/localhost.localdomain/percentile/10th</td><td>56.1</td><tr><tr><td>0</td><td>/intel/swan/mutilate/localhost.localdomain/std</td><td>183.4</td><tr><tr><td>0</td><td>/intel/swan/mutilate/localhost.localdomain/percentile/95th</td><td>157.3</td><tr><tr><td>0</td><td>/intel/swan/mutilate/localhost.localdomain/avg</td><td>104.6</td><tr><tr><td>0</td><td>/intel/swan/mutilate/localhost.localdomain/percentile/99th</td><td>514.1</td><tr><tr><td>0</td><td>/intel/swan/mutilate/localhost.localdomain/percentile/90th</td><td>130.9</td><tr><tr><td>0</td><td>/intel/swan/mutilate/localhost.localdomain/qps</td><td>2955.0</td><tr><tr><td>0</td><td>/intel/swan/mutilate/localhost.localdomain/percentile/99_900th/custom</td><td>2738.689579</td><tr><tr><td>0</td><td>/intel/swan/mutilate/localhost.localdomain/min</td><td>21.1</td><tr><tr><td>0</td><td>/intel/swan/mutilate/localhost.localdomain/percentile/5th</td><td>47.2</td><tr><tr><td rowspan=20>baseline_measurement_for_loadpoint_id_1</td><td>0</td><td>/intel/swan/mutilate/localhost.localdomain/percentile/10th</td><td>69.0</td><tr><tr><td>0</td><td>/intel/swan/mutilate/localhost.localdomain/std</td><td>283.0</td><tr><tr><td>0</td><td>/intel/swan/mutilate/localhost.localdomain/percentile/95th</td><td>206.7</td><tr><tr><td>0</td><td>/intel/swan/mutilate/localhost.localdomain/avg</td><td>141.2</td><tr><tr><td>0</td><td>/intel/swan/mutilate/localhost.localdomain/percentile/99th</td><td>1493.3</td><tr><tr><td>0</td><td>/intel/swan/mutilate/localhost.localdomain/percentile/90th</td><td>167.8</td><tr><tr><td>0</td><td>/intel/swan/mutilate/localhost.localdomain/qps</td><td>1398.0</td><tr><tr><td>0</td><td>/intel/swan/mutilate/localhost.localdomain/percentile/99_900th/custom</td><td>4655.261631</td><tr><tr><td>0</td><td>/intel/swan/mutilate/localhost.localdomain/min</td><td>19.2</td><tr><tr><td>0</td><td>/intel/swan/mutilate/localhost.localdomain/percentile/5th</td><td>57.5</td><tr></table>"
      ],
      "text/plain": [
       "<IPython.core.display.HTML object>"
      ]
     },
     "metadata": {},
     "output_type": "display_data"
    }
   ],
   "source": [
    "samples = experiment.show_samples()"
   ]
  },
  {
   "cell_type": "code",
   "execution_count": 5,
   "metadata": {
    "collapsed": true
   },
   "outputs": [],
   "source": [
    "from IPython.core.display import display, HTML"
   ]
  },
  {
   "cell_type": "code",
   "execution_count": 7,
   "metadata": {
    "collapsed": false
   },
   "outputs": [
    {
     "data": {
      "text/html": [
       "<table><tr><th>Scenario / Load</th><th>5%</th><th>10%</th><th>15%</th><th>15%</th><th>20%</th></tr></table>"
      ],
      "text/plain": [
       "<IPython.core.display.HTML object>"
      ]
     },
     "metadata": {},
     "output_type": "display_data"
    }
   ],
   "source": [
    "display(HTML('<table><tr><th>Scenario / Load</th><th>5%</th><th>10%</th><th>15%</th><th>15%</th><th>20%</th></tr></table>'))"
   ]
  },
  {
   "cell_type": "code",
   "execution_count": null,
   "metadata": {
    "collapsed": true
   },
   "outputs": [],
   "source": []
  }
 ],
 "metadata": {
  "kernelspec": {
   "display_name": "Python 2",
   "language": "python",
   "name": "python2"
  },
  "language_info": {
   "codemirror_mode": {
    "name": "ipython",
    "version": 2
   },
   "file_extension": ".py",
   "mimetype": "text/x-python",
   "name": "python",
   "nbconvert_exporter": "python",
   "pygments_lexer": "ipython2",
   "version": "2.7.10"
  }
 },
 "nbformat": 4,
 "nbformat_minor": 0
}
