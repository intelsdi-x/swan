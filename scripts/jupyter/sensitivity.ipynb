{
 "cells": [
  {
   "cell_type": "code",
   "execution_count": 1,
   "metadata": {
    "collapsed": false
   },
   "outputs": [],
   "source": [
    "import swan"
   ]
  },
  {
   "cell_type": "code",
   "execution_count": 2,
   "metadata": {
    "collapsed": false
   },
   "outputs": [],
   "source": [
    "experiments = swan.Experiments(['10.4.3.10'])"
   ]
  },
  {
   "cell_type": "code",
   "execution_count": 3,
   "metadata": {
    "collapsed": false
   },
   "outputs": [],
   "source": [
    "experiment = experiments.experiment('54902a87-37a0-48fc-7c35-0a6a1f00624f')"
   ]
  },
  {
   "cell_type": "code",
   "execution_count": 10,
   "metadata": {
    "collapsed": false
   },
   "outputs": [
    {
     "data": {
      "text/html": [
       "<table style=\"border: 0;\"><tr style=\"border: 0\"><th style=\"border: 0; border-bottom: 1px solid black; border-right: 1px solid black;\">Scenario / Load</th><th style=\"border: 0; border-bottom: 1px solid black;\">5%</th><th style=\"border: 0; border-bottom: 1px solid black;\">15%</th><th style=\"border: 0; border-bottom: 1px solid black;\">25%</th><th style=\"border: 0; border-bottom: 1px solid black;\">35%</th><th style=\"border: 0; border-bottom: 1px solid black;\">45%</th><th style=\"border: 0; border-bottom: 1px solid black;\">55%</th><th style=\"border: 0; border-bottom: 1px solid black;\">65%</th><th style=\"border: 0; border-bottom: 1px solid black;\">75%</th><th style=\"border: 0; border-bottom: 1px solid black;\">85%</th><th style=\"border: 0; border-bottom: 1px solid black;\">95%</th></tr><tr style=\"border: 0;\"><td style=\"border: 0; border-right: 1px solid black;\">Baseline</td><td style=\"border: 0; background-color: #98cc70;\">50.2%</td><td style=\"border: 0; background-color: #98cc70;\">53.5%</td><td style=\"border: 0; background-color: #98cc70;\">55.1%</td><td style=\"border: 0; background-color: #98cc70;\">54.4%</td><td style=\"border: 0; background-color: #98cc70;\">58.2%</td><td style=\"border: 0; background-color: #98cc70;\">60.4%</td><td style=\"border: 0; background-color: #a9341f; color: white;\">269.1%</td><td style=\"border: 0; background-color: #ffeda0;\">104.7%</td><td style=\"border: 0; background-color: #a9341f; color: white;\">272.4%</td><td style=\"border: 0; background-color: #a9341f; color: white;\">407.3%</td><tr style=\"border: 0;\"><td style=\"border: 0; border-right: 1px solid black;\">L1 Data</td><td style=\"border: 0; background-color: #98cc70;\">50.6%</td><td style=\"border: 0; background-color: #98cc70;\">51.9%</td><td style=\"border: 0; background-color: #98cc70;\">54.7%</td><td style=\"border: 0; background-color: #98cc70;\">57.2%</td><td style=\"border: 0; background-color: #98cc70;\">60.0%</td><td style=\"border: 0; background-color: #98cc70;\">63.7%</td><td style=\"border: 0; background-color: #98cc70;\">72.6%</td><td style=\"border: 0; background-color: #ffeda0;\">110.3%</td><td style=\"border: 0; background-color: #a9341f; color: white;\">620.7%</td><td style=\"border: 0; background-color: #a9341f; color: white;\">1485.0%</td><tr style=\"border: 0;\"><td style=\"border: 0; border-right: 1px solid black;\">Stream 100M</td><td style=\"border: 0; background-color: #98cc70;\">49.4%</td><td style=\"border: 0; background-color: #98cc70;\">52.8%</td><td style=\"border: 0; background-color: #98cc70;\">53.6%</td><td style=\"border: 0; background-color: #98cc70;\">57.9%</td><td style=\"border: 0; background-color: #98cc70;\">60.1%</td><td style=\"border: 0; background-color: #98cc70;\">59.8%</td><td style=\"border: 0; background-color: #98cc70;\">62.5%</td><td style=\"border: 0; background-color: #98cc70;\">63.7%</td><td style=\"border: 0; background-color: #98cc70;\">65.7%</td><td style=\"border: 0; background-color: #ffeda0;\">129.6%</td><tr style=\"border: 0;\"><td style=\"border: 0; border-right: 1px solid black;\">L3 Data</td><td style=\"border: 0; background-color: #98cc70;\">49.8%</td><td style=\"border: 0; background-color: #98cc70;\">52.3%</td><td style=\"border: 0; background-color: #98cc70;\">52.4%</td><td style=\"border: 0; background-color: #98cc70;\">57.8%</td><td style=\"border: 0; background-color: #98cc70;\">68.3%</td><td style=\"border: 0; background-color: #98cc70;\">65.9%</td><td style=\"border: 0; background-color: #98cc70;\">72.0%</td><td style=\"border: 0; background-color: #a9341f; color: white;\">263.6%</td><td style=\"border: 0; background-color: #a9341f; color: white;\">277.8%</td><td style=\"border: 0; background-color: #a9341f; color: white;\">476.0%</td><td style=\"border: 0\"></td></tr></table>"
      ],
      "text/plain": [
       "<IPython.core.display.HTML object>"
      ]
     },
     "metadata": {},
     "output_type": "display_data"
    }
   ],
   "source": [
    "experiment.show_sensitivity_profile(500)"
   ]
  },
  {
   "cell_type": "code",
   "execution_count": null,
   "metadata": {
    "collapsed": true
   },
   "outputs": [],
   "source": []
  }
 ],
 "metadata": {
  "kernelspec": {
   "display_name": "Python 2",
   "language": "python",
   "name": "python2"
  },
  "language_info": {
   "codemirror_mode": {
    "name": "ipython",
    "version": 2
   },
   "file_extension": ".py",
   "mimetype": "text/x-python",
   "name": "python",
   "nbconvert_exporter": "python",
   "pygments_lexer": "ipython2",
   "version": "2.7.5"
  }
 },
 "nbformat": 4,
 "nbformat_minor": 0
}
