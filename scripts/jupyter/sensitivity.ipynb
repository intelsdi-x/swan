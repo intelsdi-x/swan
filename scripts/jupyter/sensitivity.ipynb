{
 "cells": [
  {
   "cell_type": "code",
   "execution_count": 1,
   "metadata": {
    "collapsed": false
   },
   "outputs": [],
   "source": [
    "import swan"
   ]
  },
  {
   "cell_type": "code",
   "execution_count": 2,
   "metadata": {
    "collapsed": false
   },
   "outputs": [],
   "source": [
    "experiments = swan.Experiments(['10.141.141.10'])"
   ]
  },
  {
   "cell_type": "code",
   "execution_count": 3,
   "metadata": {
    "collapsed": false
   },
   "outputs": [],
   "source": [
    "experiment = experiments.experiment('60138cad-f5f2-417b-4336-38eb589651c5')"
   ]
  },
  {
   "cell_type": "code",
   "execution_count": 4,
   "metadata": {
    "collapsed": false
   },
   "outputs": [
    {
     "data": {
      "text/html": [
       "<table><tr><th>Scenario / Load</th><th>5%</th><th>15%</th><th>25%</th><th>35%</th><th>45%</th><th>55%</th><th>65%</th><th>75%</th><th>85%</th><th>95%</th></tr><tr><td>Baseline</td><td style=\"background-color: red;\">298.7%</td><td style=\"background-color: orange;\">102.8%</td><td style=\"background-color: green;\">55.2%</td><td style=\"background-color: green;\">59.9%</td><td style=\"background-color: green;\">87.4%</td><td style=\"background-color: green;\">55.6%</td><td style=\"background-color: green;\">78.7%</td><td style=\"background-color: green;\">45.4%</td><td style=\"background-color: green;\">40.6%</td><td style=\"background-color: green;\">29.9%</td></tr></table>"
      ],
      "text/plain": [
       "<IPython.core.display.HTML object>"
      ]
     },
     "metadata": {},
     "output_type": "display_data"
    }
   ],
   "source": [
    "experiment.show_sensitivity_profile(500)"
   ]
  },
  {
   "cell_type": "code",
   "execution_count": null,
   "metadata": {
    "collapsed": true
   },
   "outputs": [],
   "source": []
  }
 ],
 "metadata": {
  "kernelspec": {
   "display_name": "Python 2",
   "language": "python",
   "name": "python2"
  },
  "language_info": {
   "codemirror_mode": {
    "name": "ipython",
    "version": 2
   },
   "file_extension": ".py",
   "mimetype": "text/x-python",
   "name": "python",
   "nbconvert_exporter": "python",
   "pygments_lexer": "ipython2",
   "version": "2.7.10"
  }
 },
 "nbformat": 4,
 "nbformat_minor": 0
}
