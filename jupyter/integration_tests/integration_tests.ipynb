{
 "cells": [
  {
   "cell_type": "code",
   "execution_count": null,
   "metadata": {
    "collapsed": true
   },
   "outputs": [],
   "source": [
    "import sys\n",
    "import unittest\n",
    "\n",
    "import numpy as np\n",
    "\n",
    "from pandas.util.testing import assert_frame_equal"
   ]
  },
  {
   "cell_type": "code",
   "execution_count": null,
   "metadata": {
    "collapsed": false
   },
   "outputs": [],
   "source": [
    "from jupyter.experiment import Experiment\n",
    "from jupyter.profile import Profile"
   ]
  },
  {
   "cell_type": "code",
   "execution_count": null,
   "metadata": {
    "collapsed": false
   },
   "outputs": [],
   "source": [
    "EXPERIMENT_ID_SWAN = open('experiment_id.stdout', 'r').readline().strip()"
   ]
  },
  {
   "cell_type": "code",
   "execution_count": null,
   "metadata": {
    "collapsed": true
   },
   "outputs": [],
   "source": [
    "IP = '127.0.0.1'\n",
    "PORT = 9042"
   ]
  },
  {
   "cell_type": "code",
   "execution_count": null,
   "metadata": {
    "collapsed": false
   },
   "outputs": [],
   "source": [
    "exp1 = Experiment(cassandra_cluster=[IP], experiment_id=EXPERIMENT_ID_SWAN, port=PORT, name=\"experiment 1\",\n",
    "                  dir_csv='../test_data')"
   ]
  },
  {
   "cell_type": "code",
   "execution_count": null,
   "metadata": {
    "collapsed": false,
    "scrolled": false
   },
   "outputs": [],
   "source": [
    "p1 = Profile(exp1, slo=500)\n",
    "p1.sensitivity_table(show_throughput=True)"
   ]
  },
  {
   "cell_type": "code",
   "execution_count": null,
   "metadata": {
    "collapsed": false
   },
   "outputs": [],
   "source": [
    "class TestExperiment(unittest.TestCase):\n",
    "    def test_name_and_cached(self):\n",
    "        self.assertEqual(exp1.name, 'experiment 1')\n",
    "        self.assertEqual(exp1.cached_experiment, '../test_data/%s.csv' % EXPERIMENT_ID_SWAN)\n",
    "\n",
    "    def test_cassandra_state_and_data_from_it(self):\n",
    "        self.assertIsNotNone(exp1.CASSANDRA_SESSION, None)\n",
    "        self.assertIsNotNone(exp1.get_frame(), None)"
   ]
  },
  {
   "cell_type": "code",
   "execution_count": null,
   "metadata": {
    "collapsed": true
   },
   "outputs": [],
   "source": [
    "class TestProfile(unittest.TestCase):\n",
    "    def test_exp_and_df_are_still_the_same(self):\n",
    "        self.assertEqual(id(exp1), id(p1.exp))\n",
    "        self.assertEqual(id(exp1.get_frame()), id(p1.data_frame))\n",
    "\n",
    "    def test_sensitivity_table_and_charts_params(self):\n",
    "        self.assertEqual(p1.slo, 500)\n",
    "        self.assertEqual(p1.categories, ['Baseline', 'Caffe'])\n",
    "        self.assertEqual(p1.latency_qps_aggrs.keys(), ['x', 'slo', 'Caffe', 'Baseline'])"
   ]
  },
  {
   "cell_type": "code",
   "execution_count": null,
   "metadata": {
    "collapsed": false
   },
   "outputs": [],
   "source": [
    "class TestDataFrame(unittest.TestCase):\n",
    "    def test_dimensions(self):\n",
    "        self.assertTrue(exp1.get_frame().equals(p1.data_frame))\n",
    "        self.assertEqual(exp1.frame['ns'].count(), 180)\n",
    "\n",
    "    def test_some_numpy_data_arrays(self):\n",
    "        self.assertIsNone(np.testing.assert_array_equal(p1.frame.columns.get_values(), \n",
    "                                                      np.array([10., 20., 30., 40., 50., 60., 70., 80., 90., 100.])))\n",
    "        self.assertIsNone(np.testing.assert_array_equal(p1.frame.index.values, np.array(['Baseline', 'Caffe'])))"
   ]
  },
  {
   "cell_type": "code",
   "execution_count": null,
   "metadata": {
    "collapsed": false
   },
   "outputs": [],
   "source": [
    "unittest.main(argv=['first-arg-is-ignored'], exit=False)"
   ]
  }
 ],
 "metadata": {
  "kernelspec": {
   "display_name": "Python 2",
   "language": "python",
   "name": "python2"
  },
  "language_info": {
   "codemirror_mode": {
    "name": "ipython",
    "version": 2
   },
   "file_extension": ".py",
   "mimetype": "text/x-python",
   "name": "python",
   "nbconvert_exporter": "python",
   "pygments_lexer": "ipython2",
   "version": "2.7.5"
  }
 },
 "nbformat": 4,
 "nbformat_minor": 0
}
