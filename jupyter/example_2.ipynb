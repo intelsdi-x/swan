{
 "cells": [
  {
   "cell_type": "markdown",
   "metadata": {},
   "source": [
    "### Before start the experiment, please fill `IP` and `PORT` of cassandra cluster, `ssl_options` for optional encrypted access (will work if `ENCRYPTED_CONNECTION` is set), and `EXPERIMENT_ID_SWAN_*`"
   ]
  },
  {
   "cell_type": "code",
   "execution_count": 44,
   "metadata": {
    "collapsed": true
   },
   "outputs": [],
   "source": [
    "IP = '127.0.0.1'"
   ]
  },
  {
   "cell_type": "code",
   "execution_count": 33,
   "metadata": {
    "collapsed": true
   },
   "outputs": [],
   "source": [
    "PORT = 9042"
   ]
  },
  {
   "cell_type": "code",
   "execution_count": 39,
   "metadata": {
    "collapsed": true
   },
   "outputs": [],
   "source": [
    "EXPERIMENT_ID_SWAN_1 = \"cf0e7a39-05df-4e1a-5c2e-03548be9a9b4\"\n",
    "EXPERIMENT_ID_SWAN_2 = \"324d4339-5ee7-4873-7614-7cac80252d7c\""
   ]
  },
  {
   "cell_type": "code",
   "execution_count": null,
   "metadata": {
    "collapsed": true
   },
   "outputs": [],
   "source": [
    "ENCRYPTED_CONNECTION = False\n",
    "ssl_options = {}\n",
    "if ENCRYPTED_CONNECTION:\n",
    "    ssl_options['username'] = 'username'\n",
    "    ssl_options['password'] = 'password'\n",
    "    ssl_options['ca_certs'] = 'path to a ca_certs file'\n",
    "    ssl_options['keyfile'] = 'path to a keyfile file'\n",
    "    ssl_options['certfile'] = 'path to a certfile file'"
   ]
  },
  {
   "cell_type": "code",
   "execution_count": null,
   "metadata": {
    "collapsed": true
   },
   "outputs": [],
   "source": [
    "# get work done for aggressor by specify ns prefix in cassandra\n",
    "AGGRESSOR_THROUGHPUT_NAMESPACES_PREFIXES = (\n",
    "    '/intel/swan/caffe/inference',  # Caffe\n",
    ")"
   ]
  },
  {
   "cell_type": "code",
   "execution_count": 2,
   "metadata": {
    "collapsed": false
   },
   "outputs": [],
   "source": [
    "# The experiment module contains the entry point for swan experiment data.\n",
    "from experiment import Experiment"
   ]
  },
  {
   "cell_type": "code",
   "execution_count": 1,
   "metadata": {
    "collapsed": false
   },
   "outputs": [],
   "source": [
    "# The profile module produce the sensitivity profile as found in the\n",
    "# Heracles paper (http://csl.stanford.edu/~christos/publications/2015.heracles.isca.pdf)\n",
    "from profile import Profile, compare_experiments"
   ]
  },
  {
   "cell_type": "code",
   "execution_count": 42,
   "metadata": {
    "collapsed": false
   },
   "outputs": [],
   "source": [
    "# An experiment can now be loaded from the database by its ID.\n",
    "exp1 = Experiment(cassandra_cluster=[IP], \n",
    "                  experiment_id=EXPERIMENT_ID_SWAN_1, port=PORT, name=\"experiment 1\", ssl_options=ssl_options, \n",
    "                  aggressor_throughput_namespaces_prefixes=AGGRESSOR_THROUGHPUT_NAMESPACES_PREFIXES)\n",
    "\n",
    "exp2 = Experiment(cassandra_cluster=[IP], \n",
    "                  experiment_id=EXPERIMENT_ID_SWAN_2, port=PORT, name=\"experiment 2\", ssl_options=ssl_options, \n",
    "                  aggressor_throughput_namespaces_prefixes=AGGRESSOR_THROUGHPUT_NAMESPACES_PREFIXES)"
   ]
  },
  {
   "cell_type": "code",
   "execution_count": 43,
   "metadata": {
    "collapsed": false
   },
   "outputs": [
    {
     "data": {
      "text/html": [
       "<table border=\"1\" class=\"dataframe\">\n",
       "  <thead>\n",
       "    <tr style=\"text-align: right;\">\n",
       "      <th>ns</th>\n",
       "      <th>host</th>\n",
       "      <th>time</th>\n",
       "      <th>value</th>\n",
       "      <th>plugin_running_on</th>\n",
       "      <th>swan_loadpoint_qps</th>\n",
       "      <th>achieved_qps_percent</th>\n",
       "      <th>swan_experiment</th>\n",
       "      <th>swan_aggressor_name</th>\n",
       "      <th>swan_phase</th>\n",
       "      <th>swan_repetition</th>\n",
       "    </tr>\n",
       "  </thead>\n",
       "  <tbody>\n",
       "    <tr>\n",
       "      <td>/intel/swan/specjbb/localhost.localdomain/perc...</td>\n",
       "      <td>localhost.localdomain</td>\n",
       "      <td>2016-11-10 00:02:46.463</td>\n",
       "      <td>3000000.0</td>\n",
       "      <td>localhost.localdomain</td>\n",
       "      <td>250</td>\n",
       "      <td>98.80%</td>\n",
       "      <td>cf0e7a39-05df-4e1a-5c2e-03548be9a9b4</td>\n",
       "      <td>Caffe</td>\n",
       "      <td>aggressor_nr_4_measurement_for_loadpoint_id_2</td>\n",
       "      <td>0</td>\n",
       "    </tr>\n",
       "    <tr>\n",
       "      <td>/intel/swan/specjbb/localhost.localdomain/perc...</td>\n",
       "      <td>localhost.localdomain</td>\n",
       "      <td>2016-11-09 23:28:43.109</td>\n",
       "      <td>2800000.0</td>\n",
       "      <td>localhost.localdomain</td>\n",
       "      <td>125</td>\n",
       "      <td>105.60%</td>\n",
       "      <td>cf0e7a39-05df-4e1a-5c2e-03548be9a9b4</td>\n",
       "      <td>memBW</td>\n",
       "      <td>aggressor_nr_3_measurement_for_loadpoint_id_1</td>\n",
       "      <td>0</td>\n",
       "    </tr>\n",
       "    <tr>\n",
       "      <td>/intel/swan/specjbb/localhost.localdomain/perc...</td>\n",
       "      <td>localhost.localdomain</td>\n",
       "      <td>2016-11-09 23:43:31.138</td>\n",
       "      <td>103700.0</td>\n",
       "      <td>localhost.localdomain</td>\n",
       "      <td>375</td>\n",
       "      <td>100.00%</td>\n",
       "      <td>cf0e7a39-05df-4e1a-5c2e-03548be9a9b4</td>\n",
       "      <td>memBW</td>\n",
       "      <td>aggressor_nr_3_measurement_for_loadpoint_id_3</td>\n",
       "      <td>0</td>\n",
       "    </tr>\n",
       "    <tr>\n",
       "      <td>/intel/swan/specjbb/localhost.localdomain/perc...</td>\n",
       "      <td>localhost.localdomain</td>\n",
       "      <td>2016-11-09 22:56:23.117</td>\n",
       "      <td>109000.0</td>\n",
       "      <td>localhost.localdomain</td>\n",
       "      <td>500</td>\n",
       "      <td>99.60%</td>\n",
       "      <td>cf0e7a39-05df-4e1a-5c2e-03548be9a9b4</td>\n",
       "      <td>L1 Instruction</td>\n",
       "      <td>aggressor_nr_1_measurement_for_loadpoint_id_4</td>\n",
       "      <td>0</td>\n",
       "    </tr>\n",
       "    <tr>\n",
       "      <td>/intel/swan/specjbb/localhost.localdomain/perc...</td>\n",
       "      <td>localhost.localdomain</td>\n",
       "      <td>2016-11-09 23:24:28.542</td>\n",
       "      <td>2704000.0</td>\n",
       "      <td>localhost.localdomain</td>\n",
       "      <td>500</td>\n",
       "      <td>100.20%</td>\n",
       "      <td>cf0e7a39-05df-4e1a-5c2e-03548be9a9b4</td>\n",
       "      <td>Stream 100M</td>\n",
       "      <td>aggressor_nr_2_measurement_for_loadpoint_id_4</td>\n",
       "      <td>0</td>\n",
       "    </tr>\n",
       "    <tr>\n",
       "      <td>/intel/swan/specjbb/localhost.localdomain/perc...</td>\n",
       "      <td>localhost.localdomain</td>\n",
       "      <td>2016-11-09 23:35:18.976</td>\n",
       "      <td>3200000.0</td>\n",
       "      <td>localhost.localdomain</td>\n",
       "      <td>250</td>\n",
       "      <td>96.00%</td>\n",
       "      <td>cf0e7a39-05df-4e1a-5c2e-03548be9a9b4</td>\n",
       "      <td>memBW</td>\n",
       "      <td>aggressor_nr_3_measurement_for_loadpoint_id_2</td>\n",
       "      <td>0</td>\n",
       "    </tr>\n",
       "    <tr>\n",
       "      <td>/intel/swan/specjbb/localhost.localdomain/perc...</td>\n",
       "      <td>localhost.localdomain</td>\n",
       "      <td>2016-11-09 23:52:21.198</td>\n",
       "      <td>114000.0</td>\n",
       "      <td>localhost.localdomain</td>\n",
       "      <td>500</td>\n",
       "      <td>99.40%</td>\n",
       "      <td>cf0e7a39-05df-4e1a-5c2e-03548be9a9b4</td>\n",
       "      <td>memBW</td>\n",
       "      <td>aggressor_nr_3_measurement_for_loadpoint_id_4</td>\n",
       "      <td>0</td>\n",
       "    </tr>\n",
       "    <tr>\n",
       "      <td>/intel/swan/specjbb/localhost.localdomain/perc...</td>\n",
       "      <td>localhost.localdomain</td>\n",
       "      <td>2016-11-10 00:17:49.729</td>\n",
       "      <td>2400000.0</td>\n",
       "      <td>localhost.localdomain</td>\n",
       "      <td>500</td>\n",
       "      <td>100.00%</td>\n",
       "      <td>cf0e7a39-05df-4e1a-5c2e-03548be9a9b4</td>\n",
       "      <td>Caffe</td>\n",
       "      <td>aggressor_nr_4_measurement_for_loadpoint_id_4</td>\n",
       "      <td>0</td>\n",
       "    </tr>\n",
       "    <tr>\n",
       "      <td>/intel/swan/specjbb/localhost.localdomain/perc...</td>\n",
       "      <td>localhost.localdomain</td>\n",
       "      <td>2016-11-09 22:22:07.370</td>\n",
       "      <td>99000.0</td>\n",
       "      <td>localhost.localdomain</td>\n",
       "      <td>375</td>\n",
       "      <td>100.00%</td>\n",
       "      <td>cf0e7a39-05df-4e1a-5c2e-03548be9a9b4</td>\n",
       "      <td>L1 Data</td>\n",
       "      <td>aggressor_nr_0_measurement_for_loadpoint_id_3</td>\n",
       "      <td>0</td>\n",
       "    </tr>\n",
       "    <tr>\n",
       "      <td>/intel/swan/specjbb/localhost.localdomain/perc...</td>\n",
       "      <td>localhost.localdomain</td>\n",
       "      <td>2016-11-09 22:47:42.461</td>\n",
       "      <td>94000.0</td>\n",
       "      <td>localhost.localdomain</td>\n",
       "      <td>375</td>\n",
       "      <td>100.27%</td>\n",
       "      <td>cf0e7a39-05df-4e1a-5c2e-03548be9a9b4</td>\n",
       "      <td>L1 Instruction</td>\n",
       "      <td>aggressor_nr_1_measurement_for_loadpoint_id_3</td>\n",
       "      <td>0</td>\n",
       "    </tr>\n",
       "    <tr>\n",
       "      <td>/intel/swan/specjbb/localhost.localdomain/perc...</td>\n",
       "      <td>localhost.localdomain</td>\n",
       "      <td>2016-11-09 22:30:05.005</td>\n",
       "      <td>99000.0</td>\n",
       "      <td>localhost.localdomain</td>\n",
       "      <td>500</td>\n",
       "      <td>100.20%</td>\n",
       "      <td>cf0e7a39-05df-4e1a-5c2e-03548be9a9b4</td>\n",
       "      <td>L1 Data</td>\n",
       "      <td>aggressor_nr_0_measurement_for_loadpoint_id_4</td>\n",
       "      <td>0</td>\n",
       "    </tr>\n",
       "    <tr>\n",
       "      <td>/intel/swan/specjbb/localhost.localdomain/perc...</td>\n",
       "      <td>localhost.localdomain</td>\n",
       "      <td>2016-11-09 23:01:00.145</td>\n",
       "      <td>2500000.0</td>\n",
       "      <td>localhost.localdomain</td>\n",
       "      <td>125</td>\n",
       "      <td>97.60%</td>\n",
       "      <td>cf0e7a39-05df-4e1a-5c2e-03548be9a9b4</td>\n",
       "      <td>Stream 100M</td>\n",
       "      <td>aggressor_nr_2_measurement_for_loadpoint_id_1</td>\n",
       "      <td>0</td>\n",
       "    </tr>\n",
       "    <tr>\n",
       "      <td>/intel/swan/specjbb/localhost.localdomain/perc...</td>\n",
       "      <td>localhost.localdomain</td>\n",
       "      <td>2016-11-09 22:02:46.026</td>\n",
       "      <td>93000.0</td>\n",
       "      <td>localhost.localdomain</td>\n",
       "      <td>500</td>\n",
       "      <td>99.80%</td>\n",
       "      <td>cf0e7a39-05df-4e1a-5c2e-03548be9a9b4</td>\n",
       "      <td>None</td>\n",
       "      <td>baseline_measurement_for_loadpoint_id_4</td>\n",
       "      <td>0</td>\n",
       "    </tr>\n",
       "    <tr>\n",
       "      <td>/intel/swan/specjbb/localhost.localdomain/perc...</td>\n",
       "      <td>localhost.localdomain</td>\n",
       "      <td>2016-11-09 22:14:25.905</td>\n",
       "      <td>66090.0</td>\n",
       "      <td>localhost.localdomain</td>\n",
       "      <td>250</td>\n",
       "      <td>98.00%</td>\n",
       "      <td>cf0e7a39-05df-4e1a-5c2e-03548be9a9b4</td>\n",
       "      <td>L1 Data</td>\n",
       "      <td>aggressor_nr_0_measurement_for_loadpoint_id_2</td>\n",
       "      <td>0</td>\n",
       "    </tr>\n",
       "    <tr>\n",
       "      <td>/intel/swan/specjbb/localhost.localdomain/perc...</td>\n",
       "      <td>localhost.localdomain</td>\n",
       "      <td>2016-11-09 21:47:03.984</td>\n",
       "      <td>3800000.0</td>\n",
       "      <td>localhost.localdomain</td>\n",
       "      <td>250</td>\n",
       "      <td>107.60%</td>\n",
       "      <td>cf0e7a39-05df-4e1a-5c2e-03548be9a9b4</td>\n",
       "      <td>None</td>\n",
       "      <td>baseline_measurement_for_loadpoint_id_2</td>\n",
       "      <td>0</td>\n",
       "    </tr>\n",
       "    <tr>\n",
       "      <td>/intel/swan/specjbb/localhost.localdomain/perc...</td>\n",
       "      <td>localhost.localdomain</td>\n",
       "      <td>2016-11-09 22:40:13.659</td>\n",
       "      <td>5000000.0</td>\n",
       "      <td>localhost.localdomain</td>\n",
       "      <td>250</td>\n",
       "      <td>94.40%</td>\n",
       "      <td>cf0e7a39-05df-4e1a-5c2e-03548be9a9b4</td>\n",
       "      <td>L1 Instruction</td>\n",
       "      <td>aggressor_nr_1_measurement_for_loadpoint_id_2</td>\n",
       "      <td>0</td>\n",
       "    </tr>\n",
       "    <tr>\n",
       "      <td>/intel/swan/specjbb/localhost.localdomain/perc...</td>\n",
       "      <td>localhost.localdomain</td>\n",
       "      <td>2016-11-09 21:54:41.728</td>\n",
       "      <td>2500000.0</td>\n",
       "      <td>localhost.localdomain</td>\n",
       "      <td>375</td>\n",
       "      <td>100.27%</td>\n",
       "      <td>cf0e7a39-05df-4e1a-5c2e-03548be9a9b4</td>\n",
       "      <td>None</td>\n",
       "      <td>baseline_measurement_for_loadpoint_id_3</td>\n",
       "      <td>0</td>\n",
       "    </tr>\n",
       "    <tr>\n",
       "      <td>/intel/swan/specjbb/localhost.localdomain/perc...</td>\n",
       "      <td>localhost.localdomain</td>\n",
       "      <td>2016-11-09 21:41:13.773</td>\n",
       "      <td>2600000.0</td>\n",
       "      <td>localhost.localdomain</td>\n",
       "      <td>125</td>\n",
       "      <td>96.80%</td>\n",
       "      <td>cf0e7a39-05df-4e1a-5c2e-03548be9a9b4</td>\n",
       "      <td>None</td>\n",
       "      <td>baseline_measurement_for_loadpoint_id_1</td>\n",
       "      <td>0</td>\n",
       "    </tr>\n",
       "    <tr>\n",
       "      <td>/intel/swan/specjbb/localhost.localdomain/perc...</td>\n",
       "      <td>localhost.localdomain</td>\n",
       "      <td>2016-11-10 00:09:39.942</td>\n",
       "      <td>2400000.0</td>\n",
       "      <td>localhost.localdomain</td>\n",
       "      <td>375</td>\n",
       "      <td>100.27%</td>\n",
       "      <td>cf0e7a39-05df-4e1a-5c2e-03548be9a9b4</td>\n",
       "      <td>Caffe</td>\n",
       "      <td>aggressor_nr_4_measurement_for_loadpoint_id_3</td>\n",
       "      <td>0</td>\n",
       "    </tr>\n",
       "    <tr>\n",
       "      <td>/intel/swan/specjbb/localhost.localdomain/perc...</td>\n",
       "      <td>localhost.localdomain</td>\n",
       "      <td>2016-11-09 23:56:37.025</td>\n",
       "      <td>2400000.0</td>\n",
       "      <td>localhost.localdomain</td>\n",
       "      <td>125</td>\n",
       "      <td>90.40%</td>\n",
       "      <td>cf0e7a39-05df-4e1a-5c2e-03548be9a9b4</td>\n",
       "      <td>Caffe</td>\n",
       "      <td>aggressor_nr_4_measurement_for_loadpoint_id_1</td>\n",
       "      <td>0</td>\n",
       "    </tr>\n",
       "    <tr>\n",
       "      <td>/intel/swan/specjbb/localhost.localdomain/perc...</td>\n",
       "      <td>localhost.localdomain</td>\n",
       "      <td>2016-11-09 23:07:44.186</td>\n",
       "      <td>74000.0</td>\n",
       "      <td>localhost.localdomain</td>\n",
       "      <td>250</td>\n",
       "      <td>99.60%</td>\n",
       "      <td>cf0e7a39-05df-4e1a-5c2e-03548be9a9b4</td>\n",
       "      <td>Stream 100M</td>\n",
       "      <td>aggressor_nr_2_measurement_for_loadpoint_id_2</td>\n",
       "      <td>0</td>\n",
       "    </tr>\n",
       "    <tr>\n",
       "      <td>/intel/swan/specjbb/localhost.localdomain/perc...</td>\n",
       "      <td>localhost.localdomain</td>\n",
       "      <td>2016-11-09 22:07:34.161</td>\n",
       "      <td>2500000.0</td>\n",
       "      <td>localhost.localdomain</td>\n",
       "      <td>125</td>\n",
       "      <td>91.20%</td>\n",
       "      <td>cf0e7a39-05df-4e1a-5c2e-03548be9a9b4</td>\n",
       "      <td>L1 Data</td>\n",
       "      <td>aggressor_nr_0_measurement_for_loadpoint_id_1</td>\n",
       "      <td>0</td>\n",
       "    </tr>\n",
       "    <tr>\n",
       "      <td>/intel/swan/specjbb/localhost.localdomain/perc...</td>\n",
       "      <td>localhost.localdomain</td>\n",
       "      <td>2016-11-09 22:34:30.662</td>\n",
       "      <td>2500000.0</td>\n",
       "      <td>localhost.localdomain</td>\n",
       "      <td>125</td>\n",
       "      <td>98.40%</td>\n",
       "      <td>cf0e7a39-05df-4e1a-5c2e-03548be9a9b4</td>\n",
       "      <td>L1 Instruction</td>\n",
       "      <td>aggressor_nr_1_measurement_for_loadpoint_id_1</td>\n",
       "      <td>0</td>\n",
       "    </tr>\n",
       "  </tbody>\n",
       "</table>"
      ],
      "text/plain": [
       "<experiment.Experiment at 0x7fa1a867e450>"
      ]
     },
     "execution_count": 43,
     "metadata": {},
     "output_type": "execute_result"
    }
   ],
   "source": [
    "exp1"
   ]
  },
  {
   "cell_type": "code",
   "execution_count": 7,
   "metadata": {
    "collapsed": false,
    "scrolled": false
   },
   "outputs": [
    {
     "data": {
      "text/html": [
       "<table style=\"border: 0\"><tr style=\"border: 0\"><th style=\"border: 0; border-bottom: 1px solid black; border-right: 1px solid black;\">Scenario / Load</th><th style=\"border: 0; border-bottom: 1px solid black;\">10.0%</th><th style=\"border: 0; border-bottom: 1px solid black;\">20.0%</th><th style=\"border: 0; border-bottom: 1px solid black;\">30.0%</th><th style=\"border: 0; border-bottom: 1px solid black;\">40.0%</th><th style=\"border: 0; border-bottom: 1px solid black;\">50.0%</th><th style=\"border: 0; border-bottom: 1px solid black;\">60.0%</th><th style=\"border: 0; border-bottom: 1px solid black;\">70.0%</th><th style=\"border: 0; border-bottom: 1px solid black;\">80.0%</th><th style=\"border: 0; border-bottom: 1px solid black;\">90.0%</th><th style=\"border: 0; border-bottom: 1px solid black;\">100.0%</th></tr><tr style=\"border: 0\"><td style=\"border: 0; border-right: 1px solid black;\">Baseline</td><td style=\"border: 0; background-color: #98cc70;\">48.2%</td><td style=\"border: 0; background-color: #98cc70;\">50.4%</td><td style=\"border: 0; background-color: #98cc70;\">53.2%</td><td style=\"border: 0; background-color: #98cc70;\">55.9%</td><td style=\"border: 0; background-color: #98cc70;\">58.9%</td><td style=\"border: 0; background-color: #98cc70;\">62.7%</td><td style=\"border: 0; background-color: #98cc70;\">67.5%</td><td style=\"border: 0; background-color: #98cc70;\">72.9%</td><td style=\"border: 0; background-color: #98cc70;\">78.1%</td><td style=\"border: 0; background-color: #98cc70;\">89.3%</td></tr><tr style=\"border: 0\"><td style=\"border: 0; border-right: 1px solid black;\">Caffe</td><td style=\"border: 0; background-color: #98cc70;\">50.8%</td><td style=\"border: 0; background-color: #98cc70;\">54.7%</td><td style=\"border: 0; background-color: #98cc70;\">58.1%</td><td style=\"border: 0; background-color: #98cc70;\">63.7%</td><td style=\"border: 0; background-color: #98cc70;\">73.1%</td><td style=\"border: 0; background-color: #98cc70;\">90.7%</td><td style=\"border: 0; background-color: #ffeda0;\">127.9%</td><td style=\"border: 0; background-color: #a9341f; color: white;\">232.9%</td><td style=\"border: 0; background-color: #a9341f; color: white;\">568.2%</td><td style=\"border: 0; background-color: #a9341f; color: white;\">872.1%</td></tr><tr style=\"border: 0\"><td style=\"border: 0; border-right: 1px solid black;\">L1 Data</td><td style=\"border: 0; background-color: #98cc70;\">50.3%</td><td style=\"border: 0; background-color: #98cc70;\">55.0%</td><td style=\"border: 0; background-color: #98cc70;\">60.7%</td><td style=\"border: 0; background-color: #98cc70;\">70.5%</td><td style=\"border: 0; background-color: #98cc70;\">83.5%</td><td style=\"border: 0; background-color: #ffeda0;\">105.7%</td><td style=\"border: 0; background-color: #a9341f; color: white;\">151.1%</td><td style=\"border: 0; background-color: #a9341f; color: white;\">245.5%</td><td style=\"border: 0; background-color: #a9341f; color: white;\">522.1%</td><td style=\"border: 0; background-color: #a9341f; color: white;\">855.5%</td></tr><tr style=\"border: 0\"><td style=\"border: 0; border-right: 1px solid black;\">L1 Instruction</td><td style=\"border: 0; background-color: #98cc70;\">50.8%</td><td style=\"border: 0; background-color: #98cc70;\">55.0%</td><td style=\"border: 0; background-color: #98cc70;\">60.8%</td><td style=\"border: 0; background-color: #98cc70;\">0.0%</td><td style=\"border: 0; background-color: #a9341f; color: white;\">6171.1%</td><td style=\"border: 0; background-color: #98cc70;\">99.2%</td><td style=\"border: 0; background-color: #ffeda0;\">136.0%</td><td style=\"border: 0; background-color: #a9341f; color: white;\">7128.7%</td><td style=\"border: 0; background-color: #a9341f; color: white;\">6943.4%</td><td style=\"border: 0; background-color: #a9341f; color: white;\">9711.7%</td></tr><tr style=\"border: 0\"><td style=\"border: 0; border-right: 1px solid black;\">L3 Data</td><td style=\"border: 0; background-color: #98cc70;\">50.7%</td><td style=\"border: 0; background-color: #98cc70;\">54.1%</td><td style=\"border: 0; background-color: #98cc70;\">58.2%</td><td style=\"border: 0; background-color: #98cc70;\">66.2%</td><td style=\"border: 0; background-color: #98cc70;\">71.1%</td><td style=\"border: 0; background-color: #98cc70;\">82.5%</td><td style=\"border: 0; background-color: #98cc70;\">94.6%</td><td style=\"border: 0; background-color: #ffeda0;\">133.4%</td><td style=\"border: 0; background-color: #a9341f; color: white;\">171.6%</td><td style=\"border: 0; background-color: #a9341f; color: white;\">275.3%</td></tr><tr style=\"border: 0\"><td style=\"border: 0; border-right: 1px solid black;\">Stream 100M</td><td style=\"border: 0; background-color: #98cc70;\">53.4%</td><td style=\"border: 0; background-color: #98cc70;\">60.6%</td><td style=\"border: 0; background-color: #98cc70;\">80.1%</td><td style=\"border: 0; background-color: #ffeda0;\">136.9%</td><td style=\"border: 0; background-color: #a9341f; color: white;\">487.4%</td><td style=\"border: 0; background-color: #a9341f; color: white;\">1228.5%</td><td style=\"border: 0; background-color: #a9341f; color: white;\">2441.0%</td><td style=\"border: 0; background-color: #a9341f; color: white;\">3047.7%</td><td style=\"border: 0; background-color: #a9341f; color: white;\">3931.6%</td><td style=\"border: 0; background-color: #a9341f; color: white;\">4081.4%</td></tr><tr style=\"border: 0\"><td style=\"border: 0; border-right: 1px solid black;\">memBW</td><td style=\"border: 0; background-color: #98cc70;\">54.9%</td><td style=\"border: 0; background-color: #98cc70;\">66.0%</td><td style=\"border: 0; background-color: #98cc70;\">85.3%</td><td style=\"border: 0; background-color: #ffeda0;\">128.6%</td><td style=\"border: 0; background-color: #a9341f; color: white;\">208.8%</td><td style=\"border: 0; background-color: #a9341f; color: white;\">723.0%</td><td style=\"border: 0; background-color: #a9341f; color: white;\">1283.6%</td><td style=\"border: 0; background-color: #a9341f; color: white;\">2239.2%</td><td style=\"border: 0; background-color: #a9341f; color: white;\">3072.0%</td><td style=\"border: 0; background-color: #a9341f; color: white;\">3674.6%</td></tr></table>"
      ],
      "text/plain": [
       "<IPython.core.display.HTML object>"
      ]
     },
     "execution_count": 7,
     "metadata": {},
     "output_type": "execute_result"
    }
   ],
   "source": [
    "p1 = Profile(exp1, slo=500)\n",
    "p1.sensitivity_table()"
   ]
  },
  {
   "cell_type": "code",
   "execution_count": 8,
   "metadata": {
    "collapsed": false
   },
   "outputs": [
    {
     "data": {
      "text/html": [
       "<table style=\"border: 0\"><tr style=\"border: 0\"><th style=\"border: 0; border-bottom: 1px solid black; border-right: 1px solid black;\">Scenario / Load</th><th style=\"border: 0; border-bottom: 1px solid black;\">10.0%</th><th style=\"border: 0; border-bottom: 1px solid black;\">20.0%</th><th style=\"border: 0; border-bottom: 1px solid black;\">30.0%</th><th style=\"border: 0; border-bottom: 1px solid black;\">40.0%</th><th style=\"border: 0; border-bottom: 1px solid black;\">50.0%</th><th style=\"border: 0; border-bottom: 1px solid black;\">60.0%</th><th style=\"border: 0; border-bottom: 1px solid black;\">70.0%</th><th style=\"border: 0; border-bottom: 1px solid black;\">80.0%</th><th style=\"border: 0; border-bottom: 1px solid black;\">90.0%</th><th style=\"border: 0; border-bottom: 1px solid black;\">100.0%</th></tr><tr style=\"border: 0\"><td style=\"border: 0; border-right: 1px solid black;\">Baseline</td><td style=\"border: 0; background-color: #98cc70;\">46.9%</td><td style=\"border: 0; background-color: #98cc70;\">50.0%</td><td style=\"border: 0; background-color: #98cc70;\">53.9%</td><td style=\"border: 0; background-color: #98cc70;\">58.9%</td><td style=\"border: 0; background-color: #98cc70;\">61.5%</td><td style=\"border: 0; background-color: #98cc70;\">70.8%</td><td style=\"border: 0; background-color: #98cc70;\">72.1%</td><td style=\"border: 0; background-color: #98cc70;\">72.3%</td><td style=\"border: 0; background-color: #98cc70;\">78.4%</td><td style=\"border: 0; background-color: #98cc70;\">86.6%</td></tr><tr style=\"border: 0\"><td style=\"border: 0; border-right: 1px solid black;\">Caffe</td><td style=\"border: 0; background-color: #98cc70;\">49.7%</td><td style=\"border: 0; background-color: #98cc70;\">52.2%</td><td style=\"border: 0; background-color: #98cc70;\">54.7%</td><td style=\"border: 0; background-color: #98cc70;\">57.6%</td><td style=\"border: 0; background-color: #98cc70;\">61.9%</td><td style=\"border: 0; background-color: #98cc70;\">66.0%</td><td style=\"border: 0; background-color: #98cc70;\">71.4%</td><td style=\"border: 0; background-color: #98cc70;\">76.3%</td><td style=\"border: 0; background-color: #98cc70;\">82.9%</td><td style=\"border: 0; background-color: #98cc70;\">96.1%</td></tr><tr style=\"border: 0\"><td style=\"border: 0; border-right: 1px solid black;\">L1 Data</td><td style=\"border: 0; background-color: #98cc70;\">45.6%</td><td style=\"border: 0; background-color: #98cc70;\">48.1%</td><td style=\"border: 0; background-color: #98cc70;\">53.0%</td><td style=\"border: 0; background-color: #98cc70;\">54.8%</td><td style=\"border: 0; background-color: #98cc70;\">83.1%</td><td style=\"border: 0; background-color: #98cc70;\">62.1%</td><td style=\"border: 0; background-color: #98cc70;\">68.0%</td><td style=\"border: 0; background-color: #98cc70;\">72.7%</td><td style=\"border: 0; background-color: #98cc70;\">81.8%</td><td style=\"border: 0; background-color: #ffeda0;\">100.2%</td></tr><tr style=\"border: 0\"><td style=\"border: 0; border-right: 1px solid black;\">L1 Instruction</td><td style=\"border: 0; background-color: #98cc70;\">46.1%</td><td style=\"border: 0; background-color: #98cc70;\">48.6%</td><td style=\"border: 0; background-color: #98cc70;\">51.6%</td><td style=\"border: 0; background-color: #98cc70;\">55.6%</td><td style=\"border: 0; background-color: #98cc70;\">59.1%</td><td style=\"border: 0; background-color: #98cc70;\">61.0%</td><td style=\"border: 0; background-color: #98cc70;\">66.6%</td><td style=\"border: 0; background-color: #98cc70;\">76.3%</td><td style=\"border: 0; background-color: #98cc70;\">80.4%</td><td style=\"border: 0; background-color: #ffeda0;\">108.9%</td></tr><tr style=\"border: 0\"><td style=\"border: 0; border-right: 1px solid black;\">L3 Data</td><td style=\"border: 0; background-color: #98cc70;\">46.3%</td><td style=\"border: 0; background-color: #98cc70;\">49.2%</td><td style=\"border: 0; background-color: #98cc70;\">52.8%</td><td style=\"border: 0; background-color: #98cc70;\">56.5%</td><td style=\"border: 0; background-color: #98cc70;\">60.2%</td><td style=\"border: 0; background-color: #98cc70;\">64.2%</td><td style=\"border: 0; background-color: #98cc70;\">68.7%</td><td style=\"border: 0; background-color: #98cc70;\">73.8%</td><td style=\"border: 0; background-color: #98cc70;\">86.4%</td><td style=\"border: 0; background-color: #ffeda0;\">109.1%</td></tr><tr style=\"border: 0\"><td style=\"border: 0; border-right: 1px solid black;\">Stream 100M</td><td style=\"border: 0; background-color: #98cc70;\">52.5%</td><td style=\"border: 0; background-color: #98cc70;\">55.0%</td><td style=\"border: 0; background-color: #98cc70;\">55.0%</td><td style=\"border: 0; background-color: #98cc70;\">58.5%</td><td style=\"border: 0; background-color: #98cc70;\">60.7%</td><td style=\"border: 0; background-color: #98cc70;\">64.7%</td><td style=\"border: 0; background-color: #98cc70;\">72.9%</td><td style=\"border: 0; background-color: #98cc70;\">75.7%</td><td style=\"border: 0; background-color: #98cc70;\">80.4%</td><td style=\"border: 0; background-color: #98cc70;\">87.4%</td></tr><tr style=\"border: 0\"><td style=\"border: 0; border-right: 1px solid black;\">memBW</td><td style=\"border: 0; background-color: #98cc70;\">45.6%</td><td style=\"border: 0; background-color: #98cc70;\">47.7%</td><td style=\"border: 0; background-color: #98cc70;\">67.6%</td><td style=\"border: 0; background-color: #98cc70;\">54.4%</td><td style=\"border: 0; background-color: #98cc70;\">58.5%</td><td style=\"border: 0; background-color: #98cc70;\">65.6%</td><td style=\"border: 0; background-color: #98cc70;\">67.5%</td><td style=\"border: 0; background-color: #98cc70;\">72.8%</td><td style=\"border: 0; background-color: #98cc70;\">78.7%</td><td style=\"border: 0; background-color: #ffeda0;\">108.2%</td></tr></table>"
      ],
      "text/plain": [
       "<IPython.core.display.HTML object>"
      ]
     },
     "execution_count": 8,
     "metadata": {},
     "output_type": "execute_result"
    }
   ],
   "source": [
    "p2 = Profile(exp2, slo=500)\n",
    "p2.sensitivity_table()"
   ]
  },
  {
   "cell_type": "code",
   "execution_count": 9,
   "metadata": {
    "collapsed": false,
    "scrolled": false
   },
   "outputs": [
    {
     "data": {
      "text/html": [
       "<div id=\"3eefa718-2773-41b7-af59-3f10987cc445\" style=\"height: 525px; width: 100%;\" class=\"plotly-graph-div\"></div><script type=\"text/javascript\">require([\"plotly\"], function(Plotly) { window.PLOTLYENV=window.PLOTLYENV || {};window.PLOTLYENV.BASE_URL=\"https://plot.ly\";Plotly.newPlot(\"3eefa718-2773-41b7-af59-3f10987cc445\", [{\"name\": \"slo\", \"mode\": \"lines\", \"y\": [500.0, 500.0, 500.0, 500.0, 500.0, 500.0, 500.0, 500.0, 500.0, 500.0], \"x\": [50000.0, 100000.0, 150000.0, 200000.0, 250000.0, 300000.0, 350000.0, 400000.0, 450000.0, 500000.0], \"line\": {\"color\": \"rgb(255, 0, 0)\", \"shape\": \"spline\"}, \"type\": \"scatter\", \"fill\": null}, {\"name\": \"swan:Baseline\", \"mode\": \"lines\", \"y\": [240.8, 252.0, 266.2, 279.7, 294.6, 313.6, 337.7, 364.3, 390.7, 446.5], \"x\": [50000.0, 100000.0, 150000.0, 200000.0, 250000.0, 300000.0, 350000.0, 400000.0, 450000.0, 500000.0], \"line\": {\"color\": \"rgb(153, 27, 35)\", \"shape\": \"spline\"}, \"type\": \"scatter\", \"fill\": null}, {\"name\": \"swan:max_aggrs\", \"mode\": \"lines\", \"y\": [274.7, 330.2, 426.5, 30855.5, 2436.8, 6142.3, 35643.4, 34717.2, 48558.6, 20407.2], \"x\": [50000.0, 100000.0, 150000.0, 200000.0, 250000.0, 300000.0, 350000.0, 400000.0, 450000.0, 500000.0], \"line\": {\"color\": \"rgb(153, 27, 35)\", \"shape\": \"spline\"}, \"type\": \"scatter\", \"fill\": \"tonexty\"}], {\"xaxis\": {\"titlefont\": {\"color\": \"lightgrey\", \"family\": \"Arial, sans-serif\", \"size\": 18}, \"title\": \"QPS\"}, \"yaxis\": {\"range\": [0, 1000], \"titlefont\": {\"color\": \"lightgrey\", \"family\": \"Arial, sans-serif\", \"size\": 18}, \"title\": \"Latency\"}}, {\"linkText\": \"Export to plot.ly\", \"showLink\": true})});</script>"
      ],
      "text/plain": [
       "<IPython.core.display.HTML object>"
      ]
     },
     "metadata": {},
     "output_type": "execute_result"
    }
   ],
   "source": [
    "p1.sensitivity_chart(fill=True, to_max=True)"
   ]
  },
  {
   "cell_type": "code",
   "execution_count": 10,
   "metadata": {
    "collapsed": false,
    "scrolled": false
   },
   "outputs": [
    {
     "data": {
      "text/html": [
       "<div id=\"fd114db9-21a0-4ad8-a41b-e73368fcc5ca\" style=\"height: 525px; width: 100%;\" class=\"plotly-graph-div\"></div><script type=\"text/javascript\">require([\"plotly\"], function(Plotly) { window.PLOTLYENV=window.PLOTLYENV || {};window.PLOTLYENV.BASE_URL=\"https://plot.ly\";Plotly.newPlot(\"fd114db9-21a0-4ad8-a41b-e73368fcc5ca\", [{\"name\": \"slo\", \"mode\": \"lines\", \"y\": [500.0, 500.0, 500.0, 500.0, 500.0, 500.0, 500.0, 500.0, 500.0, 500.0], \"x\": [50000.0, 100000.0, 150000.0, 200000.0, 250000.0, 300000.0, 350000.0, 400000.0, 450000.0, 500000.0], \"line\": {\"color\": \"rgb(255, 0, 0)\", \"shape\": \"spline\"}, \"type\": \"scatter\", \"fill\": null}, {\"name\": \"serenity:Baseline\", \"mode\": \"lines\", \"y\": [234.3, 250.0, 269.6, 294.4, 307.3, 354.2, 360.7, 361.6, 392.2, 433.1], \"x\": [50000.0, 100000.0, 150000.0, 200000.0, 250000.0, 300000.0, 350000.0, 400000.0, 450000.0, 500000.0], \"line\": {\"color\": \"rgb(153, 27, 35)\", \"shape\": \"spline\"}, \"type\": \"scatter\", \"fill\": null}, {\"name\": \"serenity:max_aggrs\", \"mode\": \"lines\", \"y\": [262.7, 275.1, 337.9, 294.4, 415.4, 354.2, 364.3, 381.5, 432.2, 545.3], \"x\": [50000.0, 100000.0, 150000.0, 200000.0, 250000.0, 300000.0, 350000.0, 400000.0, 450000.0, 500000.0], \"line\": {\"color\": \"rgb(153, 27, 35)\", \"shape\": \"spline\"}, \"type\": \"scatter\", \"fill\": \"tonexty\"}], {\"xaxis\": {\"titlefont\": {\"color\": \"lightgrey\", \"family\": \"Arial, sans-serif\", \"size\": 18}, \"title\": \"QPS\"}, \"yaxis\": {\"range\": [0, 1000], \"titlefont\": {\"color\": \"lightgrey\", \"family\": \"Arial, sans-serif\", \"size\": 18}, \"title\": \"Latency\"}}, {\"linkText\": \"Export to plot.ly\", \"showLink\": true})});</script>"
      ],
      "text/plain": [
       "<IPython.core.display.HTML object>"
      ]
     },
     "metadata": {},
     "output_type": "execute_result"
    }
   ],
   "source": [
    "p2.sensitivity_chart(fill=True, to_max=True)"
   ]
  },
  {
   "cell_type": "code",
   "execution_count": 11,
   "metadata": {
    "collapsed": false,
    "scrolled": false
   },
   "outputs": [
    {
     "data": {
      "text/html": [
       "<div id=\"60125e76-05ba-4159-86ab-f80f464b9527\" style=\"height: 525px; width: 100%;\" class=\"plotly-graph-div\"></div><script type=\"text/javascript\">require([\"plotly\"], function(Plotly) { window.PLOTLYENV=window.PLOTLYENV || {};window.PLOTLYENV.BASE_URL=\"https://plot.ly\";Plotly.newPlot(\"60125e76-05ba-4159-86ab-f80f464b9527\", [{\"name\": \"serenity:Baseline\", \"mode\": \"lines\", \"y\": [234.3, 250.0, 269.6, 294.4, 307.3, 354.2, 360.7, 361.6, 392.2, 433.1], \"x\": [50000.0, 100000.0, 150000.0, 200000.0, 250000.0, 300000.0, 350000.0, 400000.0, 450000.0, 500000.0], \"line\": {\"shape\": \"spline\"}, \"type\": \"scatter\", \"fill\": null}, {\"name\": \"swan:Baseline\", \"mode\": \"lines\", \"y\": [240.8, 252.0, 266.2, 279.7, 294.6, 313.6, 337.7, 364.3, 390.7, 446.5], \"x\": [50000.0, 100000.0, 150000.0, 200000.0, 250000.0, 300000.0, 350000.0, 400000.0, 450000.0, 500000.0], \"line\": {\"color\": \"rgb(67, 137, 23)\", \"shape\": \"spline\"}, \"type\": \"scatter\", \"fill\": \"tonexty\"}, {\"name\": \"slo\", \"mode\": \"lines\", \"y\": [500, 500, 500, 500, 500, 500, 500, 500, 500, 500, 500], \"x\": [50000.0, 100000.0, 150000.0, 200000.0, 250000.0, 300000.0, 350000.0, 400000.0, 450000.0, 500000.0, 500000.0], \"line\": {\"color\": \"rgb(255, 0, 0)\"}, \"type\": \"scatter\", \"fill\": null}], {\"xaxis\": {\"titlefont\": {\"color\": \"lightgrey\", \"family\": \"Arial, sans-serif\", \"size\": 18}, \"title\": \"QPS\"}, \"yaxis\": {\"range\": [0, 1000], \"titlefont\": {\"color\": \"lightgrey\", \"family\": \"Arial, sans-serif\", \"size\": 18}, \"title\": \"Latency\"}}, {\"linkText\": \"Export to plot.ly\", \"showLink\": true})});</script>"
      ],
      "text/plain": [
       "<IPython.core.display.HTML object>"
      ]
     },
     "metadata": {},
     "output_type": "execute_result"
    }
   ],
   "source": [
    "exps = [exp2, exp1]\n",
    "compare_experiments(exps, fill=True, to_max=False)"
   ]
  },
  {
   "cell_type": "code",
   "execution_count": 12,
   "metadata": {
    "collapsed": false
   },
   "outputs": [
    {
     "data": {
      "text/html": [
       "<div id=\"6fb64a29-a671-428d-ab97-67ef0b14a8b0\" style=\"height: 525px; width: 100%;\" class=\"plotly-graph-div\"></div><script type=\"text/javascript\">require([\"plotly\"], function(Plotly) { window.PLOTLYENV=window.PLOTLYENV || {};window.PLOTLYENV.BASE_URL=\"https://plot.ly\";Plotly.newPlot(\"6fb64a29-a671-428d-ab97-67ef0b14a8b0\", [{\"name\": \"serenity:Baseline\", \"mode\": \"lines\", \"y\": [234.3, 250.0, 269.6, 294.4, 307.3, 354.2, 360.7, 361.6, 392.2, 433.1], \"x\": [50000.0, 100000.0, 150000.0, 200000.0, 250000.0, 300000.0, 350000.0, 400000.0, 450000.0, 500000.0], \"line\": {\"shape\": \"spline\"}, \"type\": \"scatter\", \"fill\": null}, {\"name\": \"serenity:max_aggrs\", \"mode\": \"lines\", \"y\": [262.7, 275.1, 337.9, 294.4, 415.4, 354.2, 364.3, 381.5, 432.2, 545.3], \"x\": [50000.0, 100000.0, 150000.0, 200000.0, 250000.0, 300000.0, 350000.0, 400000.0, 450000.0, 500000.0], \"line\": {\"color\": \"rgb(7, 249, 128)\", \"shape\": \"spline\"}, \"type\": \"scatter\", \"fill\": \"tonexty\"}, {\"name\": \"swan:Baseline\", \"mode\": \"lines\", \"y\": [240.8, 252.0, 266.2, 279.7, 294.6, 313.6, 337.7, 364.3, 390.7, 446.5], \"x\": [50000.0, 100000.0, 150000.0, 200000.0, 250000.0, 300000.0, 350000.0, 400000.0, 450000.0, 500000.0], \"line\": {\"shape\": \"spline\"}, \"type\": \"scatter\", \"fill\": null}, {\"name\": \"swan:max_aggrs\", \"mode\": \"lines\", \"y\": [274.7, 330.2, 426.5, 30855.5, 2436.8, 6142.3, 35643.4, 34717.2, 48558.6, 20407.2], \"x\": [50000.0, 100000.0, 150000.0, 200000.0, 250000.0, 300000.0, 350000.0, 400000.0, 450000.0, 500000.0], \"line\": {\"color\": \"rgb(229, 71, 13)\", \"shape\": \"spline\"}, \"type\": \"scatter\", \"fill\": \"tonexty\"}, {\"name\": \"slo\", \"mode\": \"lines\", \"y\": [500, 500, 500, 500, 500, 500, 500, 500, 500, 500, 500], \"x\": [50000.0, 100000.0, 150000.0, 200000.0, 250000.0, 300000.0, 350000.0, 400000.0, 450000.0, 500000.0, 500000.0], \"line\": {\"color\": \"rgb(255, 0, 0)\"}, \"type\": \"scatter\", \"fill\": null}], {\"xaxis\": {\"titlefont\": {\"color\": \"lightgrey\", \"family\": \"Arial, sans-serif\", \"size\": 18}, \"title\": \"QPS\"}, \"yaxis\": {\"range\": [0, 1000], \"titlefont\": {\"color\": \"lightgrey\", \"family\": \"Arial, sans-serif\", \"size\": 18}, \"title\": \"Latency\"}}, {\"linkText\": \"Export to plot.ly\", \"showLink\": true})});</script>"
      ],
      "text/plain": [
       "<IPython.core.display.HTML object>"
      ]
     },
     "metadata": {},
     "output_type": "execute_result"
    }
   ],
   "source": [
    "exps = [exp2, exp1]\n",
    "compare_experiments(exps, fill=True, to_max=True)"
   ]
  }
 ],
 "metadata": {
  "kernelspec": {
   "display_name": "Python 2",
   "language": "python",
   "name": "python2"
  },
  "language_info": {
   "codemirror_mode": {
    "name": "ipython",
    "version": 2.0
   },
   "file_extension": ".py",
   "mimetype": "text/x-python",
   "name": "python",
   "nbconvert_exporter": "python",
   "pygments_lexer": "ipython2",
   "version": "2.7.12"
  }
 },
 "nbformat": 4,
 "nbformat_minor": 0
}