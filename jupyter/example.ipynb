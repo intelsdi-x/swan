{
 "cells": [
  {
   "cell_type": "markdown",
   "metadata": {},
   "source": [
    "### Before start the experiment, please fill `IP` and `PORT` of cassandra cluster and `EXPERIMENT_ID`"
   ]
  },
  {
   "cell_type": "code",
   "execution_count": null,
   "metadata": {
    "collapsed": true
   },
   "outputs": [],
   "source": [
    "IP = '127.0.0.1'"
   ]
  },
  {
   "cell_type": "code",
   "execution_count": null,
   "metadata": {
    "collapsed": true
   },
   "outputs": [],
   "source": [
    "PORT = 9042"
   ]
  },
  {
   "cell_type": "code",
   "execution_count": null,
   "metadata": {
    "collapsed": true
   },
   "outputs": [],
   "source": [
    "EXPERIMENT_ID_SWAN = \"cf0e7a39-05df-4e1a-5c2e-03548be9a9b4\""
   ]
  },
  {
   "cell_type": "code",
   "execution_count": null,
   "metadata": {
    "collapsed": true
   },
   "outputs": [],
   "source": [
    "# get work done by aggressor by specify ns prefix in cassandra\n",
    "AGGRESSOR_THROUGHPUT_NAMESPACES_PREFIXES = (\n",
    "    '/intel/swan/caffe/inference',  # Caffe\n",
    ")"
   ]
  },
  {
   "cell_type": "code",
   "execution_count": null,
   "metadata": {
    "collapsed": true
   },
   "outputs": [],
   "source": [
    "# Helper imports and functions for displaing charts"
   ]
  },
  {
   "cell_type": "code",
   "execution_count": null,
   "metadata": {
    "collapsed": false
   },
   "outputs": [],
   "source": [
    "#The experiment module contains the entry point for swan experiment data.\n",
    "from experiment import Experiment"
   ]
  },
  {
   "cell_type": "code",
   "execution_count": null,
   "metadata": {
    "collapsed": false
   },
   "outputs": [],
   "source": [
    "#The profile module produce the sensitivity profile as found in the \n",
    "# Heracles paper (http://csl.stanford.edu/~christos/publications/2015.heracles.isca.pdf).\n",
    "from profile import Profile"
   ]
  },
  {
   "cell_type": "code",
   "execution_count": null,
   "metadata": {
    "collapsed": false
   },
   "outputs": [],
   "source": [
    "# An experiment can now be loaded from the database by its ID.\n",
    "exp1 = Experiment(cassandra_cluster=[IP], \n",
    "                  experiment_id=EXPERIMENT_ID_SWAN, port=PORT, name=\"experiment 1\", \n",
    "                  aggressor_throughput_namespaces_prefixes=AGGRESSOR_THROUGHPUT_NAMESPACES_PREFIXES)"
   ]
  },
  {
   "cell_type": "code",
   "execution_count": null,
   "metadata": {
    "collapsed": false
   },
   "outputs": [],
   "source": [
    "exp1"
   ]
  },
  {
   "cell_type": "code",
   "execution_count": null,
   "metadata": {
    "collapsed": false,
    "scrolled": false
   },
   "outputs": [],
   "source": [
    "p1 = Profile(exp1, slo=500)\n",
    "p1.sensitivity_table()"
   ]
  },
  {
   "cell_type": "code",
   "execution_count": null,
   "metadata": {
    "collapsed": false,
    "scrolled": false
   },
   "outputs": [],
   "source": [
    "p1.sensitivity_chart(fill=True, to_max=True)"
   ]
  }
 ],
 "metadata": {
  "kernelspec": {
   "display_name": "Python 2",
   "language": "python",
   "name": "python2"
  },
  "language_info": {
   "codemirror_mode": {
    "name": "ipython",
    "version": 2.0
   },
   "file_extension": ".py",
   "mimetype": "text/x-python",
   "name": "python",
   "nbconvert_exporter": "python",
   "pygments_lexer": "ipython2",
   "version": "2.7.12"
  }
 },
 "nbformat": 4,
 "nbformat_minor": 0
}